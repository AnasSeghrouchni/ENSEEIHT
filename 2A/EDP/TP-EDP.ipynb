{
 "cells": [
  {
   "cell_type": "code",
   "execution_count": 1,
   "metadata": {},
   "outputs": [],
   "source": [
    "import matplotlib.pyplot as plt\n",
    "import mpl_toolkits.mplot3d\n",
    "import numpy as np\n",
    "import scipy.sparse as scps\n",
    "import scipy.sparse.linalg as ssl\n",
    "import math"
   ]
  },
  {
   "cell_type": "code",
   "execution_count": 2,
   "metadata": {},
   "outputs": [],
   "source": [
    "def maillage(n):\n",
    "#\n",
    "# Une discretisation possible d'une EDP elliptique sur le domaine ]0,1[ x ]0,1[\n",
    "# Le carre [0,1]x[0,1] est maille uniquement avec des triangles; \n",
    "# Les conditions limites sont de type Dirichlet uniquement   => neumann  =[];\n",
    "#\n",
    "# Entrees :\n",
    "# n : nombre de points par cote du carre => Npts points de discretisation au\n",
    "# total\n",
    "#\n",
    "# Sorties :\n",
    "# coordinates : matrice a deux colonnes. Chaque ligne contient les \n",
    "# coordonnes 2D d'un des points de la discretisation. Ces sommets seront \n",
    "# identifies a l'indice de la ligne correspondante dans la matrice\n",
    "# coordinates.\n",
    "# elements3 : matrice a trois colonnes. Chaque ligne contient les indices \n",
    "# des sommets d'un element triangle, dans le sens antihoraire. \n",
    "# dirichlet : vecteur colonne des indices des sommets de la frontiere de\n",
    "# Dirichlet.\n",
    "# neumann : matrice a deux colonnes. Chaque ligne contient les indices \n",
    "# des deux sommets d'une arete de la frontiere de Neumann.\n",
    "# (neumann est vide sur cet exemple)\n",
    "#\n",
    "##################################################################################\n",
    "    h=1/(n-1)\n",
    "    npoin       = n*n ; \n",
    "    nelem       = 2*(n-1)*(n-1) ;\n",
    "    coordinates = np.zeros((npoin,2)); \n",
    "    elements3   = (np.zeros((nelem,3))).astype(int) ;\n",
    "    neumann     = [];\n",
    "    dirichlet=(np.zeros((4*n-4,1))).astype(int)\n",
    "    # Coordonnees et connectivites :\n",
    "    e = -1 ; \n",
    "    p = -1 ;\n",
    "    x=np.zeros((n+1,1))\n",
    "    x[n,0]=1.\n",
    "    for l in range (n+1):\n",
    "        x[l,0]=l*h\n",
    "    for j in range (n):\n",
    "            for i in range(n):\n",
    "                p = p + 1  \n",
    "                coordinates[p,0] = x[i,0]  \n",
    "                coordinates[p,1] = x[j,0] \n",
    "                if ((i != n-1) & (j != n-1)):\n",
    "                    p1 = p\n",
    "                    p2 = p1 + 1 \n",
    "                    p3 = p1 + n \n",
    "                    p4 = p2 + n \n",
    "                    e = e + 1 \n",
    "                    elements3[e,0] = p1 \n",
    "                    elements3[e,1] = p2 \n",
    "                    elements3[e,2] = p3 \n",
    "                    e = e + 1\n",
    "                    elements3[e,0] = p4 \n",
    "                    elements3[e,1] = p3 \n",
    "                    elements3[e,2] = p2 \n",
    "    #Liste des sommets de la frontiere de Dirichlet:\n",
    "    p=-1\n",
    "    for j in range(n):\n",
    "        p=p+1\n",
    "        dirichlet[p,0] = j  \n",
    "    for j in range(n*2-1,n*(n-1),n):\n",
    "        p=p+1\n",
    "        dirichlet[p,0] = j \n",
    "    for j in range(n*n-1,n*n-n-1,-1):\n",
    "        p=p+1\n",
    "        dirichlet[p,0] = j \n",
    "    for j in range(n*n-2*n,n-1,-n):\n",
    "        p=p+1\n",
    "        dirichlet[p,0] = j \n",
    "\n",
    "    return coordinates, elements3, dirichlet, neumann"
   ]
  },
  {
   "cell_type": "code",
   "execution_count": 3,
   "metadata": {},
   "outputs": [],
   "source": [
    "def show(coordinates,u):\n",
    "#\n",
    "# Fonction d'affichage de la solution u sur le maillage defini par\n",
    "# elements3, coordinates.\n",
    "#\n",
    "# Entrees:\n",
    "# elements3 : matrice a trois colonnes contenant les elements triangles\n",
    "# de la discretisation, identifies par les indices de leurs trois\n",
    "# sommets.\n",
    "# coordinates : matrice a deux colonnes contenant les coordonnes 2D des\n",
    "# points de la discretisation.\n",
    "# u : vecteur colonne de longueur egale au nombre de lignes de\n",
    "# coordinates contenant les valeurs de la solution a afficher aux\n",
    "# points de la discretisation.\n",
    "#\n",
    "# Sorties : Aucune, mais la fonction doit s'afficher dans une figure.\n",
    "##########################################################################\n",
    "    ax= plt.figure().add_subplot(projection='3d')\n",
    "    ax.plot_trisurf(coordinates[:,0],coordinates[:,1],u,linewidth=0.2,antialiased=True)\n",
    "    plt.show()"
   ]
  },
  {
   "cell_type": "markdown",
   "metadata": {},
   "source": [
    "**Partie I : maillage triangulaire et conditions de Dirichlet**"
   ]
  },
  {
   "cell_type": "code",
   "execution_count": 22,
   "metadata": {},
   "outputs": [],
   "source": [
    "def mat_raideur_elementaire(indice, elements3, coordinates, f):\n",
    "    #récupère les points du triangle\n",
    "    triangle = elements3[indice]\n",
    "    #récupère les coordonées des points\n",
    "    [x1,y1] = coordinates[triangle[0]]\n",
    "    [x2,y2] = coordinates[triangle[1]]\n",
    "    [x3,y3] = coordinates[triangle[2]]\n",
    "    #calcul de alpha\n",
    "    alpha = (x2 - x1)*(y3 - y1) - (y2 - y1)*(x3 -x1)\n",
    "    #calcul des gradients\n",
    "    gradients = np.zeros((3,2))\n",
    "    gradients[0] = np.multiply([y2 - y3, x3 - x2],(1/alpha))\n",
    "    gradients[1] = np.multiply([y3 - y1, x1 - x3],(1/alpha))\n",
    "    gradients[2] = np.multiply([y1 - y2, x2 - x1],(1/alpha))\n",
    "    #calcul de l'aire du triangle\n",
    "    T = alpha / 2\n",
    "    #calcul de M\n",
    "    M = T * np.dot(gradients,np.transpose(gradients))\n",
    "    #calcul du second terme\n",
    "    #calcul du barycentre\n",
    "    xg = (x1+x2+x3) / 3\n",
    "    yg = (y1+y2+y3) / 3\n",
    "    z = (alpha / 6)*f(xg, yg)\n",
    "    return [M, z]\n",
    "\n",
    "\n",
    "def assemblage_A(elements3, coordinates, ud, dirichlet, f):\n",
    "    #récupère le nombre de triangles\n",
    "    Nt = len(elements3)\n",
    "    #récupère le nombre de points\n",
    "    Np = len(coordinates)\n",
    "    #création de la matrice A et b\n",
    "    A = np.zeros((Np, Np))\n",
    "    b = np.zeros(Np)\n",
    "    uh = np.zeros(Np)\n",
    "    for l in dirichlet:\n",
    "        uh[l[0]] = ud(coordinates[l[0]][0], coordinates[l[0]][1])\n",
    "    #On boucle sur les triangles\n",
    "    for i in range (0,Nt):\n",
    "        [Mt, z] = mat_raideur_elementaire(i, elements3, coordinates, f)\n",
    "        triangle = elements3[i]\n",
    "        for ii in range(3):\n",
    "            for jj in range (3):\n",
    "                A[triangle[ii]][triangle[jj]] += Mt[ii][jj]\n",
    "            b[triangle[ii]] += z\n",
    "    b = b - np.dot(A,uh)\n",
    "    return A,b\n",
    "\n",
    "\n",
    "#sous matrice de A en enlevant les valeurs à la frontière\n",
    "def sous_matrice(A, b, dirichlet, n):\n",
    "    indice = np.setdiff1d(np.array(range(n*n)), dirichlet)\n",
    "    Abis = A[indice]\n",
    "    Abis = np.transpose(Abis)\n",
    "    Abis = Abis[indice]\n",
    "    Abis = np.transpose(Abis)\n",
    "    bbis = b[indice]\n",
    "    return Abis,bbis,indice\n",
    "                          \n",
    "    "
   ]
  },
  {
   "cell_type": "code",
   "execution_count": 92,
   "metadata": {},
   "outputs": [
    {
     "data": {
      "image/png": "[encoded data removed]",
      "text/plain": [
       "<Figure size 432x288 with 1 Axes>"
      ]
     },
     "metadata": {
      "needs_background": "light"
     },
     "output_type": "display_data"
    }
   ],
   "source": [
    "n = 4\n",
    "coordinates, elements3, dirichlet, neumann = maillage(n)\n",
    "def ud(x,y):\n",
    "    return 0\n",
    "\n",
    "def f(x,y):\n",
    "    return 1\n",
    "[A, b] = assemblage_A(elements3, coordinates, ud, dirichlet, f)\n",
    "Abis,bbis,indice = sous_matrice(A,b,dirichlet,n)\n",
    "u = np.zeros(n*n)\n",
    "for i in dirichlet:\n",
    "    u[i[0]] = ud(coordinates[i[0]][0],coordinates[i[0]][1])\n",
    "u[indice] = np.linalg.solve(Abis, bbis)\n",
    "show(coordinates,u)"
   ]
  },
  {
   "cell_type": "code",
   "execution_count": 24,
   "metadata": {},
   "outputs": [
    {
     "name": "stdout",
     "output_type": "stream",
     "text": [
      "5.929388807984403\n"
     ]
    }
   ],
   "source": [
    "print(np.linalg.norm(u-(np.sin(np.pi*coordinates[:,0])*np.sin(np.pi*coordinates[:,1]))/(2*np.pi**2)))"
   ]
  },
  {
   "cell_type": "code",
   "execution_count": 25,
   "metadata": {},
   "outputs": [
    {
     "name": "stdout",
     "output_type": "stream",
     "text": [
      "[ 0  1  2  3  4  5  6  7  8  9 19 29 39 49 59 69 79 89 99 98 97 96 95 94\n",
      " 93 92 91 90 80 70 60 50 40 30 20 10]\n"
     ]
    }
   ],
   "source": [
    "i = np.array([1, 3])\n",
    "A = np.array([[1,2,3,4], [5,6,7,8], [5,6,7,8], [5,6,7,8]])\n",
    "\n",
    "print(dirichlet.flatten())"
   ]
  },
  {
   "cell_type": "markdown",
   "metadata": {},
   "source": [
    "**Partie II : maillage mixte et ajoût des conditions de Neumann**"
   ]
  },
  {
   "cell_type": "code",
   "execution_count": 80,
   "metadata": {},
   "outputs": [],
   "source": [
    "def mat_raideur_elementaire_quadrangle(indice, elements4, coordinates, f):\n",
    "    #récupère les points du triangle\n",
    "    quadrangle = elements4[indice]\n",
    "    #récupère les coordonées des points\n",
    "    [x1,y1] = coordinates[quadrangle[0]]\n",
    "    [x2,y2] = coordinates[quadrangle[1]]\n",
    "    [x3,y3] = coordinates[quadrangle[2]]\n",
    "    [x4,y4] = coordinates[quadrangle[3]]\n",
    "    #calcul de alpha\n",
    "    alpha = ((x2 - x1)*(y4 - y1) - (y2 - y1)*(x4 -x1))/6\n",
    "    #Calcul de la matrice M\n",
    "    M = np.zeros((4,4))\n",
    "    #Calcul des coordonnées de [J'J]**(-1)\n",
    "    J = np.zeros((2,2))\n",
    "    J[0,0] = (x2 - x1)\n",
    "    J[1,0] = (y2 - y1)\n",
    "    J[0,1] = (x4 - x1)\n",
    "    J[1,1] = (y4 - y1)\n",
    "    P = np.dot(np.transpose(J),J)\n",
    "    #calcul des coefs\n",
    "    det =P[1,1]*P[0,0] - P[1,0]**2\n",
    "    a = P[1,1]/det\n",
    "    b = -P[1,0]/det\n",
    "    c = P[0,0]/det\n",
    "    #calcul de M\n",
    "    M[0,0] = 2*a+3*b+2*c\n",
    "    M[1,1] = 2*a-3*b+2*c\n",
    "    M[2,2] = 2*a+3*b+2*c\n",
    "    M[3,3] = 2*a-3*b+2*c\n",
    "    M[1,0] = -2*a+c\n",
    "    M[0,1] = -2*a+c\n",
    "    M[2,0] = -a-3*b-c\n",
    "    M[0,2] = -a-3*b-c\n",
    "    M[2,1] = a-2*c\n",
    "    M[1,2] = a-2*c\n",
    "    M[3,0] = a-2*c\n",
    "    M[0,3] = a-2*c\n",
    "    M[3,1] = -a+3*b-c\n",
    "    M[1,3] = -a+3*b-c\n",
    "    M[3,2] = -2*a+c\n",
    "    M[2,3] = -2*a+c\n",
    "    #calcul du second terme\n",
    "    #calcul du barycentre\n",
    "    xg = (x1+x3) / 2\n",
    "    yg = (y1+y3) / 2\n",
    "    z = ((alpha*6)/4)*f(xg, yg)\n",
    "    return [M, z]\n",
    "\n",
    "\n",
    "\n",
    "def assemblage_mixte_A(elements3, elements4, coordinates, ud, g, f, dirichlet, neumann):\n",
    "    #récupère le nombre de triangles\n",
    "    Nt = len(elements3)\n",
    "    #récupère le nombre de quadrangle\n",
    "    Nq = len(elements4)\n",
    "    #récupère le nombre de points\n",
    "    Np = len(coordinates)\n",
    "    #création de la matrice A et b\n",
    "    A = np.zeros((Np, Np))\n",
    "    b = np.zeros(Np)\n",
    "    uh = np.zeros(Np)\n",
    "    for l in dirichlet:\n",
    "        uh[l] = ud(coordinates[l][0], coordinates[l][1])\n",
    "        \n",
    "    #On boucle sur les triangles \n",
    "    for i in range (0,Nt):\n",
    "        [Mt, z] = mat_raideur_elementaire(i, elements3, coordinates, f)\n",
    "        triangle = elements3[i]\n",
    "    for ii in range(3):\n",
    "        for jj in range (3):\n",
    "            A[triangle[ii]][triangle[jj]] += Mt[ii][jj]\n",
    "        b[triangle[ii]] += z\n",
    "    b = b - np.dot(A,uh)\n",
    "\n",
    "    #On boucle sur les quadrangles\n",
    "    for i in range (0,Nq):\n",
    "        [Mt, z] = mat_raideur_elementaire_quadrangle(i, elements4, coordinates, f)\n",
    "        quadrangle = elements4[i]\n",
    "        for ii in range(4):\n",
    "            for jj in range (4):\n",
    "                A[quadrangle[ii]][quadrangle[jj]] += Mt[ii][jj]  \n",
    "    for i in range(Np):\n",
    "        s = 0\n",
    "        for k in neumann:\n",
    "            if i in k:\n",
    "                [xd, yd] = coordinates[k[0]]\n",
    "                [xq, yq] = coordinates[k[1]]\n",
    "                b[i] += (1/2)*(math.sqrt((xd-xq)**2+(yd-yq)**2))*g((xd+xq)/2,(yd + yq)/2)\n",
    "    return A,b\n",
    "\n",
    "\n"
   ]
  },
  {
   "cell_type": "code",
   "execution_count": 94,
   "metadata": {},
   "outputs": [
    {
     "name": "stdout",
     "output_type": "stream",
     "text": [
      "[2.80804492e-05 8.31181296e-04 2.80804492e-05 1.12321797e-04\n",
      " 1.31978111e-04 1.12321797e-04]\n",
      "[ 1  3  5 12 13 14]\n"
     ]
    },
    {
     "data": {
      "image/png": "[encoded data removed]",
      "text/plain": [
       "<Figure size 432x288 with 1 Axes>"
      ]
     },
     "metadata": {
      "needs_background": "light"
     },
     "output_type": "display_data"
    }
   ],
   "source": [
    "############################# Maillage mixte ################\n",
    "e3=np.array([[1,2,12],[2,3,12],[3,4,14],[4,5,14],[2,15,3],[3,15,4]]).astype(int)\n",
    "e4=np.array([[0,1,12,11],[11,12,13,10],[12,3,14,13],[10,13,8,9],[13,14,7,8],[14,5,6,7]]).astype(int)\n",
    "dds=np.array([2,15,4,6,7,8,9,10,11,0]).astype(int)\n",
    "nns=np.array([[4,5],[5,6],[0,1],[1,2]]).astype(int)\n",
    "ccs=np.array([[0.,0.],[0.33333333333333,0],[0.53333333333333,0.],\n",
    "                      [0.66666666666667,0.33333333333333],[1.,0.47],[1,0.66666666666667],\n",
    "                     [1.,1.],[0.66666666666667,1.],[0.33333333333333,1.], [0.,1.],\n",
    "                     [0.,0.66666666666667],[0.,0.33333333333333],[0.33333333333333,0.33333333333333],\n",
    "                     [0.33333333333333,0.66666666666667],[0.66666666666667,0.66666666666667],[1.,0.]])\n",
    "n = 4\n",
    "def g(x,y):\n",
    "    return 0\n",
    "\n",
    "def ud(x,y):\n",
    "    return 0\n",
    "\n",
    "def f(x,y):\n",
    "    return 1\n",
    "\n",
    "[A, b] = assemblage_mixte_A(e3, e4, ccs, ud, g, f, dds, nns)\n",
    "Abis,bbis,indice = sous_matrice(A,b,dds,n)\n",
    "print(np.linalg.solve(Abis, bbis))\n",
    "u = np.zeros(n*n)\n",
    "for i in dds:\n",
    "    u[i] = ud(ccs[i][0],ccs[i][1])\n",
    "u[indice] = np.linalg.solve(Abis, bbis)\n",
    "print(indice)\n",
    "show(ccs,u)"
   ]
  },
  {
   "cell_type": "code",
   "execution_count": 28,
   "metadata": {},
   "outputs": [
    {
     "name": "stdout",
     "output_type": "stream",
     "text": [
      "[]\n"
     ]
    }
   ],
   "source": [
    "print(neumann)"
   ]
  },
  {
   "cell_type": "markdown",
   "metadata": {},
   "source": [
    "**Compléments  :  un nouveau terme dans l'EDP**"
   ]
  },
  {
   "cell_type": "code",
   "execution_count": null,
   "metadata": {},
   "outputs": [],
   "source": []
  },
  {
   "cell_type": "code",
   "execution_count": null,
   "metadata": {},
   "outputs": [],
   "source": []
  }
 ],
 "metadata": {
  "kernelspec": {
   "display_name": "Python 3",
   "language": "python",
   "name": "python3"
  },
  "language_info": {
   "codemirror_mode": {
    "name": "ipython",
    "version": 3
   },
   "file_extension": ".py",
   "mimetype": "text/x-python",
   "name": "python",
   "nbconvert_exporter": "python",
   "pygments_lexer": "ipython3",
   "version": "3.8.10"
  }
 },
 "nbformat": 4,
 "nbformat_minor": 4
}
