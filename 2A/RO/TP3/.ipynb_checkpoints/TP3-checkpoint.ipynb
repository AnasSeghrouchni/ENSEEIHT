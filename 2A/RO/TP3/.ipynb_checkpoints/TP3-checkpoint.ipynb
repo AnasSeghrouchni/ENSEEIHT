{
 "cells": [
  {
   "cell_type": "code",
   "execution_count": 6,
   "metadata": {},
   "outputs": [],
   "source": [
    "# Récuperation des données"
   ]
  },
  {
   "cell_type": "code",
   "execution_count": 2,
   "metadata": {},
   "outputs": [
    {
     "data": {
      "text/plain": [
       "readKnaptxtInstance (generic function with 1 method)"
      ]
     },
     "execution_count": 2,
     "metadata": {},
     "output_type": "execute_result"
    }
   ],
   "source": [
    "function readKnaptxtInstance(filename)\n",
    "    price=[]\n",
    "    weight=[]\n",
    "    KnapCap=[]\n",
    "    open(filename) do f\n",
    "        for i in 1:3\n",
    "            tok = split(readline(f))\n",
    "            if(tok[1] == \"ListPrices=\")\n",
    "                for i in 2:(length(tok)-1)\n",
    "                    push!(price,parse(Int64, tok[i]))\n",
    "                end\n",
    "            elseif(tok[1] == \"ListWeights=\")\n",
    "                for i in 2:(length(tok)-1)\n",
    "                    push!(weight,parse(Int64, tok[i]))\n",
    "                end\n",
    "            elseif(tok[1] == \"Capacity=\")\n",
    "                push!(KnapCap, parse(Int64, tok[2]))\n",
    "            else\n",
    "                println(\"Unknown read :\", tok)\n",
    "            end \n",
    "        end\n",
    "    end\n",
    "    capacity=KnapCap[1]\n",
    "    return price, weight, capacity\n",
    "end"
   ]
  },
  {
   "cell_type": "code",
   "execution_count": 3,
   "metadata": {},
   "outputs": [
    {
     "data": {
      "text/plain": [
       "creerTab (generic function with 1 method)"
      ]
     },
     "execution_count": 3,
     "metadata": {},
     "output_type": "execute_result"
    }
   ],
   "source": [
    "function creerTab(price,weight,capacity)\n",
    "    n = length(price)\n",
    "    m = capacity\n",
    "    # on initialise un tableau contenant la valeur max et l'historique des objets pris\n",
    "    C = [(0, []) for i in 1:n, j in 1:(m+1)]\n",
    "    # on remplit la première ligne\n",
    "    for j in 2:(m+1)\n",
    "        # on regarde si le poids de l'objet et plus petit que notre poids maximal permis j\n",
    "        # si oui, on ajoute l'objet 1 à l'historique ainsi que sa valeur\n",
    "        if (j > weight[1])\n",
    "            C[1,j] = (price[1], [1])\n",
    "        end\n",
    "    end\n",
    "    #on remplit les autres lignes\n",
    "    for i in 2:n\n",
    "        for j in 2:(m+1)\n",
    "            # on regarde si C[i, j - Wi] existe\n",
    "            # si non, on prend la valeur du dessus\n",
    "            if (j-weight[i] <= 0)\n",
    "                C[i,j] = C[i-1,j]\n",
    "            else\n",
    "                # si oui, on applique la relation de récurrence\n",
    "                if C[i-1,j][1] >= C[i-1,j-weight[i]][1]+price[i]\n",
    "                    C[i,j] = C[i-1,j]\n",
    "                else\n",
    "                    l = copy(C[i-1,j-weight[i]][2])\n",
    "                    C[i,j] = (C[i-1,j-weight[i]][1]+price[i], push!(l,i))\n",
    "                end\n",
    "            end\n",
    "        end\n",
    "    end\n",
    "    resultat = C\n",
    "    return resultat\n",
    "end"
   ]
  },
  {
   "cell_type": "markdown",
   "metadata": {},
   "source": [
    "On remarque que les objets choisis sont ceux ayant le rapport valeur/poids le plus élévé et dont la somme des poids est proche de notre capacité. Ce qui semble être une bonne solution à notre problème."
   ]
  },
  {
   "cell_type": "code",
   "execution_count": 4,
   "metadata": {},
   "outputs": [
    {
     "data": {
      "text/plain": [
       "4×11 Matrix{Tuple{Int64, Vector{Any}}}:\n",
       " (0, [])  (0, [])  (0, [])  (0, [])    …  (42, [1])     (42, [1])\n",
       " (0, [])  (0, [])  (0, [])  (0, [])       (42, [1])     (42, [1])\n",
       " (0, [])  (0, [])  (0, [])  (12, [3])     (52, [2, 3])  (54, [1, 3])\n",
       " (0, [])  (0, [])  (0, [])  (12, [3])     (65, [2, 4])  (65, [2, 4])"
      ]
     },
     "execution_count": 4,
     "metadata": {},
     "output_type": "execute_result"
    }
   ],
   "source": [
    "prix,poids,cap = readKnaptxtInstance(\"instancesETU/KNAPnewformat/test.opb.txt\")\n",
    "r = creerTab(prix,poids,cap)"
   ]
  },
  {
   "cell_type": "markdown",
   "metadata": {},
   "source": [
    "La valeur maximal du sac à dos est de 65 pour une capacité de 10, avec les objets 2 et 4"
   ]
  },
  {
   "cell_type": "code",
   "execution_count": 5,
   "metadata": {},
   "outputs": [
    {
     "data": {
      "text/plain": [
       "100×9985 Matrix{Tuple{Int64, Vector{Any}}}:\n",
       " (0, [])  …  (1479, [1])\n",
       " (0, [])     (8811, [1, 2])\n",
       " (0, [])     (11726, [1, 3])\n",
       " (0, [])     (11726, [1, 3])\n",
       " (0, [])     (11726, [1, 3])\n",
       " (0, [])  …  (11726, [1, 3])\n",
       " (0, [])     (11838, [1, 5, 7])\n",
       " (0, [])     (13977, [1, 2, 5, 8])\n",
       " (0, [])     (13977, [1, 2, 5, 8])\n",
       " (0, [])     (13977, [1, 2, 5, 8])\n",
       " (0, [])  …  (14607, [1, 5, 8, 9, 11])\n",
       " (0, [])     (14607, [1, 5, 8, 9, 11])\n",
       " (0, [])     (14714, [1, 5, 8, 9, 13])\n",
       " ⋮        ⋱  \n",
       " (0, [])     (23965, [1, 5, 11, 13, 14, 19, 24, 26, 33, 37, 38, 56, 65, 82])\n",
       " (0, [])     (23965, [1, 5, 11, 13, 14, 19, 24, 26, 33, 37, 38, 56, 65, 82])\n",
       " (0, [])  …  (23965, [1, 5, 11, 13, 14, 19, 24, 26, 33, 37, 38, 56, 65, 82])\n",
       " (0, [])     (23965, [1, 5, 11, 13, 14, 19, 24, 26, 33, 37, 38, 56, 65, 82])\n",
       " (0, [])     (23965, [1, 5, 11, 13, 14, 19, 24, 26, 33, 37, 38, 56, 65, 82])\n",
       " (0, [])     (23965, [1, 5, 11, 13, 14, 19, 24, 26, 33, 37, 38, 56, 65, 82])\n",
       " (0, [])     (23965, [1, 5, 11, 13, 14, 19, 24, 26, 33, 37, 38, 56, 65, 82])\n",
       " (0, [])  …  (23965, [1, 5, 11, 13, 14, 19, 24, 26, 33, 37, 38, 56, 65, 82])\n",
       " (0, [])     (23965, [1, 5, 11, 13, 14, 19, 24, 26, 33, 37, 38, 56, 65, 82])\n",
       " (0, [])     (23965, [1, 5, 11, 13, 14, 19, 24, 26, 33, 37, 38, 56, 65, 82])\n",
       " (0, [])     (23965, [1, 5, 11, 13, 14, 19, 24, 26, 33, 37, 38, 56, 65, 82])\n",
       " (0, [])     (23965, [1, 5, 11, 13, 14, 19, 24, 26, 33, 37, 38, 56, 65, 82])"
      ]
     },
     "execution_count": 5,
     "metadata": {},
     "output_type": "execute_result"
    }
   ],
   "source": [
    "prix,poids,cap = readKnaptxtInstance(\"instancesETU/KNAPnewformat/almost_strongly_correlated/knapPI_5_100_10000_1_-23965.opb.txt\")\n",
    "r = creerTab(prix,poids,cap)"
   ]
  },
  {
   "cell_type": "markdown",
   "metadata": {},
   "source": [
    "La valeur maximal du sac à dos est de 23965 pour une capacité de 9984.\n",
    "On retrouve le résultat du TP2, dans ce cas le BRANCH AND BOUND a envoyé la solution exacte."
   ]
  },
  {
   "cell_type": "code",
   "execution_count": 6,
   "metadata": {},
   "outputs": [
    {
     "data": {
      "text/plain": [
       "300×1466 Matrix{Tuple{Int64, Vector{Any}}}:\n",
       " (0, [])  …  (403, [1])\n",
       " (0, [])     (1289, [1, 2])\n",
       " (0, [])     (2103, [1, 2, 3])\n",
       " (0, [])     (2103, [1, 2, 3])\n",
       " (0, [])     (2272, [1, 2, 5])\n",
       " (0, [])  …  (2829, [1, 3, 5, 6])\n",
       " (0, [])     (2863, [1, 5, 6, 7])\n",
       " (0, [])     (2863, [1, 5, 6, 7])\n",
       " (0, [])     (2942, [1, 2, 3, 9])\n",
       " (0, [])     (2942, [1, 2, 3, 9])\n",
       " (0, [])  …  (2942, [1, 2, 3, 9])\n",
       " (0, [])     (3049, [6, 9, 10, 12])\n",
       " (0, [])     (3049, [6, 9, 10, 12])\n",
       " ⋮        ⋱  ⋮\n",
       " (0, [])     (7718, [1, 15, 32, 43, 45, 57, 74, 79, 82, 85  …  212, 228, 232, 242, 246, 249, 264, 270, 273, 279])\n",
       " (0, [])     (7718, [1, 15, 32, 43, 45, 57, 74, 79, 82, 85  …  212, 228, 232, 242, 246, 249, 264, 270, 273, 279])\n",
       " (0, [])  …  (7718, [1, 15, 32, 43, 45, 57, 74, 79, 82, 85  …  212, 228, 232, 242, 246, 249, 264, 270, 273, 279])\n",
       " (0, [])     (7718, [1, 15, 32, 43, 45, 57, 74, 79, 82, 85  …  212, 228, 232, 242, 246, 249, 264, 270, 273, 279])\n",
       " (0, [])     (7718, [1, 15, 32, 43, 45, 57, 74, 79, 82, 85  …  212, 228, 232, 242, 246, 249, 264, 270, 273, 279])\n",
       " (0, [])     (7718, [1, 15, 32, 43, 45, 57, 74, 79, 82, 85  …  212, 228, 232, 242, 246, 249, 264, 270, 273, 279])\n",
       " (0, [])     (7899, [1, 15, 43, 45, 57, 74, 79, 82, 85, 107  …  228, 242, 246, 249, 264, 268, 270, 273, 279, 295])\n",
       " (0, [])  …  (7899, [1, 15, 43, 45, 57, 74, 79, 82, 85, 107  …  228, 242, 246, 249, 264, 268, 270, 273, 279, 295])\n",
       " (0, [])     (7899, [1, 15, 43, 45, 57, 74, 79, 82, 85, 107  …  228, 242, 246, 249, 264, 268, 270, 273, 279, 295])\n",
       " (0, [])     (7899, [1, 15, 43, 45, 57, 74, 79, 82, 85, 107  …  228, 242, 246, 249, 264, 268, 270, 273, 279, 295])\n",
       " (0, [])     (7904, [1, 15, 32, 45, 57, 71, 74, 79, 82, 85  …  242, 246, 249, 264, 268, 270, 273, 279, 295, 299])\n",
       " (0, [])     (7904, [1, 15, 32, 45, 57, 71, 74, 79, 82, 85  …  242, 246, 249, 264, 268, 270, 273, 279, 295, 299])"
      ]
     },
     "execution_count": 6,
     "metadata": {},
     "output_type": "execute_result"
    }
   ],
   "source": [
    "prix,poids,cap = readKnaptxtInstance(\"instancesETU/KNAPnewformat/circle/knapPI_16_100_1000_3_-6166.opb.txt\")\n",
    "r = creerTab(prix,poids,cap)"
   ]
  },
  {
   "cell_type": "markdown",
   "metadata": {},
   "source": [
    "La valeur maximal du sac à dos est de 7904 pour une capacité de 1465.\n",
    "Ici le branch and bound a renvoyé une valeur inf (6166) et s'est arreté au bout de n itérations."
   ]
  },
  {
   "cell_type": "code",
   "execution_count": 7,
   "metadata": {},
   "outputs": [
    {
     "ename": "LoadError",
     "evalue": "OutOfMemoryError()",
     "output_type": "error",
     "traceback": [
      "OutOfMemoryError()",
      "",
      "Stacktrace:",
      " [1] collect(itr::Base.Generator{Base.Iterators.ProductIterator{Tuple{UnitRange{Int64}, UnitRange{Int64}}}, var\"#3#4\"})",
      "   @ Base ./array.jl:0",
      " [2] creerTab(price::Vector{Any}, weight::Vector{Any}, capacity::Int64)",
      "   @ Main ./In[3]:5",
      " [3] top-level scope",
      "   @ In[7]:2",
      " [4] eval",
      "   @ ./boot.jl:368 [inlined]",
      " [5] include_string(mapexpr::typeof(REPL.softscope), mod::Module, code::String, filename::String)",
      "   @ Base ./loading.jl:1428"
     ]
    }
   ],
   "source": [
    "prix,poids,cap = readKnaptxtInstance(\"instancesETU/KNAPnewformat/inverse_strongly_correlated/knapPI_4_1000_10000_5_-268720.opb.txt\")\n",
    "r = creerTab(prix,poids,cap)"
   ]
  },
  {
   "cell_type": "markdown",
   "metadata": {},
   "source": [
    "L'algorithme peut ne pas fonctionner lorsqu'il y a trop de données, ici le branch an bound trouve son intérêt. L'algotithme implementé est en O(nQ) avec n le nombre d'objets et Q la capcité. "
   ]
  },
  {
   "cell_type": "code",
   "execution_count": 8,
   "metadata": {},
   "outputs": [
    {
     "data": {
      "text/plain": [
       "100×983 Matrix{Tuple{Int64, Vector{Any}}}:\n",
       " (0, [])  …  (294, [1])\n",
       " (0, [])     (1000, [1, 2])\n",
       " (0, [])     (1322, [2, 3])\n",
       " (0, [])     (1322, [2, 3])\n",
       " (0, [])     (1322, [2, 3])\n",
       " (0, [])  …  (1580, [1, 5, 6])\n",
       " (0, [])     (1580, [1, 5, 6])\n",
       " (0, [])     (1580, [1, 5, 6])\n",
       " (0, [])     (1580, [1, 5, 6])\n",
       " (0, [])     (1580, [1, 5, 6])\n",
       " (0, [])  …  (1580, [1, 5, 6])\n",
       " (0, [])     (1580, [1, 5, 6])\n",
       " (0, [])     (1580, [1, 5, 6])\n",
       " ⋮        ⋱  \n",
       " (0, [])     (2781, [1, 6, 15, 22, 32, 43, 45, 57, 88])\n",
       " (0, [])     (2781, [1, 6, 15, 22, 32, 43, 45, 57, 88])\n",
       " (0, [])  …  (2781, [1, 6, 15, 22, 32, 43, 45, 57, 88])\n",
       " (0, [])     (2781, [1, 6, 15, 22, 32, 43, 45, 57, 88])\n",
       " (0, [])     (2781, [1, 6, 15, 22, 32, 43, 45, 57, 88])\n",
       " (0, [])     (2781, [1, 6, 15, 22, 32, 43, 45, 57, 88])\n",
       " (0, [])     (2982, [1, 15, 22, 32, 43, 45, 57, 68, 78, 95])\n",
       " (0, [])  …  (2982, [1, 15, 22, 32, 43, 45, 57, 68, 78, 95])\n",
       " (0, [])     (2982, [1, 15, 22, 32, 43, 45, 57, 68, 78, 95])\n",
       " (0, [])     (3181, [15, 22, 30, 32, 43, 45, 57, 65, 94, 95, 98])\n",
       " (0, [])     (3181, [15, 22, 30, 32, 43, 45, 57, 65, 94, 95, 98])\n",
       " (0, [])     (3181, [15, 22, 30, 32, 43, 45, 57, 65, 94, 95, 98])"
      ]
     },
     "execution_count": 8,
     "metadata": {},
     "output_type": "execute_result"
    }
   ],
   "source": [
    "prix,poids,cap = readKnaptxtInstance(\"instancesETU/KNAPnewformat/multiple_strongly_correlated/knapPI_14_50_1000_2_-2581.opb.txt\")\n",
    "r = creerTab(prix,poids,cap)"
   ]
  },
  {
   "cell_type": "markdown",
   "metadata": {},
   "source": [
    "La valeur maximal du sac à dos est de 3181 pour une capacité de 982. Ici le branch and bound a renvoyé une valeur inf (2581) et s'est arreté au bout de n itérations.\n"
   ]
  }
 ],
 "metadata": {
  "kernelspec": {
   "display_name": "Julia 1.8.2 - N7",
   "language": "julia",
   "name": "julia-1.8-n7"
  },
  "language_info": {
   "file_extension": ".jl",
   "mimetype": "application/julia",
   "name": "julia",
   "version": "1.8.2"
  }
 },
 "nbformat": 4,
 "nbformat_minor": 4
}
