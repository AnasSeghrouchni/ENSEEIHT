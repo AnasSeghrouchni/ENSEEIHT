{
 "cells": [
  {
   "cell_type": "markdown",
   "metadata": {
    "slideshow": {
     "slide_type": "slide"
    }
   },
   "source": [
    "## Méthodes d'optimisation stochastique\n",
    "\n",
    "## I. Minimisation stochastique d'une fonction déterministe\n"
   ]
  },
  {
   "cell_type": "markdown",
   "metadata": {
    "slideshow": {
     "slide_type": "subslide"
    }
   },
   "source": [
    "On s'intéresse au problème $\\min f(x) =\\max_{i=1\\dots m}|a_i^Tx-b_i | = \\max_{i=1\\dots m} |(Ax-b)_i|.$ \n",
    "\n",
    "On suppose que $a_i$ est un vecteur colonne représentant la $i$eme ligne d'une matrice $A$ de taille $m \\times n$ ($m=100, n=20$) , et les $b_i$ sont les composantes d'un second membre $b$ de taille $m$, ($1 \\le i \\le m$), $x$ un vecteur de taille $n$. Ces quantités sont générées une fois pour toutes à partir de distributions Gaussiennes de moyenne nulle et d'écart type identité.\n",
    "\n",
    "**Question 1 :** Constuire $A$ et $b$. Proposer le calcul d'un sous-gradient en $x$ de $f$. On pourra utiliser la fonction findmax de Julia. \n"
   ]
  },
  {
   "cell_type": "code",
   "execution_count": 1,
   "metadata": {},
   "outputs": [
    {
     "name": "stdout",
     "output_type": "stream",
     "text": [
      "search: \u001b[0m\u001b[1mf\u001b[22m\u001b[0m\u001b[1mi\u001b[22m\u001b[0m\u001b[1mn\u001b[22m\u001b[0m\u001b[1md\u001b[22m\u001b[0m\u001b[1mm\u001b[22m\u001b[0m\u001b[1ma\u001b[22m\u001b[0m\u001b[1mx\u001b[22m \u001b[0m\u001b[1mf\u001b[22m\u001b[0m\u001b[1mi\u001b[22m\u001b[0m\u001b[1mn\u001b[22m\u001b[0m\u001b[1md\u001b[22m\u001b[0m\u001b[1mm\u001b[22m\u001b[0m\u001b[1ma\u001b[22m\u001b[0m\u001b[1mx\u001b[22m! \u001b[0m\u001b[1mf\u001b[22m\u001b[0m\u001b[1mi\u001b[22m\u001b[0m\u001b[1mn\u001b[22m\u001b[0m\u001b[1md\u001b[22m\u001b[0m\u001b[1mm\u001b[22min \u001b[0m\u001b[1mf\u001b[22m\u001b[0m\u001b[1mi\u001b[22m\u001b[0m\u001b[1mn\u001b[22m\u001b[0m\u001b[1md\u001b[22m\u001b[0m\u001b[1mm\u001b[22min!\n",
      "\n"
     ]
    },
    {
     "data": {
      "text/latex": [
       "\\begin{verbatim}\n",
       "findmax(f, domain) -> (f(x), index)\n",
       "\\end{verbatim}\n",
       "Returns a pair of a value in the codomain (outputs of \\texttt{f}) and the index of the corresponding value in the \\texttt{domain} (inputs to \\texttt{f}) such that \\texttt{f(x)} is maximised. If there are multiple maximal points, then the first one will be returned.\n",
       "\n",
       "\\texttt{domain} must be a non-empty iterable.\n",
       "\n",
       "Values are compared with \\texttt{isless}.\n",
       "\n",
       "\\begin{quote}\n",
       "\\textbf{compat}\n",
       "\n",
       "Julia 1.7\n",
       "\n",
       "This method requires Julia 1.7 or later.\n",
       "\n",
       "\\end{quote}\n",
       "\\section{Examples}\n",
       "\\begin{verbatim}\n",
       "julia> findmax(identity, 5:9)\n",
       "(9, 5)\n",
       "\n",
       "julia> findmax(-, 1:10)\n",
       "(-1, 1)\n",
       "\n",
       "julia> findmax(first, [(1, :a), (3, :b), (3, :c)])\n",
       "(3, 2)\n",
       "\n",
       "julia> findmax(cos, 0:π/2:2π)\n",
       "(1.0, 1)\n",
       "\\end{verbatim}\n",
       "\\rule{\\textwidth}{1pt}\n",
       "\\begin{verbatim}\n",
       "findmax(itr) -> (x, index)\n",
       "\\end{verbatim}\n",
       "Return the maximal element of the collection \\texttt{itr} and its index or key. If there are multiple maximal elements, then the first one will be returned. Values are compared with \\texttt{isless}.\n",
       "\n",
       "See also: \\href{@ref}{\\texttt{findmin}}, \\href{@ref}{\\texttt{argmax}}, \\href{@ref}{\\texttt{maximum}}.\n",
       "\n",
       "\\section{Examples}\n",
       "\\begin{verbatim}\n",
       "julia> findmax([8, 0.1, -9, pi])\n",
       "(8.0, 1)\n",
       "\n",
       "julia> findmax([1, 7, 7, 6])\n",
       "(7, 2)\n",
       "\n",
       "julia> findmax([1, 7, 7, NaN])\n",
       "(NaN, 4)\n",
       "\\end{verbatim}\n",
       "\\rule{\\textwidth}{1pt}\n",
       "\\begin{verbatim}\n",
       "findmax(A; dims) -> (maxval, index)\n",
       "\\end{verbatim}\n",
       "For an array input, returns the value and index of the maximum over the given dimensions. \\texttt{NaN} is treated as greater than all other values except \\texttt{missing}.\n",
       "\n",
       "\\section{Examples}\n",
       "\\begin{verbatim}\n",
       "julia> A = [1.0 2; 3 4]\n",
       "2×2 Matrix{Float64}:\n",
       " 1.0  2.0\n",
       " 3.0  4.0\n",
       "\n",
       "julia> findmax(A, dims=1)\n",
       "([3.0 4.0], CartesianIndex{2}[CartesianIndex(2, 1) CartesianIndex(2, 2)])\n",
       "\n",
       "julia> findmax(A, dims=2)\n",
       "([2.0; 4.0;;], CartesianIndex{2}[CartesianIndex(1, 2); CartesianIndex(2, 2);;])\n",
       "\\end{verbatim}\n"
      ],
      "text/markdown": [
       "```\n",
       "findmax(f, domain) -> (f(x), index)\n",
       "```\n",
       "\n",
       "Returns a pair of a value in the codomain (outputs of `f`) and the index of the corresponding value in the `domain` (inputs to `f`) such that `f(x)` is maximised. If there are multiple maximal points, then the first one will be returned.\n",
       "\n",
       "`domain` must be a non-empty iterable.\n",
       "\n",
       "Values are compared with `isless`.\n",
       "\n",
       "!!! compat \"Julia 1.7\"\n",
       "    This method requires Julia 1.7 or later.\n",
       "\n",
       "\n",
       "# Examples\n",
       "\n",
       "```jldoctest\n",
       "julia> findmax(identity, 5:9)\n",
       "(9, 5)\n",
       "\n",
       "julia> findmax(-, 1:10)\n",
       "(-1, 1)\n",
       "\n",
       "julia> findmax(first, [(1, :a), (3, :b), (3, :c)])\n",
       "(3, 2)\n",
       "\n",
       "julia> findmax(cos, 0:π/2:2π)\n",
       "(1.0, 1)\n",
       "```\n",
       "\n",
       "---\n",
       "\n",
       "```\n",
       "findmax(itr) -> (x, index)\n",
       "```\n",
       "\n",
       "Return the maximal element of the collection `itr` and its index or key. If there are multiple maximal elements, then the first one will be returned. Values are compared with `isless`.\n",
       "\n",
       "See also: [`findmin`](@ref), [`argmax`](@ref), [`maximum`](@ref).\n",
       "\n",
       "# Examples\n",
       "\n",
       "```jldoctest\n",
       "julia> findmax([8, 0.1, -9, pi])\n",
       "(8.0, 1)\n",
       "\n",
       "julia> findmax([1, 7, 7, 6])\n",
       "(7, 2)\n",
       "\n",
       "julia> findmax([1, 7, 7, NaN])\n",
       "(NaN, 4)\n",
       "```\n",
       "\n",
       "---\n",
       "\n",
       "```\n",
       "findmax(A; dims) -> (maxval, index)\n",
       "```\n",
       "\n",
       "For an array input, returns the value and index of the maximum over the given dimensions. `NaN` is treated as greater than all other values except `missing`.\n",
       "\n",
       "# Examples\n",
       "\n",
       "```jldoctest\n",
       "julia> A = [1.0 2; 3 4]\n",
       "2×2 Matrix{Float64}:\n",
       " 1.0  2.0\n",
       " 3.0  4.0\n",
       "\n",
       "julia> findmax(A, dims=1)\n",
       "([3.0 4.0], CartesianIndex{2}[CartesianIndex(2, 1) CartesianIndex(2, 2)])\n",
       "\n",
       "julia> findmax(A, dims=2)\n",
       "([2.0; 4.0;;], CartesianIndex{2}[CartesianIndex(1, 2); CartesianIndex(2, 2);;])\n",
       "```\n"
      ],
      "text/plain": [
       "\u001b[36m  findmax(f, domain) -> (f(x), index)\u001b[39m\n",
       "\n",
       "  Returns a pair of a value in the codomain (outputs of \u001b[36mf\u001b[39m) and the index of\n",
       "  the corresponding value in the \u001b[36mdomain\u001b[39m (inputs to \u001b[36mf\u001b[39m) such that \u001b[36mf(x)\u001b[39m is\n",
       "  maximised. If there are multiple maximal points, then the first one will be\n",
       "  returned.\n",
       "\n",
       "  \u001b[36mdomain\u001b[39m must be a non-empty iterable.\n",
       "\n",
       "  Values are compared with \u001b[36misless\u001b[39m.\n",
       "\n",
       "\u001b[39m\u001b[1m  │ \u001b[22m\u001b[39m\u001b[1mJulia 1.7\u001b[22m\n",
       "\u001b[39m\u001b[1m  │\u001b[22m\n",
       "\u001b[39m\u001b[1m  │\u001b[22m  This method requires Julia 1.7 or later.\n",
       "\n",
       "\u001b[1m  Examples\u001b[22m\n",
       "\u001b[1m  ≡≡≡≡≡≡≡≡≡≡\u001b[22m\n",
       "\n",
       "\u001b[36m  julia> findmax(identity, 5:9)\u001b[39m\n",
       "\u001b[36m  (9, 5)\u001b[39m\n",
       "\u001b[36m  \u001b[39m\n",
       "\u001b[36m  julia> findmax(-, 1:10)\u001b[39m\n",
       "\u001b[36m  (-1, 1)\u001b[39m\n",
       "\u001b[36m  \u001b[39m\n",
       "\u001b[36m  julia> findmax(first, [(1, :a), (3, :b), (3, :c)])\u001b[39m\n",
       "\u001b[36m  (3, 2)\u001b[39m\n",
       "\u001b[36m  \u001b[39m\n",
       "\u001b[36m  julia> findmax(cos, 0:π/2:2π)\u001b[39m\n",
       "\u001b[36m  (1.0, 1)\u001b[39m\n",
       "\n",
       "  ────────────────────────────────────────────────────────────────────────────\n",
       "\n",
       "\u001b[36m  findmax(itr) -> (x, index)\u001b[39m\n",
       "\n",
       "  Return the maximal element of the collection \u001b[36mitr\u001b[39m and its index or key. If\n",
       "  there are multiple maximal elements, then the first one will be returned.\n",
       "  Values are compared with \u001b[36misless\u001b[39m.\n",
       "\n",
       "  See also: \u001b[36mfindmin\u001b[39m, \u001b[36margmax\u001b[39m, \u001b[36mmaximum\u001b[39m.\n",
       "\n",
       "\u001b[1m  Examples\u001b[22m\n",
       "\u001b[1m  ≡≡≡≡≡≡≡≡≡≡\u001b[22m\n",
       "\n",
       "\u001b[36m  julia> findmax([8, 0.1, -9, pi])\u001b[39m\n",
       "\u001b[36m  (8.0, 1)\u001b[39m\n",
       "\u001b[36m  \u001b[39m\n",
       "\u001b[36m  julia> findmax([1, 7, 7, 6])\u001b[39m\n",
       "\u001b[36m  (7, 2)\u001b[39m\n",
       "\u001b[36m  \u001b[39m\n",
       "\u001b[36m  julia> findmax([1, 7, 7, NaN])\u001b[39m\n",
       "\u001b[36m  (NaN, 4)\u001b[39m\n",
       "\n",
       "  ────────────────────────────────────────────────────────────────────────────\n",
       "\n",
       "\u001b[36m  findmax(A; dims) -> (maxval, index)\u001b[39m\n",
       "\n",
       "  For an array input, returns the value and index of the maximum over the\n",
       "  given dimensions. \u001b[36mNaN\u001b[39m is treated as greater than all other values except\n",
       "  \u001b[36mmissing\u001b[39m.\n",
       "\n",
       "\u001b[1m  Examples\u001b[22m\n",
       "\u001b[1m  ≡≡≡≡≡≡≡≡≡≡\u001b[22m\n",
       "\n",
       "\u001b[36m  julia> A = [1.0 2; 3 4]\u001b[39m\n",
       "\u001b[36m  2×2 Matrix{Float64}:\u001b[39m\n",
       "\u001b[36m   1.0  2.0\u001b[39m\n",
       "\u001b[36m   3.0  4.0\u001b[39m\n",
       "\u001b[36m  \u001b[39m\n",
       "\u001b[36m  julia> findmax(A, dims=1)\u001b[39m\n",
       "\u001b[36m  ([3.0 4.0], CartesianIndex{2}[CartesianIndex(2, 1) CartesianIndex(2, 2)])\u001b[39m\n",
       "\u001b[36m  \u001b[39m\n",
       "\u001b[36m  julia> findmax(A, dims=2)\u001b[39m\n",
       "\u001b[36m  ([2.0; 4.0;;], CartesianIndex{2}[CartesianIndex(1, 2); CartesianIndex(2, 2);;])\u001b[39m"
      ]
     },
     "execution_count": 1,
     "metadata": {},
     "output_type": "execute_result"
    }
   ],
   "source": [
    "?findmax"
   ]
  },
  {
   "cell_type": "code",
   "execution_count": 2,
   "metadata": {
    "slideshow": {
     "slide_type": "slide"
    }
   },
   "outputs": [
    {
     "data": {
      "text/plain": [
       "subgrad (generic function with 1 method)"
      ]
     },
     "execution_count": 2,
     "metadata": {},
     "output_type": "execute_result"
    }
   ],
   "source": [
    "using Random\n",
    "using Statistics\n",
    "# Construction des données A  et b\n",
    "# Insérer votre code\n",
    "\n",
    "m = 100;\n",
    "n = 20;\n",
    "A = randn(m,n);\n",
    "b = randn(m,1);\n",
    "x = randn(n,1)\n",
    "# Fin insérer code\n",
    "\n",
    "# Fonction calculant un sous-gradient en x de f\n",
    "function subgrad(A,b,x) \n",
    "    # Insérer votre code\n",
    "    fx = A*x - b;\n",
    "    (max,ind) = findmax(abs.(fx));\n",
    "    i = ind[1]\n",
    "    return (sign(fx[i]))*A[i,:];\n",
    "    # Fin insérer code\n",
    "end"
   ]
  },
  {
   "cell_type": "markdown",
   "metadata": {},
   "source": [
    "**Question 2 :** Ce problème peut se reformuler comme un problème de programmation linéaire : $$(\\mathcal{P}_{lp})\\quad \\left\\{ \\begin{array}{c} \\min_{(x,R)\\in \\mathbb{R}^n\\times \\mathbb{R}} h(x,R)=R\\\\\n",
    "s.c. \\quad-R*e\\leq A*x-b\\leq R*e\\end{array}\\right.$$ avec $e=[1,\\cdots,1]^T\\in \\mathbb{R}^m$. Résoudre le problème $(\\mathcal{P}_{lp})$ en utilisant le solveur \"GLPK\" de la librairie JuMP. Plus d'informations sont disponibles ici :  http://www.juliaopt.org/JuMP.jl/latest/quickstart/"
   ]
  },
  {
   "cell_type": "code",
   "execution_count": 11,
   "metadata": {
    "scrolled": false,
    "slideshow": {
     "slide_type": "subslide"
    }
   },
   "outputs": [
    {
     "name": "stdout",
     "output_type": "stream",
     "text": [
      "The function value at the solution is: 1.6356652877515856 or 1.6356652877515874\n"
     ]
    }
   ],
   "source": [
    "\n",
    "using JuMP\n",
    "using GLPK\n",
    "\n",
    "# Définition du modèle\n",
    "# Insérer votre code\n",
    "\n",
    "model = Model(GLPK.Optimizer)\n",
    "# Fin insérer code\n",
    "\n",
    "# Définition des variables d'optimisation\n",
    "# Insérer votre code\n",
    "@variable(model, x[1:n]);\n",
    "@variable(model, R);\n",
    "\n",
    "\n",
    "# Fin insérer code\n",
    "\n",
    "# Définition de la fonctionnelle à minimiser\n",
    "#Insérer votre code\n",
    "\n",
    "@objective(model, Min, R);\n",
    "\n",
    "# Fin insérer code\n",
    "\n",
    "# Définition des contraintes\n",
    "# Insérer votre code\n",
    "\n",
    "@constraint(model, c1[i=1:m], R >= (sum(A[i,j]*x[j] for j in 1:n) - b[i]));\n",
    "@constraint(model, c2[i=1:m], -R <= (sum(A[i,j]*x[j] for j in 1:n) - b[i]));\n",
    "\n",
    "#for i=1:m\n",
    "#    @constraint(model, sum(A[i,j]*x[j] for j in 1:n) - b[i] - R <= 0);\n",
    "#    @constraint(model, sum(A[i,j]*x[j] for j in 1:n) - b[i] + R >= 0);\n",
    "#end\n",
    "# Fin insérer code\n",
    "        \n",
    "# Résolution        \n",
    "# Insérer votre code\n",
    "\n",
    "optimize!(model);\n",
    "\n",
    "\n",
    "# Fin insérer code\n",
    "        \n",
    "# Résultats à optimalité                \n",
    "# Insérer votre code\n",
    "xstar = value.(x); \n",
    "Rstar = value.(R);\n",
    "\n",
    "# Fin insérer code\n",
    "println(\"The function value at the solution is: \",Rstar, \" or \",findmax(abs.(A*xstar-b))[1])"
   ]
  },
  {
   "cell_type": "markdown",
   "metadata": {},
   "source": [
    "**Question 3 :** Résoudre le problème en utilisant un algorithme de sous-gradient. Dans un premier temps vous utiliserez un sous-gradient exact (Question 1), puis vous introduirez un bruit artificiel qui suit une distribution normale de moyenne nulle et d'écart-type $3 e-1$.\n",
    "\n",
    "**Question 4 :** Vous afficherez les courbes de convergence de $f_{best}^k-f_{star}$, avec $f_{star}$ obtenue à la Question 1. Donnez la valeur minimale de $f_{best}^k-f_{star}$."
   ]
  },
  {
   "cell_type": "code",
   "execution_count": 12,
   "metadata": {
    "scrolled": false
   },
   "outputs": [
    {
     "name": "stdout",
     "output_type": "stream",
     "text": [
      "La meilleur valeur de f_best-R_star est: \n",
      "Sans bruit: 0.085835715106644\n",
      "Bruité: 0.11927408715949994\n"
     ]
    },
    {
     "data": {
      "image/svg+xml": [
       "<?xml version=\"1.0\" encoding=\"utf-8\"?>\n",
       "<svg xmlns=\"http://www.w3.org/2000/svg\" xmlns:xlink=\"http://www.w3.org/1999/xlink\" width=\"600\" height=\"400\" viewBox=\"0 0 2400 1600\">\n",
       "<defs>\n",
       "  <clipPath id=\"clip160\">\n",
       "    <rect x=\"0\" y=\"0\" width=\"2400\" height=\"1600\"/>\n",
       "  </clipPath>\n",
       "</defs>\n",
       "<path clip-path=\"url(#clip160)\" d=\"M0 1600 L2400 1600 L2400 0 L0 0  Z\" fill=\"#ffffff\" fill-rule=\"evenodd\" fill-opacity=\"1\"/>\n",
       "<defs>\n",
       "  <clipPath id=\"clip161\">\n",
       "    <rect x=\"480\" y=\"0\" width=\"1681\" height=\"1600\"/>\n",
       "  </clipPath>\n",
       "</defs>\n",
       "<path clip-path=\"url(#clip160)\" d=\"M112.177 1486.45 L2352.76 1486.45 L2352.76 123.472 L112.177 123.472  Z\" fill=\"#ffffff\" fill-rule=\"evenodd\" fill-opacity=\"1\"/>\n",
       "<defs>\n",
       "  <clipPath id=\"clip162\">\n",
       "    <rect x=\"112\" y=\"123\" width=\"2242\" height=\"1364\"/>\n",
       "  </clipPath>\n",
       "</defs>\n",
       "<polyline clip-path=\"url(#clip162)\" style=\"stroke:#000000; stroke-linecap:round; stroke-linejoin:round; stroke-width:2; stroke-opacity:0.1; fill:none\" points=\"154.239,1486.45 154.239,123.472 \"/>\n",
       "<polyline clip-path=\"url(#clip162)\" style=\"stroke:#000000; stroke-linecap:round; stroke-linejoin:round; stroke-width:2; stroke-opacity:0.1; fill:none\" points=\"688.015,1486.45 688.015,123.472 \"/>\n",
       "<polyline clip-path=\"url(#clip162)\" style=\"stroke:#000000; stroke-linecap:round; stroke-linejoin:round; stroke-width:2; stroke-opacity:0.1; fill:none\" points=\"1221.79,1486.45 1221.79,123.472 \"/>\n",
       "<polyline clip-path=\"url(#clip162)\" style=\"stroke:#000000; stroke-linecap:round; stroke-linejoin:round; stroke-width:2; stroke-opacity:0.1; fill:none\" points=\"1755.57,1486.45 1755.57,123.472 \"/>\n",
       "<polyline clip-path=\"url(#clip162)\" style=\"stroke:#000000; stroke-linecap:round; stroke-linejoin:round; stroke-width:2; stroke-opacity:0.1; fill:none\" points=\"2289.34,1486.45 2289.34,123.472 \"/>\n",
       "<polyline clip-path=\"url(#clip160)\" style=\"stroke:#000000; stroke-linecap:round; stroke-linejoin:round; stroke-width:4; stroke-opacity:1; fill:none\" points=\"112.177,1486.45 2352.76,1486.45 \"/>\n",
       "<polyline clip-path=\"url(#clip160)\" style=\"stroke:#000000; stroke-linecap:round; stroke-linejoin:round; stroke-width:4; stroke-opacity:1; fill:none\" points=\"154.239,1486.45 154.239,1467.55 \"/>\n",
       "<polyline clip-path=\"url(#clip160)\" style=\"stroke:#000000; stroke-linecap:round; stroke-linejoin:round; stroke-width:4; stroke-opacity:1; fill:none\" points=\"688.015,1486.45 688.015,1467.55 \"/>\n",
       "<polyline clip-path=\"url(#clip160)\" style=\"stroke:#000000; stroke-linecap:round; stroke-linejoin:round; stroke-width:4; stroke-opacity:1; fill:none\" points=\"1221.79,1486.45 1221.79,1467.55 \"/>\n",
       "<polyline clip-path=\"url(#clip160)\" style=\"stroke:#000000; stroke-linecap:round; stroke-linejoin:round; stroke-width:4; stroke-opacity:1; fill:none\" points=\"1755.57,1486.45 1755.57,1467.55 \"/>\n",
       "<polyline clip-path=\"url(#clip160)\" style=\"stroke:#000000; stroke-linecap:round; stroke-linejoin:round; stroke-width:4; stroke-opacity:1; fill:none\" points=\"2289.34,1486.45 2289.34,1467.55 \"/>\n",
       "<path clip-path=\"url(#clip160)\" d=\"M154.239 1517.37 Q150.628 1517.37 148.799 1520.93 Q146.993 1524.47 146.993 1531.6 Q146.993 1538.71 148.799 1542.27 Q150.628 1545.82 154.239 1545.82 Q157.873 1545.82 159.679 1542.27 Q161.507 1538.71 161.507 1531.6 Q161.507 1524.47 159.679 1520.93 Q157.873 1517.37 154.239 1517.37 M154.239 1513.66 Q160.049 1513.66 163.104 1518.27 Q166.183 1522.85 166.183 1531.6 Q166.183 1540.33 163.104 1544.94 Q160.049 1549.52 154.239 1549.52 Q148.429 1549.52 145.35 1544.94 Q142.294 1540.33 142.294 1531.6 Q142.294 1522.85 145.35 1518.27 Q148.429 1513.66 154.239 1513.66 Z\" fill=\"#000000\" fill-rule=\"nonzero\" fill-opacity=\"1\" /><path clip-path=\"url(#clip160)\" d=\"M667.286 1544.91 L683.605 1544.91 L683.605 1548.85 L661.661 1548.85 L661.661 1544.91 Q664.323 1542.16 668.906 1537.53 Q673.513 1532.88 674.693 1531.53 Q676.939 1529.01 677.818 1527.27 Q678.721 1525.51 678.721 1523.82 Q678.721 1521.07 676.777 1519.33 Q674.855 1517.6 671.753 1517.6 Q669.554 1517.6 667.101 1518.36 Q664.67 1519.13 661.892 1520.68 L661.892 1515.95 Q664.716 1514.82 667.17 1514.24 Q669.624 1513.66 671.661 1513.66 Q677.031 1513.66 680.226 1516.35 Q683.42 1519.03 683.42 1523.52 Q683.42 1525.65 682.61 1527.57 Q681.823 1529.47 679.716 1532.07 Q679.138 1532.74 676.036 1535.95 Q672.934 1539.15 667.286 1544.91 Z\" fill=\"#000000\" fill-rule=\"nonzero\" fill-opacity=\"1\" /><path clip-path=\"url(#clip160)\" d=\"M693.466 1514.29 L711.823 1514.29 L711.823 1518.22 L697.749 1518.22 L697.749 1526.7 Q698.767 1526.35 699.786 1526.19 Q700.804 1526 701.823 1526 Q707.61 1526 710.989 1529.17 Q714.369 1532.34 714.369 1537.76 Q714.369 1543.34 710.897 1546.44 Q707.424 1549.52 701.105 1549.52 Q698.929 1549.52 696.661 1549.15 Q694.415 1548.78 692.008 1548.04 L692.008 1543.34 Q694.091 1544.47 696.313 1545.03 Q698.536 1545.58 701.012 1545.58 Q705.017 1545.58 707.355 1543.48 Q709.693 1541.37 709.693 1537.76 Q709.693 1534.15 707.355 1532.04 Q705.017 1529.94 701.012 1529.94 Q699.138 1529.94 697.263 1530.35 Q695.411 1530.77 693.466 1531.65 L693.466 1514.29 Z\" fill=\"#000000\" fill-rule=\"nonzero\" fill-opacity=\"1\" /><path clip-path=\"url(#clip160)\" d=\"M1196.49 1514.29 L1214.85 1514.29 L1214.85 1518.22 L1200.77 1518.22 L1200.77 1526.7 Q1201.79 1526.35 1202.81 1526.19 Q1203.83 1526 1204.85 1526 Q1210.63 1526 1214.01 1529.17 Q1217.39 1532.34 1217.39 1537.76 Q1217.39 1543.34 1213.92 1546.44 Q1210.45 1549.52 1204.13 1549.52 Q1201.95 1549.52 1199.68 1549.15 Q1197.44 1548.78 1195.03 1548.04 L1195.03 1543.34 Q1197.12 1544.47 1199.34 1545.03 Q1201.56 1545.58 1204.04 1545.58 Q1208.04 1545.58 1210.38 1543.48 Q1212.72 1541.37 1212.72 1537.76 Q1212.72 1534.15 1210.38 1532.04 Q1208.04 1529.94 1204.04 1529.94 Q1202.16 1529.94 1200.29 1530.35 Q1198.43 1530.77 1196.49 1531.65 L1196.49 1514.29 Z\" fill=\"#000000\" fill-rule=\"nonzero\" fill-opacity=\"1\" /><path clip-path=\"url(#clip160)\" d=\"M1236.61 1517.37 Q1232.99 1517.37 1231.17 1520.93 Q1229.36 1524.47 1229.36 1531.6 Q1229.36 1538.71 1231.17 1542.27 Q1232.99 1545.82 1236.61 1545.82 Q1240.24 1545.82 1242.05 1542.27 Q1243.87 1538.71 1243.87 1531.6 Q1243.87 1524.47 1242.05 1520.93 Q1240.24 1517.37 1236.61 1517.37 M1236.61 1513.66 Q1242.42 1513.66 1245.47 1518.27 Q1248.55 1522.85 1248.55 1531.6 Q1248.55 1540.33 1245.47 1544.94 Q1242.42 1549.52 1236.61 1549.52 Q1230.8 1549.52 1227.72 1544.94 Q1224.66 1540.33 1224.66 1531.6 Q1224.66 1522.85 1227.72 1518.27 Q1230.8 1513.66 1236.61 1513.66 Z\" fill=\"#000000\" fill-rule=\"nonzero\" fill-opacity=\"1\" /><path clip-path=\"url(#clip160)\" d=\"M1729.42 1514.29 L1751.64 1514.29 L1751.64 1516.28 L1739.1 1548.85 L1734.21 1548.85 L1746.02 1518.22 L1729.42 1518.22 L1729.42 1514.29 Z\" fill=\"#000000\" fill-rule=\"nonzero\" fill-opacity=\"1\" /><path clip-path=\"url(#clip160)\" d=\"M1760.81 1514.29 L1779.17 1514.29 L1779.17 1518.22 L1765.09 1518.22 L1765.09 1526.7 Q1766.11 1526.35 1767.13 1526.19 Q1768.15 1526 1769.17 1526 Q1774.95 1526 1778.33 1529.17 Q1781.71 1532.34 1781.71 1537.76 Q1781.71 1543.34 1778.24 1546.44 Q1774.77 1549.52 1768.45 1549.52 Q1766.27 1549.52 1764 1549.15 Q1761.76 1548.78 1759.35 1548.04 L1759.35 1543.34 Q1761.44 1544.47 1763.66 1545.03 Q1765.88 1545.58 1768.36 1545.58 Q1772.36 1545.58 1774.7 1543.48 Q1777.04 1541.37 1777.04 1537.76 Q1777.04 1534.15 1774.7 1532.04 Q1772.36 1529.94 1768.36 1529.94 Q1766.48 1529.94 1764.61 1530.35 Q1762.75 1530.77 1760.81 1531.65 L1760.81 1514.29 Z\" fill=\"#000000\" fill-rule=\"nonzero\" fill-opacity=\"1\" /><path clip-path=\"url(#clip160)\" d=\"M2248.95 1544.91 L2256.59 1544.91 L2256.59 1518.55 L2248.28 1520.21 L2248.28 1515.95 L2256.54 1514.29 L2261.22 1514.29 L2261.22 1544.91 L2268.86 1544.91 L2268.86 1548.85 L2248.95 1548.85 L2248.95 1544.91 Z\" fill=\"#000000\" fill-rule=\"nonzero\" fill-opacity=\"1\" /><path clip-path=\"url(#clip160)\" d=\"M2288.3 1517.37 Q2284.69 1517.37 2282.86 1520.93 Q2281.06 1524.47 2281.06 1531.6 Q2281.06 1538.71 2282.86 1542.27 Q2284.69 1545.82 2288.3 1545.82 Q2291.94 1545.82 2293.74 1542.27 Q2295.57 1538.71 2295.57 1531.6 Q2295.57 1524.47 2293.74 1520.93 Q2291.94 1517.37 2288.3 1517.37 M2288.3 1513.66 Q2294.11 1513.66 2297.17 1518.27 Q2300.25 1522.85 2300.25 1531.6 Q2300.25 1540.33 2297.17 1544.94 Q2294.11 1549.52 2288.3 1549.52 Q2282.49 1549.52 2279.41 1544.94 Q2276.36 1540.33 2276.36 1531.6 Q2276.36 1522.85 2279.41 1518.27 Q2282.49 1513.66 2288.3 1513.66 Z\" fill=\"#000000\" fill-rule=\"nonzero\" fill-opacity=\"1\" /><path clip-path=\"url(#clip160)\" d=\"M2318.46 1517.37 Q2314.85 1517.37 2313.02 1520.93 Q2311.22 1524.47 2311.22 1531.6 Q2311.22 1538.71 2313.02 1542.27 Q2314.85 1545.82 2318.46 1545.82 Q2322.1 1545.82 2323.9 1542.27 Q2325.73 1538.71 2325.73 1531.6 Q2325.73 1524.47 2323.9 1520.93 Q2322.1 1517.37 2318.46 1517.37 M2318.46 1513.66 Q2324.27 1513.66 2327.33 1518.27 Q2330.41 1522.85 2330.41 1531.6 Q2330.41 1540.33 2327.33 1544.94 Q2324.27 1549.52 2318.46 1549.52 Q2312.65 1549.52 2309.57 1544.94 Q2306.52 1540.33 2306.52 1531.6 Q2306.52 1522.85 2309.57 1518.27 Q2312.65 1513.66 2318.46 1513.66 Z\" fill=\"#000000\" fill-rule=\"nonzero\" fill-opacity=\"1\" /><polyline clip-path=\"url(#clip162)\" style=\"stroke:#000000; stroke-linecap:round; stroke-linejoin:round; stroke-width:2; stroke-opacity:0.1; fill:none\" points=\"112.177,1460.06 2352.76,1460.06 \"/>\n",
       "<polyline clip-path=\"url(#clip162)\" style=\"stroke:#000000; stroke-linecap:round; stroke-linejoin:round; stroke-width:2; stroke-opacity:0.1; fill:none\" points=\"112.177,1176.18 2352.76,1176.18 \"/>\n",
       "<polyline clip-path=\"url(#clip162)\" style=\"stroke:#000000; stroke-linecap:round; stroke-linejoin:round; stroke-width:2; stroke-opacity:0.1; fill:none\" points=\"112.177,892.306 2352.76,892.306 \"/>\n",
       "<polyline clip-path=\"url(#clip162)\" style=\"stroke:#000000; stroke-linecap:round; stroke-linejoin:round; stroke-width:2; stroke-opacity:0.1; fill:none\" points=\"112.177,608.431 2352.76,608.431 \"/>\n",
       "<polyline clip-path=\"url(#clip162)\" style=\"stroke:#000000; stroke-linecap:round; stroke-linejoin:round; stroke-width:2; stroke-opacity:0.1; fill:none\" points=\"112.177,324.557 2352.76,324.557 \"/>\n",
       "<polyline clip-path=\"url(#clip160)\" style=\"stroke:#000000; stroke-linecap:round; stroke-linejoin:round; stroke-width:4; stroke-opacity:1; fill:none\" points=\"112.177,1486.45 112.177,123.472 \"/>\n",
       "<polyline clip-path=\"url(#clip160)\" style=\"stroke:#000000; stroke-linecap:round; stroke-linejoin:round; stroke-width:4; stroke-opacity:1; fill:none\" points=\"112.177,1460.06 131.075,1460.06 \"/>\n",
       "<polyline clip-path=\"url(#clip160)\" style=\"stroke:#000000; stroke-linecap:round; stroke-linejoin:round; stroke-width:4; stroke-opacity:1; fill:none\" points=\"112.177,1176.18 131.075,1176.18 \"/>\n",
       "<polyline clip-path=\"url(#clip160)\" style=\"stroke:#000000; stroke-linecap:round; stroke-linejoin:round; stroke-width:4; stroke-opacity:1; fill:none\" points=\"112.177,892.306 131.075,892.306 \"/>\n",
       "<polyline clip-path=\"url(#clip160)\" style=\"stroke:#000000; stroke-linecap:round; stroke-linejoin:round; stroke-width:4; stroke-opacity:1; fill:none\" points=\"112.177,608.431 131.075,608.431 \"/>\n",
       "<polyline clip-path=\"url(#clip160)\" style=\"stroke:#000000; stroke-linecap:round; stroke-linejoin:round; stroke-width:4; stroke-opacity:1; fill:none\" points=\"112.177,324.557 131.075,324.557 \"/>\n",
       "<path clip-path=\"url(#clip160)\" d=\"M64.2328 1445.86 Q60.6217 1445.86 58.793 1449.42 Q56.9875 1452.96 56.9875 1460.09 Q56.9875 1467.2 58.793 1470.76 Q60.6217 1474.3 64.2328 1474.3 Q67.867 1474.3 69.6726 1470.76 Q71.5013 1467.2 71.5013 1460.09 Q71.5013 1452.96 69.6726 1449.42 Q67.867 1445.86 64.2328 1445.86 M64.2328 1442.15 Q70.0429 1442.15 73.0985 1446.76 Q76.1772 1451.34 76.1772 1460.09 Q76.1772 1468.82 73.0985 1473.42 Q70.0429 1478.01 64.2328 1478.01 Q58.4226 1478.01 55.344 1473.42 Q52.2884 1468.82 52.2884 1460.09 Q52.2884 1451.34 55.344 1446.76 Q58.4226 1442.15 64.2328 1442.15 Z\" fill=\"#000000\" fill-rule=\"nonzero\" fill-opacity=\"1\" /><path clip-path=\"url(#clip160)\" d=\"M59.8578 1189.53 L76.1772 1189.53 L76.1772 1193.46 L54.2328 1193.46 L54.2328 1189.53 Q56.8949 1186.77 61.4782 1182.14 Q66.0846 1177.49 67.2652 1176.15 Q69.5105 1173.62 70.3902 1171.89 Q71.2929 1170.13 71.2929 1168.44 Q71.2929 1165.68 69.3485 1163.95 Q67.4272 1162.21 64.3254 1162.21 Q62.1263 1162.21 59.6726 1162.98 Q57.2421 1163.74 54.4643 1165.29 L54.4643 1160.57 Q57.2884 1159.43 59.7421 1158.86 Q62.1958 1158.28 64.2328 1158.28 Q69.6031 1158.28 72.7976 1160.96 Q75.992 1163.65 75.992 1168.14 Q75.992 1170.27 75.1818 1172.19 Q74.3948 1174.09 72.2883 1176.68 Q71.7096 1177.35 68.6078 1180.57 Q65.5059 1183.76 59.8578 1189.53 Z\" fill=\"#000000\" fill-rule=\"nonzero\" fill-opacity=\"1\" /><path clip-path=\"url(#clip160)\" d=\"M66.5939 879.101 L54.7884 897.549 L66.5939 897.549 L66.5939 879.101 M65.367 875.026 L71.2466 875.026 L71.2466 897.549 L76.1772 897.549 L76.1772 901.438 L71.2466 901.438 L71.2466 909.586 L66.5939 909.586 L66.5939 901.438 L50.9921 901.438 L50.9921 896.924 L65.367 875.026 Z\" fill=\"#000000\" fill-rule=\"nonzero\" fill-opacity=\"1\" /><path clip-path=\"url(#clip160)\" d=\"M64.6495 606.568 Q61.5013 606.568 59.6495 608.721 Q57.8208 610.874 57.8208 614.624 Q57.8208 618.35 59.6495 620.526 Q61.5013 622.679 64.6495 622.679 Q67.7976 622.679 69.6263 620.526 Q71.4781 618.35 71.4781 614.624 Q71.4781 610.874 69.6263 608.721 Q67.7976 606.568 64.6495 606.568 M73.9318 591.915 L73.9318 596.175 Q72.1726 595.341 70.367 594.901 Q68.5846 594.462 66.8254 594.462 Q62.1958 594.462 59.7421 597.587 Q57.3115 600.712 56.9643 607.031 Q58.33 605.017 60.3902 603.952 Q62.4504 602.864 64.9272 602.864 Q70.1355 602.864 73.1448 606.036 Q76.1772 609.184 76.1772 614.624 Q76.1772 619.948 73.029 623.165 Q69.8809 626.383 64.6495 626.383 Q58.6541 626.383 55.4828 621.799 Q52.3116 617.193 52.3116 608.466 Q52.3116 600.272 56.2004 595.411 Q60.0893 590.526 66.6402 590.526 Q68.3994 590.526 70.1818 590.874 Q71.9874 591.221 73.9318 591.915 Z\" fill=\"#000000\" fill-rule=\"nonzero\" fill-opacity=\"1\" /><path clip-path=\"url(#clip160)\" d=\"M64.3254 325.425 Q60.9921 325.425 59.0708 327.207 Q57.1726 328.989 57.1726 332.114 Q57.1726 335.239 59.0708 337.022 Q60.9921 338.804 64.3254 338.804 Q67.6587 338.804 69.58 337.022 Q71.5013 335.216 71.5013 332.114 Q71.5013 328.989 69.58 327.207 Q67.6819 325.425 64.3254 325.425 M59.6495 323.434 Q56.6402 322.693 54.9504 320.633 Q53.2838 318.573 53.2838 315.61 Q53.2838 311.466 56.2236 309.059 Q59.1865 306.652 64.3254 306.652 Q69.4874 306.652 72.4272 309.059 Q75.367 311.466 75.367 315.61 Q75.367 318.573 73.6772 320.633 Q72.0105 322.693 69.0244 323.434 Q72.404 324.221 74.279 326.513 Q76.1772 328.804 76.1772 332.114 Q76.1772 337.137 73.0985 339.823 Q70.0429 342.508 64.3254 342.508 Q58.6078 342.508 55.5291 339.823 Q52.4736 337.137 52.4736 332.114 Q52.4736 328.804 54.3717 326.513 Q56.2699 324.221 59.6495 323.434 M57.9365 316.05 Q57.9365 318.735 59.6032 320.239 Q61.293 321.744 64.3254 321.744 Q67.3346 321.744 69.0244 320.239 Q70.7374 318.735 70.7374 316.05 Q70.7374 313.364 69.0244 311.86 Q67.3346 310.355 64.3254 310.355 Q61.293 310.355 59.6032 311.86 Q57.9365 313.364 57.9365 316.05 Z\" fill=\"#000000\" fill-rule=\"nonzero\" fill-opacity=\"1\" /><path clip-path=\"url(#clip160)\" d=\"M861.08 16.7545 L861.08 25.383 Q856.948 21.5346 852.249 19.6307 Q847.59 17.7268 842.324 17.7268 Q831.954 17.7268 826.444 24.0867 Q820.935 30.4061 820.935 42.3968 Q820.935 54.3469 826.444 60.7069 Q831.954 67.0263 842.324 67.0263 Q847.59 67.0263 852.249 65.1223 Q856.948 63.2184 861.08 59.3701 L861.08 67.9175 Q856.786 70.8341 851.965 72.2924 Q847.185 73.7508 841.838 73.7508 Q828.105 73.7508 820.206 65.3654 Q812.307 56.9395 812.307 42.3968 Q812.307 27.8135 820.206 19.4281 Q828.105 11.0023 841.838 11.0023 Q847.266 11.0023 852.046 12.4606 Q856.867 13.8784 861.08 16.7545 Z\" fill=\"#000000\" fill-rule=\"nonzero\" fill-opacity=\"1\" /><path clip-path=\"url(#clip160)\" d=\"M890.975 32.4315 Q884.98 32.4315 881.496 37.1306 Q878.012 41.7891 878.012 49.9314 Q878.012 58.0738 881.456 62.7728 Q884.939 67.4314 890.975 67.4314 Q896.93 67.4314 900.414 62.7323 Q903.898 58.0333 903.898 49.9314 Q903.898 41.8701 900.414 37.1711 Q896.93 32.4315 890.975 32.4315 M890.975 26.1121 Q900.697 26.1121 906.247 32.4315 Q911.797 38.7509 911.797 49.9314 Q911.797 61.0714 906.247 67.4314 Q900.697 73.7508 890.975 73.7508 Q881.213 73.7508 875.663 67.4314 Q870.154 61.0714 870.154 49.9314 Q870.154 38.7509 875.663 32.4315 Q881.213 26.1121 890.975 26.1121 Z\" fill=\"#000000\" fill-rule=\"nonzero\" fill-opacity=\"1\" /><path clip-path=\"url(#clip160)\" d=\"M961.866 45.1919 L961.866 72.576 L954.412 72.576 L954.412 45.4349 Q954.412 38.994 951.901 35.7938 Q949.389 32.5936 944.366 32.5936 Q938.33 32.5936 934.847 36.4419 Q931.363 40.2903 931.363 46.9338 L931.363 72.576 L923.869 72.576 L923.869 27.2059 L931.363 27.2059 L931.363 34.2544 Q934.036 30.163 937.642 28.1376 Q941.288 26.1121 946.027 26.1121 Q953.845 26.1121 957.856 30.9732 Q961.866 35.7938 961.866 45.1919 Z\" fill=\"#000000\" fill-rule=\"nonzero\" fill-opacity=\"1\" /><path clip-path=\"url(#clip160)\" d=\"M971.386 27.2059 L979.285 27.2059 L993.463 65.2844 L1007.64 27.2059 L1015.54 27.2059 L998.527 72.576 L988.4 72.576 L971.386 27.2059 Z\" fill=\"#000000\" fill-rule=\"nonzero\" fill-opacity=\"1\" /><path clip-path=\"url(#clip160)\" d=\"M1064.64 48.0275 L1064.64 51.6733 L1030.37 51.6733 Q1030.85 59.3701 1034.98 63.421 Q1039.16 67.4314 1046.57 67.4314 Q1050.86 67.4314 1054.87 66.3781 Q1058.93 65.3249 1062.9 63.2184 L1062.9 70.267 Q1058.89 71.9684 1054.67 72.8596 Q1050.46 73.7508 1046.12 73.7508 Q1035.27 73.7508 1028.91 67.4314 Q1022.59 61.1119 1022.59 50.3365 Q1022.59 39.1965 1028.58 32.6746 Q1034.62 26.1121 1044.83 26.1121 Q1053.98 26.1121 1059.29 32.0264 Q1064.64 37.9003 1064.64 48.0275 M1057.18 45.84 Q1057.1 39.7232 1053.74 36.0774 Q1050.42 32.4315 1044.91 32.4315 Q1038.67 32.4315 1034.9 35.9558 Q1031.18 39.4801 1030.61 45.8805 L1057.18 45.84 Z\" fill=\"#000000\" fill-rule=\"nonzero\" fill-opacity=\"1\" /><path clip-path=\"url(#clip160)\" d=\"M1103.16 34.1734 Q1101.91 33.4443 1100.41 33.1202 Q1098.95 32.7556 1097.17 32.7556 Q1090.85 32.7556 1087.44 36.8875 Q1084.08 40.9789 1084.08 48.6757 L1084.08 72.576 L1076.59 72.576 L1076.59 27.2059 L1084.08 27.2059 L1084.08 34.2544 Q1086.43 30.1225 1090.2 28.1376 Q1093.97 26.1121 1099.35 26.1121 Q1100.12 26.1121 1101.06 26.2337 Q1101.99 26.3147 1103.12 26.5172 L1103.16 34.1734 Z\" fill=\"#000000\" fill-rule=\"nonzero\" fill-opacity=\"1\" /><path clip-path=\"url(#clip160)\" d=\"M1139.38 49.3643 Q1139.38 41.2625 1136.01 36.8065 Q1132.69 32.3505 1126.66 32.3505 Q1120.66 32.3505 1117.3 36.8065 Q1113.98 41.2625 1113.98 49.3643 Q1113.98 57.4256 1117.3 61.8816 Q1120.66 66.3376 1126.66 66.3376 Q1132.69 66.3376 1136.01 61.8816 Q1139.38 57.4256 1139.38 49.3643 M1146.83 66.9452 Q1146.83 78.5308 1141.69 84.1616 Q1136.54 89.8329 1125.93 89.8329 Q1122 89.8329 1118.51 89.2252 Q1115.03 88.6581 1111.75 87.4428 L1111.75 80.1917 Q1115.03 81.9741 1118.23 82.8248 Q1121.43 83.6755 1124.75 83.6755 Q1132.09 83.6755 1135.73 79.8271 Q1139.38 76.0193 1139.38 68.282 L1139.38 64.5957 Q1137.07 68.6061 1133.46 70.5911 Q1129.86 72.576 1124.83 72.576 Q1116.49 72.576 1111.39 66.2161 Q1106.28 59.8562 1106.28 49.3643 Q1106.28 38.832 1111.39 32.472 Q1116.49 26.1121 1124.83 26.1121 Q1129.86 26.1121 1133.46 28.0971 Q1137.07 30.082 1139.38 34.0924 L1139.38 27.2059 L1146.83 27.2059 L1146.83 66.9452 Z\" fill=\"#000000\" fill-rule=\"nonzero\" fill-opacity=\"1\" /><path clip-path=\"url(#clip160)\" d=\"M1200.99 48.0275 L1200.99 51.6733 L1166.72 51.6733 Q1167.21 59.3701 1171.34 63.421 Q1175.51 67.4314 1182.92 67.4314 Q1187.22 67.4314 1191.23 66.3781 Q1195.28 65.3249 1199.25 63.2184 L1199.25 70.267 Q1195.24 71.9684 1191.03 72.8596 Q1186.81 73.7508 1182.48 73.7508 Q1171.62 73.7508 1165.26 67.4314 Q1158.94 61.1119 1158.94 50.3365 Q1158.94 39.1965 1164.94 32.6746 Q1170.97 26.1121 1181.18 26.1121 Q1190.34 26.1121 1195.64 32.0264 Q1200.99 37.9003 1200.99 48.0275 M1193.54 45.84 Q1193.46 39.7232 1190.09 36.0774 Q1186.77 32.4315 1181.26 32.4315 Q1175.02 32.4315 1171.26 35.9558 Q1167.53 39.4801 1166.96 45.8805 L1193.54 45.84 Z\" fill=\"#000000\" fill-rule=\"nonzero\" fill-opacity=\"1\" /><path clip-path=\"url(#clip160)\" d=\"M1250.94 45.1919 L1250.94 72.576 L1243.49 72.576 L1243.49 45.4349 Q1243.49 38.994 1240.97 35.7938 Q1238.46 32.5936 1233.44 32.5936 Q1227.4 32.5936 1223.92 36.4419 Q1220.44 40.2903 1220.44 46.9338 L1220.44 72.576 L1212.94 72.576 L1212.94 27.2059 L1220.44 27.2059 L1220.44 34.2544 Q1223.11 30.163 1226.71 28.1376 Q1230.36 26.1121 1235.1 26.1121 Q1242.92 26.1121 1246.93 30.9732 Q1250.94 35.7938 1250.94 45.1919 Z\" fill=\"#000000\" fill-rule=\"nonzero\" fill-opacity=\"1\" /><path clip-path=\"url(#clip160)\" d=\"M1298.46 28.9478 L1298.46 35.9153 Q1295.3 34.1734 1292.1 33.3227 Q1288.94 32.4315 1285.7 32.4315 Q1278.44 32.4315 1274.43 37.0496 Q1270.42 41.6271 1270.42 49.9314 Q1270.42 58.2358 1274.43 62.8538 Q1278.44 67.4314 1285.7 67.4314 Q1288.94 67.4314 1292.1 66.5807 Q1295.3 65.6895 1298.46 63.9476 L1298.46 70.8341 Q1295.34 72.2924 1291.97 73.0216 Q1288.65 73.7508 1284.89 73.7508 Q1274.64 73.7508 1268.6 67.3098 Q1262.56 60.8689 1262.56 49.9314 Q1262.56 38.832 1268.64 32.472 Q1274.76 26.1121 1285.37 26.1121 Q1288.81 26.1121 1292.1 26.8413 Q1295.38 27.5299 1298.46 28.9478 Z\" fill=\"#000000\" fill-rule=\"nonzero\" fill-opacity=\"1\" /><path clip-path=\"url(#clip160)\" d=\"M1350.23 48.0275 L1350.23 51.6733 L1315.96 51.6733 Q1316.44 59.3701 1320.57 63.421 Q1324.75 67.4314 1332.16 67.4314 Q1336.45 67.4314 1340.46 66.3781 Q1344.51 65.3249 1348.48 63.2184 L1348.48 70.267 Q1344.47 71.9684 1340.26 72.8596 Q1336.05 73.7508 1331.71 73.7508 Q1320.86 73.7508 1314.5 67.4314 Q1308.18 61.1119 1308.18 50.3365 Q1308.18 39.1965 1314.17 32.6746 Q1320.21 26.1121 1330.42 26.1121 Q1339.57 26.1121 1344.88 32.0264 Q1350.23 37.9003 1350.23 48.0275 M1342.77 45.84 Q1342.69 39.7232 1339.33 36.0774 Q1336.01 32.4315 1330.5 32.4315 Q1324.26 32.4315 1320.49 35.9558 Q1316.77 39.4801 1316.2 45.8805 L1342.77 45.84 Z\" fill=\"#000000\" fill-rule=\"nonzero\" fill-opacity=\"1\" /><path clip-path=\"url(#clip160)\" d=\"M1421.48 28.9478 L1421.48 35.9153 Q1418.32 34.1734 1415.12 33.3227 Q1411.96 32.4315 1408.72 32.4315 Q1401.47 32.4315 1397.46 37.0496 Q1393.45 41.6271 1393.45 49.9314 Q1393.45 58.2358 1397.46 62.8538 Q1401.47 67.4314 1408.72 67.4314 Q1411.96 67.4314 1415.12 66.5807 Q1418.32 65.6895 1421.48 63.9476 L1421.48 70.8341 Q1418.36 72.2924 1415 73.0216 Q1411.68 73.7508 1407.91 73.7508 Q1397.66 73.7508 1391.63 67.3098 Q1385.59 60.8689 1385.59 49.9314 Q1385.59 38.832 1391.67 32.472 Q1397.78 26.1121 1408.4 26.1121 Q1411.84 26.1121 1415.12 26.8413 Q1418.4 27.5299 1421.48 28.9478 Z\" fill=\"#000000\" fill-rule=\"nonzero\" fill-opacity=\"1\" /><path clip-path=\"url(#clip160)\" d=\"M1433.67 54.671 L1433.67 27.2059 L1441.13 27.2059 L1441.13 54.3874 Q1441.13 60.8284 1443.64 64.0691 Q1446.15 67.2693 1451.17 67.2693 Q1457.21 67.2693 1460.69 63.421 Q1464.22 59.5726 1464.22 52.9291 L1464.22 27.2059 L1471.67 27.2059 L1471.67 72.576 L1464.22 72.576 L1464.22 65.6084 Q1461.5 69.7404 1457.9 71.7658 Q1454.33 73.7508 1449.6 73.7508 Q1441.78 73.7508 1437.73 68.8897 Q1433.67 64.0286 1433.67 54.671 M1452.43 26.1121 L1452.43 26.1121 Z\" fill=\"#000000\" fill-rule=\"nonzero\" fill-opacity=\"1\" /><path clip-path=\"url(#clip160)\" d=\"M1513.32 34.1734 Q1512.06 33.4443 1510.56 33.1202 Q1509.1 32.7556 1507.32 32.7556 Q1501 32.7556 1497.6 36.8875 Q1494.24 40.9789 1494.24 48.6757 L1494.24 72.576 L1486.74 72.576 L1486.74 27.2059 L1494.24 27.2059 L1494.24 34.2544 Q1496.59 30.1225 1500.35 28.1376 Q1504.12 26.1121 1509.51 26.1121 Q1510.28 26.1121 1511.21 26.2337 Q1512.14 26.3147 1513.28 26.5172 L1513.32 34.1734 Z\" fill=\"#000000\" fill-rule=\"nonzero\" fill-opacity=\"1\" /><path clip-path=\"url(#clip160)\" d=\"M1515.79 27.2059 L1523.69 27.2059 L1537.86 65.2844 L1552.04 27.2059 L1559.94 27.2059 L1542.93 72.576 L1532.8 72.576 L1515.79 27.2059 Z\" fill=\"#000000\" fill-rule=\"nonzero\" fill-opacity=\"1\" /><path clip-path=\"url(#clip160)\" d=\"M1609.04 48.0275 L1609.04 51.6733 L1574.77 51.6733 Q1575.25 59.3701 1579.39 63.421 Q1583.56 67.4314 1590.97 67.4314 Q1595.27 67.4314 1599.28 66.3781 Q1603.33 65.3249 1607.3 63.2184 L1607.3 70.267 Q1603.29 71.9684 1599.07 72.8596 Q1594.86 73.7508 1590.53 73.7508 Q1579.67 73.7508 1573.31 67.4314 Q1566.99 61.1119 1566.99 50.3365 Q1566.99 39.1965 1572.99 32.6746 Q1579.02 26.1121 1589.23 26.1121 Q1598.38 26.1121 1603.69 32.0264 Q1609.04 37.9003 1609.04 48.0275 M1601.58 45.84 Q1601.5 39.7232 1598.14 36.0774 Q1594.82 32.4315 1589.31 32.4315 Q1583.07 32.4315 1579.3 35.9558 Q1575.58 39.4801 1575.01 45.8805 L1601.58 45.84 Z\" fill=\"#000000\" fill-rule=\"nonzero\" fill-opacity=\"1\" /><path clip-path=\"url(#clip160)\" d=\"M1650.2 28.5427 L1650.2 35.5912 Q1647.04 33.9709 1643.63 33.1607 Q1640.23 32.3505 1636.58 32.3505 Q1631.04 32.3505 1628.24 34.0519 Q1625.49 35.7533 1625.49 39.156 Q1625.49 41.7486 1627.47 43.2475 Q1629.46 44.7058 1635.45 46.0426 L1638 46.6097 Q1645.94 48.3111 1649.26 51.4303 Q1652.63 54.509 1652.63 60.0587 Q1652.63 66.3781 1647.6 70.0644 Q1642.62 73.7508 1633.87 73.7508 Q1630.22 73.7508 1626.25 73.0216 Q1622.33 72.3329 1617.95 70.9151 L1617.95 63.2184 Q1622.08 65.3654 1626.09 66.4591 Q1630.1 67.5124 1634.03 67.5124 Q1639.3 67.5124 1642.13 65.73 Q1644.97 63.9071 1644.97 60.6258 Q1644.97 57.5877 1642.9 55.9673 Q1640.88 54.3469 1633.95 52.8481 L1631.36 52.2405 Q1624.43 50.7821 1621.35 47.7845 Q1618.27 44.7463 1618.27 39.4801 Q1618.27 33.0797 1622.81 29.5959 Q1627.35 26.1121 1635.69 26.1121 Q1639.83 26.1121 1643.47 26.7198 Q1647.12 27.3274 1650.2 28.5427 Z\" fill=\"#000000\" fill-rule=\"nonzero\" fill-opacity=\"1\" /><polyline clip-path=\"url(#clip162)\" style=\"stroke:#009af9; stroke-linecap:round; stroke-linejoin:round; stroke-width:12; stroke-opacity:1; fill:none\" points=\"175.59,385.291 196.941,1069.57 218.292,1069.57 239.643,1073.31 260.994,1073.31 282.345,1131.54 303.696,1232.97 325.047,1256.19 346.398,1256.19 367.749,1311.24 389.1,1311.24 410.451,1360.75 431.802,1360.75 453.153,1360.75 474.504,1360.75 495.855,1379.09 517.207,1379.09 538.558,1379.09 559.909,1379.09 581.26,1390.2 602.611,1390.2 623.962,1392.7 645.313,1399.77 666.664,1412.5 688.015,1412.5 709.366,1412.5 730.717,1412.5 752.068,1412.5 773.419,1412.5 794.77,1412.5 816.121,1412.5 837.472,1418.69 858.823,1422.3 880.174,1427.91 901.525,1430.04 922.876,1430.04 944.227,1430.04 965.578,1432.2 986.93,1432.2 1008.28,1432.2 1029.63,1432.2 1050.98,1436.21 1072.33,1436.21 1093.68,1436.21 1115.04,1436.21 1136.39,1436.21 1157.74,1436.21 1179.09,1437.5 1200.44,1437.5 1221.79,1437.5 1243.14,1437.5 1264.49,1437.5 1285.84,1437.5 1307.2,1437.5 1328.55,1437.5 1349.9,1437.5 1371.25,1437.5 1392.6,1437.5 1413.95,1437.6 1435.3,1437.6 1456.65,1437.6 1478,1437.6 1499.35,1439.07 1520.71,1439.07 1542.06,1439.07 1563.41,1439.07 1584.76,1441.28 1606.11,1441.28 1627.46,1442.61 1648.81,1442.61 1670.16,1442.61 1691.51,1442.61 1712.87,1442.61 1734.22,1443.99 1755.57,1445.78 1776.92,1445.78 1798.27,1445.78 1819.62,1445.78 1840.97,1445.78 1862.32,1445.78 1883.67,1445.78 1905.02,1445.78 1926.38,1445.78 1947.73,1445.78 1969.08,1445.78 1990.43,1445.78 2011.78,1445.78 2033.13,1445.78 2054.48,1445.78 2075.83,1445.78 2097.18,1445.78 2118.53,1445.78 2139.89,1445.78 2161.24,1447.39 2182.59,1447.39 2203.94,1447.39 2225.29,1447.39 2246.64,1447.87 2267.99,1447.87 2289.34,1447.87 \"/>\n",
       "<polyline clip-path=\"url(#clip162)\" style=\"stroke:#e26f46; stroke-linecap:round; stroke-linejoin:round; stroke-width:12; stroke-opacity:1; fill:none\" points=\"175.59,162.047 196.941,824.078 218.292,874.433 239.643,874.433 260.994,974.984 282.345,978.973 303.696,1119.05 325.047,1160.72 346.398,1160.72 367.749,1218.39 389.1,1253.98 410.451,1309.4 431.802,1360.97 453.153,1360.97 474.504,1360.97 495.855,1360.97 517.207,1360.97 538.558,1360.97 559.909,1360.97 581.26,1362.64 602.611,1362.64 623.962,1376.73 645.313,1376.73 666.664,1383.3 688.015,1383.3 709.366,1403.84 730.717,1403.84 752.068,1403.84 773.419,1403.84 794.77,1403.84 816.121,1403.84 837.472,1403.84 858.823,1403.84 880.174,1403.84 901.525,1403.84 922.876,1403.84 944.227,1403.84 965.578,1403.84 986.93,1414.03 1008.28,1414.03 1029.63,1414.03 1050.98,1414.75 1072.33,1416.82 1093.68,1416.82 1115.04,1418.15 1136.39,1422.08 1157.74,1423.44 1179.09,1423.44 1200.44,1426.66 1221.79,1426.66 1243.14,1426.66 1264.49,1426.66 1285.84,1426.66 1307.2,1426.66 1328.55,1428.88 1349.9,1428.88 1371.25,1431.97 1392.6,1431.97 1413.95,1431.97 1435.3,1431.97 1456.65,1431.97 1478,1431.97 1499.35,1431.97 1520.71,1431.97 1542.06,1434.01 1563.41,1434.01 1584.76,1434.01 1606.11,1435.06 1627.46,1435.06 1648.81,1435.06 1670.16,1435.06 1691.51,1435.06 1712.87,1435.06 1734.22,1437.56 1755.57,1439.71 1776.92,1439.71 1798.27,1439.71 1819.62,1439.71 1840.97,1439.71 1862.32,1439.71 1883.67,1439.71 1905.02,1439.71 1926.38,1439.71 1947.73,1440.64 1969.08,1440.64 1990.43,1440.64 2011.78,1440.64 2033.13,1441.4 2054.48,1441.4 2075.83,1441.4 2097.18,1441.4 2118.53,1441.4 2139.89,1441.4 2161.24,1441.46 2182.59,1443.13 2203.94,1443.13 2225.29,1443.13 2246.64,1443.13 2267.99,1443.13 2289.34,1443.13 \"/>\n",
       "<path clip-path=\"url(#clip160)\" d=\"M1928.09 324.425 L2278.07 324.425 L2278.07 168.905 L1928.09 168.905  Z\" fill=\"#ffffff\" fill-rule=\"evenodd\" fill-opacity=\"1\"/>\n",
       "<polyline clip-path=\"url(#clip160)\" style=\"stroke:#000000; stroke-linecap:round; stroke-linejoin:round; stroke-width:4; stroke-opacity:1; fill:none\" points=\"1928.09,324.425 2278.07,324.425 2278.07,168.905 1928.09,168.905 1928.09,324.425 \"/>\n",
       "<polyline clip-path=\"url(#clip160)\" style=\"stroke:#009af9; stroke-linecap:round; stroke-linejoin:round; stroke-width:12; stroke-opacity:1; fill:none\" points=\"1952.98,220.745 2102.35,220.745 \"/>\n",
       "<path clip-path=\"url(#clip160)\" d=\"M2127.25 203.465 L2149.1 203.465 L2149.1 207.4 L2131.93 207.4 L2131.93 217.631 L2148.38 217.631 L2148.38 221.566 L2131.93 221.566 L2131.93 234.089 L2149.52 234.089 L2149.52 238.025 L2127.25 238.025 L2127.25 203.465 Z\" fill=\"#000000\" fill-rule=\"nonzero\" fill-opacity=\"1\" /><path clip-path=\"url(#clip160)\" d=\"M2178.57 212.099 L2169.19 224.715 L2179.05 238.025 L2174.03 238.025 L2166.49 227.84 L2158.94 238.025 L2153.92 238.025 L2163.99 224.46 L2154.77 212.099 L2159.8 212.099 L2166.67 221.335 L2173.55 212.099 L2178.57 212.099 Z\" fill=\"#000000\" fill-rule=\"nonzero\" fill-opacity=\"1\" /><path clip-path=\"url(#clip160)\" d=\"M2196.86 224.992 Q2191.69 224.992 2189.7 226.173 Q2187.71 227.353 2187.71 230.201 Q2187.71 232.469 2189.19 233.812 Q2190.7 235.131 2193.27 235.131 Q2196.81 235.131 2198.94 232.631 Q2201.09 230.108 2201.09 225.941 L2201.09 224.992 L2196.86 224.992 M2205.35 223.233 L2205.35 238.025 L2201.09 238.025 L2201.09 234.089 Q2199.63 236.451 2197.46 237.585 Q2195.28 238.696 2192.13 238.696 Q2188.15 238.696 2185.79 236.474 Q2183.45 234.228 2183.45 230.478 Q2183.45 226.103 2186.37 223.881 Q2189.31 221.659 2195.12 221.659 L2201.09 221.659 L2201.09 221.242 Q2201.09 218.303 2199.15 216.705 Q2197.23 215.085 2193.73 215.085 Q2191.51 215.085 2189.4 215.617 Q2187.3 216.15 2185.35 217.215 L2185.35 213.279 Q2187.69 212.377 2189.89 211.937 Q2192.09 211.474 2194.17 211.474 Q2199.8 211.474 2202.57 214.391 Q2205.35 217.307 2205.35 223.233 Z\" fill=\"#000000\" fill-rule=\"nonzero\" fill-opacity=\"1\" /><path clip-path=\"url(#clip160)\" d=\"M2232.78 213.094 L2232.78 217.076 Q2230.98 216.08 2229.15 215.594 Q2227.34 215.085 2225.49 215.085 Q2221.35 215.085 2219.05 217.724 Q2216.76 220.34 2216.76 225.085 Q2216.76 229.83 2219.05 232.469 Q2221.35 235.085 2225.49 235.085 Q2227.34 235.085 2229.15 234.599 Q2230.98 234.089 2232.78 233.094 L2232.78 237.029 Q2231 237.863 2229.08 238.279 Q2227.18 238.696 2225.03 238.696 Q2219.17 238.696 2215.72 235.015 Q2212.27 231.335 2212.27 225.085 Q2212.27 218.742 2215.74 215.108 Q2219.24 211.474 2225.3 211.474 Q2227.27 211.474 2229.15 211.891 Q2231.02 212.284 2232.78 213.094 Z\" fill=\"#000000\" fill-rule=\"nonzero\" fill-opacity=\"1\" /><path clip-path=\"url(#clip160)\" d=\"M2244.4 204.738 L2244.4 212.099 L2253.17 212.099 L2253.17 215.409 L2244.4 215.409 L2244.4 229.483 Q2244.4 232.654 2245.26 233.557 Q2246.14 234.46 2248.8 234.46 L2253.17 234.46 L2253.17 238.025 L2248.8 238.025 Q2243.87 238.025 2241.99 236.196 Q2240.12 234.344 2240.12 229.483 L2240.12 215.409 L2236.99 215.409 L2236.99 212.099 L2240.12 212.099 L2240.12 204.738 L2244.4 204.738 Z\" fill=\"#000000\" fill-rule=\"nonzero\" fill-opacity=\"1\" /><polyline clip-path=\"url(#clip160)\" style=\"stroke:#e26f46; stroke-linecap:round; stroke-linejoin:round; stroke-width:12; stroke-opacity:1; fill:none\" points=\"1952.98,272.585 2102.35,272.585 \"/>\n",
       "<path clip-path=\"url(#clip160)\" d=\"M2127.25 255.305 L2133.55 255.305 L2148.87 284.217 L2148.87 255.305 L2153.41 255.305 L2153.41 289.865 L2147.11 289.865 L2131.79 260.953 L2131.79 289.865 L2127.25 289.865 L2127.25 255.305 Z\" fill=\"#000000\" fill-rule=\"nonzero\" fill-opacity=\"1\" /><path clip-path=\"url(#clip160)\" d=\"M2172.57 266.925 Q2169.15 266.925 2167.16 269.61 Q2165.17 272.272 2165.17 276.925 Q2165.17 281.578 2167.13 284.263 Q2169.12 286.925 2172.57 286.925 Q2175.98 286.925 2177.97 284.24 Q2179.96 281.555 2179.96 276.925 Q2179.96 272.318 2177.97 269.633 Q2175.98 266.925 2172.57 266.925 M2172.57 263.314 Q2178.13 263.314 2181.3 266.925 Q2184.47 270.536 2184.47 276.925 Q2184.47 283.291 2181.3 286.925 Q2178.13 290.536 2172.57 290.536 Q2166.99 290.536 2163.82 286.925 Q2160.68 283.291 2160.68 276.925 Q2160.68 270.536 2163.82 266.925 Q2166.99 263.314 2172.57 263.314 Z\" fill=\"#000000\" fill-rule=\"nonzero\" fill-opacity=\"1\" /><path clip-path=\"url(#clip160)\" d=\"M2191.53 263.939 L2195.79 263.939 L2195.79 289.865 L2191.53 289.865 L2191.53 263.939 M2191.53 253.846 L2195.79 253.846 L2195.79 259.24 L2191.53 259.24 L2191.53 253.846 Z\" fill=\"#000000\" fill-rule=\"nonzero\" fill-opacity=\"1\" /><path clip-path=\"url(#clip160)\" d=\"M2221.23 264.703 L2221.23 268.731 Q2219.42 267.805 2217.48 267.342 Q2215.54 266.879 2213.45 266.879 Q2210.28 266.879 2208.68 267.851 Q2207.11 268.823 2207.11 270.768 Q2207.11 272.249 2208.24 273.105 Q2209.38 273.939 2212.8 274.703 L2214.26 275.027 Q2218.8 275.999 2220.7 277.781 Q2222.62 279.541 2222.62 282.712 Q2222.62 286.323 2219.75 288.429 Q2216.9 290.536 2211.9 290.536 Q2209.82 290.536 2207.55 290.119 Q2205.3 289.726 2202.8 288.916 L2202.8 284.517 Q2205.17 285.744 2207.46 286.369 Q2209.75 286.971 2211.99 286.971 Q2215 286.971 2216.62 285.953 Q2218.24 284.911 2218.24 283.036 Q2218.24 281.3 2217.06 280.374 Q2215.91 279.448 2211.95 278.592 L2210.47 278.244 Q2206.51 277.411 2204.75 275.698 Q2202.99 273.962 2202.99 270.953 Q2202.99 267.295 2205.58 265.305 Q2208.17 263.314 2212.94 263.314 Q2215.3 263.314 2217.39 263.661 Q2219.47 264.008 2221.23 264.703 Z\" fill=\"#000000\" fill-rule=\"nonzero\" fill-opacity=\"1\" /><path clip-path=\"url(#clip160)\" d=\"M2240.19 292.272 Q2238.38 296.902 2236.67 298.314 Q2234.96 299.726 2232.09 299.726 L2228.68 299.726 L2228.68 296.161 L2231.18 296.161 Q2232.94 296.161 2233.92 295.328 Q2234.89 294.494 2236.07 291.392 L2236.83 289.448 L2226.35 263.939 L2230.86 263.939 L2238.96 284.217 L2247.06 263.939 L2251.58 263.939 L2240.19 292.272 Z\" fill=\"#000000\" fill-rule=\"nonzero\" fill-opacity=\"1\" /></svg>\n"
      ]
     },
     "execution_count": 12,
     "metadata": {},
     "output_type": "execute_result"
    }
   ],
   "source": [
    "\n",
    "using Plots\n",
    "\n",
    "#Initialisation\n",
    "x = zeros(n,1);\n",
    "i = 0;\n",
    "fbest =1e10; # $f_{best}^0$: cas du sous-gradient exact\n",
    "fbestp=1e10; # $f_{best}^0$: cas du sous-gradient bruité\n",
    "histo =[];# Suite des itérés f_{best}^k-f_{star} pour le cas du sous-gradient exact\n",
    "histop=[];# Suite des itérés f_{best}^k-f_{star}, pour le cas du sous-gradient bruité\n",
    "\n",
    "#Niveau de bruit\n",
    "noise_lvl=.3;\n",
    "\n",
    "# Resolution \n",
    "# Insérer votre code\n",
    "itermax = 100\n",
    "xp = x\n",
    "xp_b = x\n",
    "while i < itermax\n",
    "    i = i + 1\n",
    "    ak = 1/(i)\n",
    "    xp = xp - ak*subgrad(A,b,xp)\n",
    "    fxp = findmax(abs.(A*xp-b))[1]   \n",
    "    if (fxp < fbest) \n",
    "        fbest = fxp\n",
    "    end\n",
    "    xp_b = xp_b - ak*(subgrad(A,b,xp_b) + noise_lvl*randn(n,1));\n",
    "    fxpb = findmax(abs.(A*xp_b-b))[1]   \n",
    "    if (fxpb < fbestp) \n",
    "        fbestp = fxpb\n",
    "    end\n",
    "    append!(histo, fbest-Rstar)\n",
    "    append!(histop, fbestp-Rstar)\n",
    "end\n",
    "# Fin insérer code\n",
    "\n",
    "#Affichage des courbes de convergence\n",
    "iter=1:100;\n",
    "hf=[histo,histop];\n",
    "print(\"La meilleur valeur de f_best-R_star est: \")\n",
    "print('\\n')\n",
    "println(\"Sans bruit: \" * string(histo[100]))\n",
    "println(\"Bruité: \" * string(histop[100]))\n",
    "plot(iter,hf,title=\"Convergence curves\",label=[\"Exact\" \"Noisy\"],lw=3)"
   ]
  },
  {
   "cell_type": "markdown",
   "metadata": {
    "slideshow": {
     "slide_type": "slide"
    }
   },
   "source": [
    "## II. Minimisation stochastique d'une fonction stochatique\n",
    "\n"
   ]
  },
  {
   "cell_type": "markdown",
   "metadata": {
    "slideshow": {
     "slide_type": "fragment"
    }
   },
   "source": [
    "On s'intéresse au problème\n",
    "$$\\min_x f(x) =\\text{E} (\\max_{i=1\\dots m}|a_i^Tx-b_i |).$$\n",
    "\n",
    "On suppose que $a_i$ est un vecteur colonne représentant la $i$eme ligne d'une matrice $A$ de taille $m \\times n$ ($m=100, n=20$) , et les $b_i$ sont les composantes d'un second membre $b$ de taille $m$, ($1 \\le i \\le m$), $x$ un vecteur de taille $n$. Ces quantités sont générées une fois pour toutes à partir de distributions Gaussiennes de moyenne connue $\\bar{A}$ et $\\bar{b}$ (non nécesairement nulle) et d'écart type identité.\n",
    "\n",
    "**Question 5 :** Proposer deux fonctions d'évaluation de la fonction $f$ et d'un sous-gradient de $f$ basées sur des échantillons de taille $M$.\n"
   ]
  },
  {
   "cell_type": "code",
   "execution_count": 13,
   "metadata": {},
   "outputs": [
    {
     "data": {
      "text/plain": [
       "subgrads (generic function with 1 method)"
      ]
     },
     "execution_count": 13,
     "metadata": {},
     "output_type": "execute_result"
    }
   ],
   "source": [
    "# Evaluation de f\n",
    "function fvals(Abar,bbar,noise,xs,M) \n",
    "    # Abar, bbar : moyenne des données\n",
    "    # noise : niveau de bruit \n",
    "    # xs : vecteur courant \n",
    "    # M: taille de l'échantillon\n",
    "\n",
    "# Insérer votre code\n",
    "    s = 0\n",
    "    for i=1:M\n",
    "        A = noise*randn(m,n) + Abar\n",
    "        b = noise*randn(m,1) + bbar\n",
    "        s += findmax(abs.(A*xs-b))[1]\n",
    "    end\n",
    "    return s/M\n",
    "# Fin insérer code\n",
    "\n",
    "end\n",
    "\n",
    "# Evaluation d'un sous-gradient\n",
    "function subgrads(Abar,bbar,noise,xs,M)\n",
    "    # Abar, bbar : moyenne des données\n",
    "    # noise : niveau de bruit \n",
    "    # xs : vecteur courant \n",
    "    # M: taille de l'échantillon\n",
    "    \n",
    "# Insérer votre code\n",
    "\n",
    "    s = zeros(n,1)\n",
    "    for i = 1:M\n",
    "        A = noise*randn(m,n) + Abar\n",
    "        b = noise*randn(m,1) + bbar\n",
    "        s = s + subgrad(A,b,xs)\n",
    "    end\n",
    "    return s/M\n",
    "# Fin insérer code\n",
    "\n",
    "end\n"
   ]
  },
  {
   "cell_type": "markdown",
   "metadata": {
    "slideshow": {
     "slide_type": "fragment"
    }
   },
   "source": [
    "**Question 6 :** Comparer les courbes de convergence du problème déterministe $$ \\min_x f(x) = \\max_{i=1\\dots m}|\\text{E} (a_i)^Tx-\\text{E} (b_i) |,$$ et du problème stochastique obtenu avec $M=10,100,1000$ échantillons. Donnez la valeur minimale de $f$."
   ]
  },
  {
   "cell_type": "code",
   "execution_count": 14,
   "metadata": {
    "scrolled": false,
    "slideshow": {
     "slide_type": "slide"
    }
   },
   "outputs": [
    {
     "name": "stdout",
     "output_type": "stream",
     "text": [
      "La meilleur valeur de f_best est: \n",
      "Deterministe: 56.462408255296005\n",
      "Stochastique: 32.31295396298387\n"
     ]
    },
    {
     "data": {
      "image/svg+xml": [
       "<?xml version=\"1.0\" encoding=\"utf-8\"?>\n",
       "<svg xmlns=\"http://www.w3.org/2000/svg\" xmlns:xlink=\"http://www.w3.org/1999/xlink\" width=\"600\" height=\"400\" viewBox=\"0 0 2400 1600\">\n",
       "<defs>\n",
       "  <clipPath id=\"clip200\">\n",
       "    <rect x=\"0\" y=\"0\" width=\"2400\" height=\"1600\"/>\n",
       "  </clipPath>\n",
       "</defs>\n",
       "<path clip-path=\"url(#clip200)\" d=\"M0 1600 L2400 1600 L2400 0 L0 0  Z\" fill=\"#ffffff\" fill-rule=\"evenodd\" fill-opacity=\"1\"/>\n",
       "<defs>\n",
       "  <clipPath id=\"clip201\">\n",
       "    <rect x=\"480\" y=\"0\" width=\"1681\" height=\"1600\"/>\n",
       "  </clipPath>\n",
       "</defs>\n",
       "<path clip-path=\"url(#clip200)\" d=\"M201.019 1486.45 L2352.76 1486.45 L2352.76 123.472 L201.019 123.472  Z\" fill=\"#ffffff\" fill-rule=\"evenodd\" fill-opacity=\"1\"/>\n",
       "<defs>\n",
       "  <clipPath id=\"clip202\">\n",
       "    <rect x=\"201\" y=\"123\" width=\"2153\" height=\"1364\"/>\n",
       "  </clipPath>\n",
       "</defs>\n",
       "<polyline clip-path=\"url(#clip202)\" style=\"stroke:#000000; stroke-linecap:round; stroke-linejoin:round; stroke-width:2; stroke-opacity:0.1; fill:none\" points=\"241.413,1486.45 241.413,123.472 \"/>\n",
       "<polyline clip-path=\"url(#clip202)\" style=\"stroke:#000000; stroke-linecap:round; stroke-linejoin:round; stroke-width:2; stroke-opacity:0.1; fill:none\" points=\"754.024,1486.45 754.024,123.472 \"/>\n",
       "<polyline clip-path=\"url(#clip202)\" style=\"stroke:#000000; stroke-linecap:round; stroke-linejoin:round; stroke-width:2; stroke-opacity:0.1; fill:none\" points=\"1266.64,1486.45 1266.64,123.472 \"/>\n",
       "<polyline clip-path=\"url(#clip202)\" style=\"stroke:#000000; stroke-linecap:round; stroke-linejoin:round; stroke-width:2; stroke-opacity:0.1; fill:none\" points=\"1779.25,1486.45 1779.25,123.472 \"/>\n",
       "<polyline clip-path=\"url(#clip202)\" style=\"stroke:#000000; stroke-linecap:round; stroke-linejoin:round; stroke-width:2; stroke-opacity:0.1; fill:none\" points=\"2291.86,1486.45 2291.86,123.472 \"/>\n",
       "<polyline clip-path=\"url(#clip200)\" style=\"stroke:#000000; stroke-linecap:round; stroke-linejoin:round; stroke-width:4; stroke-opacity:1; fill:none\" points=\"201.019,1486.45 2352.76,1486.45 \"/>\n",
       "<polyline clip-path=\"url(#clip200)\" style=\"stroke:#000000; stroke-linecap:round; stroke-linejoin:round; stroke-width:4; stroke-opacity:1; fill:none\" points=\"241.413,1486.45 241.413,1467.55 \"/>\n",
       "<polyline clip-path=\"url(#clip200)\" style=\"stroke:#000000; stroke-linecap:round; stroke-linejoin:round; stroke-width:4; stroke-opacity:1; fill:none\" points=\"754.024,1486.45 754.024,1467.55 \"/>\n",
       "<polyline clip-path=\"url(#clip200)\" style=\"stroke:#000000; stroke-linecap:round; stroke-linejoin:round; stroke-width:4; stroke-opacity:1; fill:none\" points=\"1266.64,1486.45 1266.64,1467.55 \"/>\n",
       "<polyline clip-path=\"url(#clip200)\" style=\"stroke:#000000; stroke-linecap:round; stroke-linejoin:round; stroke-width:4; stroke-opacity:1; fill:none\" points=\"1779.25,1486.45 1779.25,1467.55 \"/>\n",
       "<polyline clip-path=\"url(#clip200)\" style=\"stroke:#000000; stroke-linecap:round; stroke-linejoin:round; stroke-width:4; stroke-opacity:1; fill:none\" points=\"2291.86,1486.45 2291.86,1467.55 \"/>\n",
       "<path clip-path=\"url(#clip200)\" d=\"M241.413 1517.37 Q237.802 1517.37 235.973 1520.93 Q234.168 1524.47 234.168 1531.6 Q234.168 1538.71 235.973 1542.27 Q237.802 1545.82 241.413 1545.82 Q245.047 1545.82 246.853 1542.27 Q248.682 1538.71 248.682 1531.6 Q248.682 1524.47 246.853 1520.93 Q245.047 1517.37 241.413 1517.37 M241.413 1513.66 Q247.223 1513.66 250.279 1518.27 Q253.357 1522.85 253.357 1531.6 Q253.357 1540.33 250.279 1544.94 Q247.223 1549.52 241.413 1549.52 Q235.603 1549.52 232.524 1544.94 Q229.469 1540.33 229.469 1531.6 Q229.469 1522.85 232.524 1518.27 Q235.603 1513.66 241.413 1513.66 Z\" fill=\"#000000\" fill-rule=\"nonzero\" fill-opacity=\"1\" /><path clip-path=\"url(#clip200)\" d=\"M733.295 1544.91 L749.615 1544.91 L749.615 1548.85 L727.67 1548.85 L727.67 1544.91 Q730.332 1542.16 734.916 1537.53 Q739.522 1532.88 740.703 1531.53 Q742.948 1529.01 743.828 1527.27 Q744.73 1525.51 744.73 1523.82 Q744.73 1521.07 742.786 1519.33 Q740.865 1517.6 737.763 1517.6 Q735.564 1517.6 733.11 1518.36 Q730.679 1519.13 727.902 1520.68 L727.902 1515.95 Q730.726 1514.82 733.179 1514.24 Q735.633 1513.66 737.67 1513.66 Q743.04 1513.66 746.235 1516.35 Q749.429 1519.03 749.429 1523.52 Q749.429 1525.65 748.619 1527.57 Q747.832 1529.47 745.726 1532.07 Q745.147 1532.74 742.045 1535.95 Q738.943 1539.15 733.295 1544.91 Z\" fill=\"#000000\" fill-rule=\"nonzero\" fill-opacity=\"1\" /><path clip-path=\"url(#clip200)\" d=\"M759.476 1514.29 L777.832 1514.29 L777.832 1518.22 L763.758 1518.22 L763.758 1526.7 Q764.776 1526.35 765.795 1526.19 Q766.813 1526 767.832 1526 Q773.619 1526 776.999 1529.17 Q780.378 1532.34 780.378 1537.76 Q780.378 1543.34 776.906 1546.44 Q773.434 1549.52 767.114 1549.52 Q764.939 1549.52 762.67 1549.15 Q760.425 1548.78 758.017 1548.04 L758.017 1543.34 Q760.101 1544.47 762.323 1545.03 Q764.545 1545.58 767.022 1545.58 Q771.026 1545.58 773.364 1543.48 Q775.702 1541.37 775.702 1537.76 Q775.702 1534.15 773.364 1532.04 Q771.026 1529.94 767.022 1529.94 Q765.147 1529.94 763.272 1530.35 Q761.42 1530.77 759.476 1531.65 L759.476 1514.29 Z\" fill=\"#000000\" fill-rule=\"nonzero\" fill-opacity=\"1\" /><path clip-path=\"url(#clip200)\" d=\"M1241.33 1514.29 L1259.69 1514.29 L1259.69 1518.22 L1245.62 1518.22 L1245.62 1526.7 Q1246.64 1526.35 1247.65 1526.19 Q1248.67 1526 1249.69 1526 Q1255.48 1526 1258.86 1529.17 Q1262.24 1532.34 1262.24 1537.76 Q1262.24 1543.34 1258.77 1546.44 Q1255.29 1549.52 1248.97 1549.52 Q1246.8 1549.52 1244.53 1549.15 Q1242.28 1548.78 1239.88 1548.04 L1239.88 1543.34 Q1241.96 1544.47 1244.18 1545.03 Q1246.4 1545.58 1248.88 1545.58 Q1252.89 1545.58 1255.22 1543.48 Q1257.56 1541.37 1257.56 1537.76 Q1257.56 1534.15 1255.22 1532.04 Q1252.89 1529.94 1248.88 1529.94 Q1247.01 1529.94 1245.13 1530.35 Q1243.28 1530.77 1241.33 1531.65 L1241.33 1514.29 Z\" fill=\"#000000\" fill-rule=\"nonzero\" fill-opacity=\"1\" /><path clip-path=\"url(#clip200)\" d=\"M1281.45 1517.37 Q1277.84 1517.37 1276.01 1520.93 Q1274.2 1524.47 1274.2 1531.6 Q1274.2 1538.71 1276.01 1542.27 Q1277.84 1545.82 1281.45 1545.82 Q1285.08 1545.82 1286.89 1542.27 Q1288.72 1538.71 1288.72 1531.6 Q1288.72 1524.47 1286.89 1520.93 Q1285.08 1517.37 1281.45 1517.37 M1281.45 1513.66 Q1287.26 1513.66 1290.32 1518.27 Q1293.39 1522.85 1293.39 1531.6 Q1293.39 1540.33 1290.32 1544.94 Q1287.26 1549.52 1281.45 1549.52 Q1275.64 1549.52 1272.56 1544.94 Q1269.51 1540.33 1269.51 1531.6 Q1269.51 1522.85 1272.56 1518.27 Q1275.64 1513.66 1281.45 1513.66 Z\" fill=\"#000000\" fill-rule=\"nonzero\" fill-opacity=\"1\" /><path clip-path=\"url(#clip200)\" d=\"M1753.1 1514.29 L1775.32 1514.29 L1775.32 1516.28 L1762.78 1548.85 L1757.89 1548.85 L1769.7 1518.22 L1753.1 1518.22 L1753.1 1514.29 Z\" fill=\"#000000\" fill-rule=\"nonzero\" fill-opacity=\"1\" /><path clip-path=\"url(#clip200)\" d=\"M1784.49 1514.29 L1802.85 1514.29 L1802.85 1518.22 L1788.77 1518.22 L1788.77 1526.7 Q1789.79 1526.35 1790.81 1526.19 Q1791.83 1526 1792.85 1526 Q1798.63 1526 1802.01 1529.17 Q1805.39 1532.34 1805.39 1537.76 Q1805.39 1543.34 1801.92 1546.44 Q1798.45 1549.52 1792.13 1549.52 Q1789.95 1549.52 1787.68 1549.15 Q1785.44 1548.78 1783.03 1548.04 L1783.03 1543.34 Q1785.11 1544.47 1787.34 1545.03 Q1789.56 1545.58 1792.04 1545.58 Q1796.04 1545.58 1798.38 1543.48 Q1800.72 1541.37 1800.72 1537.76 Q1800.72 1534.15 1798.38 1532.04 Q1796.04 1529.94 1792.04 1529.94 Q1790.16 1529.94 1788.29 1530.35 Q1786.43 1530.77 1784.49 1531.65 L1784.49 1514.29 Z\" fill=\"#000000\" fill-rule=\"nonzero\" fill-opacity=\"1\" /><path clip-path=\"url(#clip200)\" d=\"M2251.46 1544.91 L2259.1 1544.91 L2259.1 1518.55 L2250.79 1520.21 L2250.79 1515.95 L2259.06 1514.29 L2263.73 1514.29 L2263.73 1544.91 L2271.37 1544.91 L2271.37 1548.85 L2251.46 1548.85 L2251.46 1544.91 Z\" fill=\"#000000\" fill-rule=\"nonzero\" fill-opacity=\"1\" /><path clip-path=\"url(#clip200)\" d=\"M2290.82 1517.37 Q2287.2 1517.37 2285.38 1520.93 Q2283.57 1524.47 2283.57 1531.6 Q2283.57 1538.71 2285.38 1542.27 Q2287.2 1545.82 2290.82 1545.82 Q2294.45 1545.82 2296.26 1542.27 Q2298.08 1538.71 2298.08 1531.6 Q2298.08 1524.47 2296.26 1520.93 Q2294.45 1517.37 2290.82 1517.37 M2290.82 1513.66 Q2296.63 1513.66 2299.68 1518.27 Q2302.76 1522.85 2302.76 1531.6 Q2302.76 1540.33 2299.68 1544.94 Q2296.63 1549.52 2290.82 1549.52 Q2285.01 1549.52 2281.93 1544.94 Q2278.87 1540.33 2278.87 1531.6 Q2278.87 1522.85 2281.93 1518.27 Q2285.01 1513.66 2290.82 1513.66 Z\" fill=\"#000000\" fill-rule=\"nonzero\" fill-opacity=\"1\" /><path clip-path=\"url(#clip200)\" d=\"M2320.98 1517.37 Q2317.37 1517.37 2315.54 1520.93 Q2313.73 1524.47 2313.73 1531.6 Q2313.73 1538.71 2315.54 1542.27 Q2317.37 1545.82 2320.98 1545.82 Q2324.61 1545.82 2326.42 1542.27 Q2328.25 1538.71 2328.25 1531.6 Q2328.25 1524.47 2326.42 1520.93 Q2324.61 1517.37 2320.98 1517.37 M2320.98 1513.66 Q2326.79 1513.66 2329.84 1518.27 Q2332.92 1522.85 2332.92 1531.6 Q2332.92 1540.33 2329.84 1544.94 Q2326.79 1549.52 2320.98 1549.52 Q2315.17 1549.52 2312.09 1544.94 Q2309.03 1540.33 2309.03 1531.6 Q2309.03 1522.85 2312.09 1518.27 Q2315.17 1513.66 2320.98 1513.66 Z\" fill=\"#000000\" fill-rule=\"nonzero\" fill-opacity=\"1\" /><polyline clip-path=\"url(#clip202)\" style=\"stroke:#000000; stroke-linecap:round; stroke-linejoin:round; stroke-width:2; stroke-opacity:0.1; fill:none\" points=\"201.019,1465.45 2352.76,1465.45 \"/>\n",
       "<polyline clip-path=\"url(#clip202)\" style=\"stroke:#000000; stroke-linecap:round; stroke-linejoin:round; stroke-width:2; stroke-opacity:0.1; fill:none\" points=\"201.019,1193.49 2352.76,1193.49 \"/>\n",
       "<polyline clip-path=\"url(#clip202)\" style=\"stroke:#000000; stroke-linecap:round; stroke-linejoin:round; stroke-width:2; stroke-opacity:0.1; fill:none\" points=\"201.019,921.528 2352.76,921.528 \"/>\n",
       "<polyline clip-path=\"url(#clip202)\" style=\"stroke:#000000; stroke-linecap:round; stroke-linejoin:round; stroke-width:2; stroke-opacity:0.1; fill:none\" points=\"201.019,649.567 2352.76,649.567 \"/>\n",
       "<polyline clip-path=\"url(#clip202)\" style=\"stroke:#000000; stroke-linecap:round; stroke-linejoin:round; stroke-width:2; stroke-opacity:0.1; fill:none\" points=\"201.019,377.607 2352.76,377.607 \"/>\n",
       "<polyline clip-path=\"url(#clip200)\" style=\"stroke:#000000; stroke-linecap:round; stroke-linejoin:round; stroke-width:4; stroke-opacity:1; fill:none\" points=\"201.019,1486.45 201.019,123.472 \"/>\n",
       "<polyline clip-path=\"url(#clip200)\" style=\"stroke:#000000; stroke-linecap:round; stroke-linejoin:round; stroke-width:4; stroke-opacity:1; fill:none\" points=\"201.019,1465.45 219.917,1465.45 \"/>\n",
       "<polyline clip-path=\"url(#clip200)\" style=\"stroke:#000000; stroke-linecap:round; stroke-linejoin:round; stroke-width:4; stroke-opacity:1; fill:none\" points=\"201.019,1193.49 219.917,1193.49 \"/>\n",
       "<polyline clip-path=\"url(#clip200)\" style=\"stroke:#000000; stroke-linecap:round; stroke-linejoin:round; stroke-width:4; stroke-opacity:1; fill:none\" points=\"201.019,921.528 219.917,921.528 \"/>\n",
       "<polyline clip-path=\"url(#clip200)\" style=\"stroke:#000000; stroke-linecap:round; stroke-linejoin:round; stroke-width:4; stroke-opacity:1; fill:none\" points=\"201.019,649.567 219.917,649.567 \"/>\n",
       "<polyline clip-path=\"url(#clip200)\" style=\"stroke:#000000; stroke-linecap:round; stroke-linejoin:round; stroke-width:4; stroke-opacity:1; fill:none\" points=\"201.019,377.607 219.917,377.607 \"/>\n",
       "<path clip-path=\"url(#clip200)\" d=\"M153.075 1451.25 Q149.464 1451.25 147.635 1454.81 Q145.83 1458.35 145.83 1465.48 Q145.83 1472.59 147.635 1476.15 Q149.464 1479.7 153.075 1479.7 Q156.709 1479.7 158.515 1476.15 Q160.343 1472.59 160.343 1465.48 Q160.343 1458.35 158.515 1454.81 Q156.709 1451.25 153.075 1451.25 M153.075 1447.54 Q158.885 1447.54 161.941 1452.15 Q165.019 1456.73 165.019 1465.48 Q165.019 1474.21 161.941 1478.82 Q158.885 1483.4 153.075 1483.4 Q147.265 1483.4 144.186 1478.82 Q141.131 1474.21 141.131 1465.48 Q141.131 1456.73 144.186 1452.15 Q147.265 1447.54 153.075 1447.54 Z\" fill=\"#000000\" fill-rule=\"nonzero\" fill-opacity=\"1\" /><path clip-path=\"url(#clip200)\" d=\"M82.7975 1176.21 L101.154 1176.21 L101.154 1180.14 L87.0799 1180.14 L87.0799 1188.62 Q88.0984 1188.27 89.1169 1188.11 Q90.1354 1187.92 91.1539 1187.92 Q96.941 1187.92 100.321 1191.09 Q103.7 1194.26 103.7 1199.68 Q103.7 1205.26 100.228 1208.36 Q96.7558 1211.44 90.4364 1211.44 Q88.2604 1211.44 85.9919 1211.07 Q83.7466 1210.7 81.3392 1209.96 L81.3392 1205.26 Q83.4225 1206.39 85.6447 1206.95 Q87.8669 1207.5 90.3438 1207.5 Q94.3484 1207.5 96.6863 1205.4 Q99.0243 1203.29 99.0243 1199.68 Q99.0243 1196.07 96.6863 1193.96 Q94.3484 1191.86 90.3438 1191.86 Q88.4688 1191.86 86.5938 1192.27 Q84.7419 1192.69 82.7975 1193.57 L82.7975 1176.21 Z\" fill=\"#000000\" fill-rule=\"nonzero\" fill-opacity=\"1\" /><path clip-path=\"url(#clip200)\" d=\"M122.913 1179.29 Q119.302 1179.29 117.473 1182.85 Q115.668 1186.39 115.668 1193.52 Q115.668 1200.63 117.473 1204.19 Q119.302 1207.74 122.913 1207.74 Q126.547 1207.74 128.353 1204.19 Q130.182 1200.63 130.182 1193.52 Q130.182 1186.39 128.353 1182.85 Q126.547 1179.29 122.913 1179.29 M122.913 1175.58 Q128.723 1175.58 131.779 1180.19 Q134.857 1184.77 134.857 1193.52 Q134.857 1202.25 131.779 1206.86 Q128.723 1211.44 122.913 1211.44 Q117.103 1211.44 114.024 1206.86 Q110.969 1202.25 110.969 1193.52 Q110.969 1184.77 114.024 1180.19 Q117.103 1175.58 122.913 1175.58 Z\" fill=\"#000000\" fill-rule=\"nonzero\" fill-opacity=\"1\" /><path clip-path=\"url(#clip200)\" d=\"M153.075 1179.29 Q149.464 1179.29 147.635 1182.85 Q145.83 1186.39 145.83 1193.52 Q145.83 1200.63 147.635 1204.19 Q149.464 1207.74 153.075 1207.74 Q156.709 1207.74 158.515 1204.19 Q160.343 1200.63 160.343 1193.52 Q160.343 1186.39 158.515 1182.85 Q156.709 1179.29 153.075 1179.29 M153.075 1175.58 Q158.885 1175.58 161.941 1180.19 Q165.019 1184.77 165.019 1193.52 Q165.019 1202.25 161.941 1206.86 Q158.885 1211.44 153.075 1211.44 Q147.265 1211.44 144.186 1206.86 Q141.131 1202.25 141.131 1193.52 Q141.131 1184.77 144.186 1180.19 Q147.265 1175.58 153.075 1175.58 Z\" fill=\"#000000\" fill-rule=\"nonzero\" fill-opacity=\"1\" /><path clip-path=\"url(#clip200)\" d=\"M53.3995 934.873 L61.0384 934.873 L61.0384 908.507 L52.7282 910.174 L52.7282 905.914 L60.9921 904.248 L65.668 904.248 L65.668 934.873 L73.3068 934.873 L73.3068 938.808 L53.3995 938.808 L53.3995 934.873 Z\" fill=\"#000000\" fill-rule=\"nonzero\" fill-opacity=\"1\" /><path clip-path=\"url(#clip200)\" d=\"M92.7512 907.326 Q89.1401 907.326 87.3114 910.891 Q85.5058 914.433 85.5058 921.563 Q85.5058 928.669 87.3114 932.234 Q89.1401 935.775 92.7512 935.775 Q96.3854 935.775 98.1909 932.234 Q100.02 928.669 100.02 921.563 Q100.02 914.433 98.1909 910.891 Q96.3854 907.326 92.7512 907.326 M92.7512 903.623 Q98.5613 903.623 101.617 908.229 Q104.696 912.813 104.696 921.563 Q104.696 930.289 101.617 934.896 Q98.5613 939.479 92.7512 939.479 Q86.941 939.479 83.8623 934.896 Q80.8068 930.289 80.8068 921.563 Q80.8068 912.813 83.8623 908.229 Q86.941 903.623 92.7512 903.623 Z\" fill=\"#000000\" fill-rule=\"nonzero\" fill-opacity=\"1\" /><path clip-path=\"url(#clip200)\" d=\"M122.913 907.326 Q119.302 907.326 117.473 910.891 Q115.668 914.433 115.668 921.563 Q115.668 928.669 117.473 932.234 Q119.302 935.775 122.913 935.775 Q126.547 935.775 128.353 932.234 Q130.182 928.669 130.182 921.563 Q130.182 914.433 128.353 910.891 Q126.547 907.326 122.913 907.326 M122.913 903.623 Q128.723 903.623 131.779 908.229 Q134.857 912.813 134.857 921.563 Q134.857 930.289 131.779 934.896 Q128.723 939.479 122.913 939.479 Q117.103 939.479 114.024 934.896 Q110.969 930.289 110.969 921.563 Q110.969 912.813 114.024 908.229 Q117.103 903.623 122.913 903.623 Z\" fill=\"#000000\" fill-rule=\"nonzero\" fill-opacity=\"1\" /><path clip-path=\"url(#clip200)\" d=\"M153.075 907.326 Q149.464 907.326 147.635 910.891 Q145.83 914.433 145.83 921.563 Q145.83 928.669 147.635 932.234 Q149.464 935.775 153.075 935.775 Q156.709 935.775 158.515 932.234 Q160.343 928.669 160.343 921.563 Q160.343 914.433 158.515 910.891 Q156.709 907.326 153.075 907.326 M153.075 903.623 Q158.885 903.623 161.941 908.229 Q165.019 912.813 165.019 921.563 Q165.019 930.289 161.941 934.896 Q158.885 939.479 153.075 939.479 Q147.265 939.479 144.186 934.896 Q141.131 930.289 141.131 921.563 Q141.131 912.813 144.186 908.229 Q147.265 903.623 153.075 903.623 Z\" fill=\"#000000\" fill-rule=\"nonzero\" fill-opacity=\"1\" /><path clip-path=\"url(#clip200)\" d=\"M53.3995 662.912 L61.0384 662.912 L61.0384 636.547 L52.7282 638.213 L52.7282 633.954 L60.9921 632.287 L65.668 632.287 L65.668 662.912 L73.3068 662.912 L73.3068 666.847 L53.3995 666.847 L53.3995 662.912 Z\" fill=\"#000000\" fill-rule=\"nonzero\" fill-opacity=\"1\" /><path clip-path=\"url(#clip200)\" d=\"M82.7975 632.287 L101.154 632.287 L101.154 636.222 L87.0799 636.222 L87.0799 644.695 Q88.0984 644.347 89.1169 644.185 Q90.1354 644 91.1539 644 Q96.941 644 100.321 647.171 Q103.7 650.343 103.7 655.759 Q103.7 661.338 100.228 664.44 Q96.7558 667.519 90.4364 667.519 Q88.2604 667.519 85.9919 667.148 Q83.7466 666.778 81.3392 666.037 L81.3392 661.338 Q83.4225 662.472 85.6447 663.028 Q87.8669 663.583 90.3438 663.583 Q94.3484 663.583 96.6863 661.477 Q99.0243 659.37 99.0243 655.759 Q99.0243 652.148 96.6863 650.042 Q94.3484 647.935 90.3438 647.935 Q88.4688 647.935 86.5938 648.352 Q84.7419 648.769 82.7975 649.648 L82.7975 632.287 Z\" fill=\"#000000\" fill-rule=\"nonzero\" fill-opacity=\"1\" /><path clip-path=\"url(#clip200)\" d=\"M122.913 635.366 Q119.302 635.366 117.473 638.931 Q115.668 642.472 115.668 649.602 Q115.668 656.708 117.473 660.273 Q119.302 663.815 122.913 663.815 Q126.547 663.815 128.353 660.273 Q130.182 656.708 130.182 649.602 Q130.182 642.472 128.353 638.931 Q126.547 635.366 122.913 635.366 M122.913 631.662 Q128.723 631.662 131.779 636.269 Q134.857 640.852 134.857 649.602 Q134.857 658.329 131.779 662.935 Q128.723 667.519 122.913 667.519 Q117.103 667.519 114.024 662.935 Q110.969 658.329 110.969 649.602 Q110.969 640.852 114.024 636.269 Q117.103 631.662 122.913 631.662 Z\" fill=\"#000000\" fill-rule=\"nonzero\" fill-opacity=\"1\" /><path clip-path=\"url(#clip200)\" d=\"M153.075 635.366 Q149.464 635.366 147.635 638.931 Q145.83 642.472 145.83 649.602 Q145.83 656.708 147.635 660.273 Q149.464 663.815 153.075 663.815 Q156.709 663.815 158.515 660.273 Q160.343 656.708 160.343 649.602 Q160.343 642.472 158.515 638.931 Q156.709 635.366 153.075 635.366 M153.075 631.662 Q158.885 631.662 161.941 636.269 Q165.019 640.852 165.019 649.602 Q165.019 658.329 161.941 662.935 Q158.885 667.519 153.075 667.519 Q147.265 667.519 144.186 662.935 Q141.131 658.329 141.131 649.602 Q141.131 640.852 144.186 636.269 Q147.265 631.662 153.075 631.662 Z\" fill=\"#000000\" fill-rule=\"nonzero\" fill-opacity=\"1\" /><path clip-path=\"url(#clip200)\" d=\"M56.6171 390.952 L72.9365 390.952 L72.9365 394.887 L50.9921 394.887 L50.9921 390.952 Q53.6541 388.197 58.2375 383.567 Q62.8439 378.915 64.0245 377.572 Q66.2698 375.049 67.1494 373.313 Q68.0522 371.554 68.0522 369.864 Q68.0522 367.109 66.1078 365.373 Q64.1865 363.637 61.0847 363.637 Q58.8856 363.637 56.4319 364.401 Q54.0014 365.165 51.2236 366.716 L51.2236 361.993 Q54.0477 360.859 56.5014 360.28 Q58.955 359.702 60.9921 359.702 Q66.3624 359.702 69.5568 362.387 Q72.7513 365.072 72.7513 369.563 Q72.7513 371.692 71.9411 373.614 Q71.1541 375.512 69.0476 378.104 Q68.4689 378.776 65.367 381.993 Q62.2652 385.188 56.6171 390.952 Z\" fill=\"#000000\" fill-rule=\"nonzero\" fill-opacity=\"1\" /><path clip-path=\"url(#clip200)\" d=\"M92.7512 363.405 Q89.1401 363.405 87.3114 366.97 Q85.5058 370.512 85.5058 377.642 Q85.5058 384.748 87.3114 388.313 Q89.1401 391.854 92.7512 391.854 Q96.3854 391.854 98.1909 388.313 Q100.02 384.748 100.02 377.642 Q100.02 370.512 98.1909 366.97 Q96.3854 363.405 92.7512 363.405 M92.7512 359.702 Q98.5613 359.702 101.617 364.308 Q104.696 368.892 104.696 377.642 Q104.696 386.368 101.617 390.975 Q98.5613 395.558 92.7512 395.558 Q86.941 395.558 83.8623 390.975 Q80.8068 386.368 80.8068 377.642 Q80.8068 368.892 83.8623 364.308 Q86.941 359.702 92.7512 359.702 Z\" fill=\"#000000\" fill-rule=\"nonzero\" fill-opacity=\"1\" /><path clip-path=\"url(#clip200)\" d=\"M122.913 363.405 Q119.302 363.405 117.473 366.97 Q115.668 370.512 115.668 377.642 Q115.668 384.748 117.473 388.313 Q119.302 391.854 122.913 391.854 Q126.547 391.854 128.353 388.313 Q130.182 384.748 130.182 377.642 Q130.182 370.512 128.353 366.97 Q126.547 363.405 122.913 363.405 M122.913 359.702 Q128.723 359.702 131.779 364.308 Q134.857 368.892 134.857 377.642 Q134.857 386.368 131.779 390.975 Q128.723 395.558 122.913 395.558 Q117.103 395.558 114.024 390.975 Q110.969 386.368 110.969 377.642 Q110.969 368.892 114.024 364.308 Q117.103 359.702 122.913 359.702 Z\" fill=\"#000000\" fill-rule=\"nonzero\" fill-opacity=\"1\" /><path clip-path=\"url(#clip200)\" d=\"M153.075 363.405 Q149.464 363.405 147.635 366.97 Q145.83 370.512 145.83 377.642 Q145.83 384.748 147.635 388.313 Q149.464 391.854 153.075 391.854 Q156.709 391.854 158.515 388.313 Q160.343 384.748 160.343 377.642 Q160.343 370.512 158.515 366.97 Q156.709 363.405 153.075 363.405 M153.075 359.702 Q158.885 359.702 161.941 364.308 Q165.019 368.892 165.019 377.642 Q165.019 386.368 161.941 390.975 Q158.885 395.558 153.075 395.558 Q147.265 395.558 144.186 390.975 Q141.131 386.368 141.131 377.642 Q141.131 368.892 144.186 364.308 Q147.265 359.702 153.075 359.702 Z\" fill=\"#000000\" fill-rule=\"nonzero\" fill-opacity=\"1\" /><path clip-path=\"url(#clip200)\" d=\"M905.501 16.7545 L905.501 25.383 Q901.369 21.5346 896.67 19.6307 Q892.011 17.7268 886.745 17.7268 Q876.375 17.7268 870.865 24.0867 Q865.356 30.4061 865.356 42.3968 Q865.356 54.3469 870.865 60.7069 Q876.375 67.0263 886.745 67.0263 Q892.011 67.0263 896.67 65.1223 Q901.369 63.2184 905.501 59.3701 L905.501 67.9175 Q901.207 70.8341 896.386 72.2924 Q891.606 73.7508 886.259 73.7508 Q872.526 73.7508 864.627 65.3654 Q856.728 56.9395 856.728 42.3968 Q856.728 27.8135 864.627 19.4281 Q872.526 11.0023 886.259 11.0023 Q891.687 11.0023 896.467 12.4606 Q901.288 13.8784 905.501 16.7545 Z\" fill=\"#000000\" fill-rule=\"nonzero\" fill-opacity=\"1\" /><path clip-path=\"url(#clip200)\" d=\"M935.396 32.4315 Q929.401 32.4315 925.917 37.1306 Q922.433 41.7891 922.433 49.9314 Q922.433 58.0738 925.877 62.7728 Q929.361 67.4314 935.396 67.4314 Q941.351 67.4314 944.835 62.7323 Q948.319 58.0333 948.319 49.9314 Q948.319 41.8701 944.835 37.1711 Q941.351 32.4315 935.396 32.4315 M935.396 26.1121 Q945.119 26.1121 950.668 32.4315 Q956.218 38.7509 956.218 49.9314 Q956.218 61.0714 950.668 67.4314 Q945.119 73.7508 935.396 73.7508 Q925.634 73.7508 920.084 67.4314 Q914.575 61.0714 914.575 49.9314 Q914.575 38.7509 920.084 32.4315 Q925.634 26.1121 935.396 26.1121 Z\" fill=\"#000000\" fill-rule=\"nonzero\" fill-opacity=\"1\" /><path clip-path=\"url(#clip200)\" d=\"M1006.29 45.1919 L1006.29 72.576 L998.834 72.576 L998.834 45.4349 Q998.834 38.994 996.322 35.7938 Q993.81 32.5936 988.787 32.5936 Q982.751 32.5936 979.268 36.4419 Q975.784 40.2903 975.784 46.9338 L975.784 72.576 L968.29 72.576 L968.29 27.2059 L975.784 27.2059 L975.784 34.2544 Q978.457 30.163 982.063 28.1376 Q985.709 26.1121 990.448 26.1121 Q998.266 26.1121 1002.28 30.9732 Q1006.29 35.7938 1006.29 45.1919 Z\" fill=\"#000000\" fill-rule=\"nonzero\" fill-opacity=\"1\" /><path clip-path=\"url(#clip200)\" d=\"M1015.81 27.2059 L1023.71 27.2059 L1037.88 65.2844 L1052.06 27.2059 L1059.96 27.2059 L1042.95 72.576 L1032.82 72.576 L1015.81 27.2059 Z\" fill=\"#000000\" fill-rule=\"nonzero\" fill-opacity=\"1\" /><path clip-path=\"url(#clip200)\" d=\"M1109.06 48.0275 L1109.06 51.6733 L1074.79 51.6733 Q1075.27 59.3701 1079.41 63.421 Q1083.58 67.4314 1090.99 67.4314 Q1095.29 67.4314 1099.3 66.3781 Q1103.35 65.3249 1107.32 63.2184 L1107.32 70.267 Q1103.31 71.9684 1099.09 72.8596 Q1094.88 73.7508 1090.55 73.7508 Q1079.69 73.7508 1073.33 67.4314 Q1067.01 61.1119 1067.01 50.3365 Q1067.01 39.1965 1073.01 32.6746 Q1079.04 26.1121 1089.25 26.1121 Q1098.4 26.1121 1103.71 32.0264 Q1109.06 37.9003 1109.06 48.0275 M1101.6 45.84 Q1101.52 39.7232 1098.16 36.0774 Q1094.84 32.4315 1089.33 32.4315 Q1083.09 32.4315 1079.33 35.9558 Q1075.6 39.4801 1075.03 45.8805 L1101.6 45.84 Z\" fill=\"#000000\" fill-rule=\"nonzero\" fill-opacity=\"1\" /><path clip-path=\"url(#clip200)\" d=\"M1147.58 34.1734 Q1146.33 33.4443 1144.83 33.1202 Q1143.37 32.7556 1141.59 32.7556 Q1135.27 32.7556 1131.87 36.8875 Q1128.5 40.9789 1128.5 48.6757 L1128.5 72.576 L1121.01 72.576 L1121.01 27.2059 L1128.5 27.2059 L1128.5 34.2544 Q1130.85 30.1225 1134.62 28.1376 Q1138.39 26.1121 1143.77 26.1121 Q1144.54 26.1121 1145.48 26.2337 Q1146.41 26.3147 1147.54 26.5172 L1147.58 34.1734 Z\" fill=\"#000000\" fill-rule=\"nonzero\" fill-opacity=\"1\" /><path clip-path=\"url(#clip200)\" d=\"M1183.8 49.3643 Q1183.8 41.2625 1180.44 36.8065 Q1177.11 32.3505 1171.08 32.3505 Q1165.08 32.3505 1161.72 36.8065 Q1158.4 41.2625 1158.4 49.3643 Q1158.4 57.4256 1161.72 61.8816 Q1165.08 66.3376 1171.08 66.3376 Q1177.11 66.3376 1180.44 61.8816 Q1183.8 57.4256 1183.8 49.3643 M1191.25 66.9452 Q1191.25 78.5308 1186.11 84.1616 Q1180.96 89.8329 1170.35 89.8329 Q1166.42 89.8329 1162.94 89.2252 Q1159.45 88.6581 1156.17 87.4428 L1156.17 80.1917 Q1159.45 81.9741 1162.65 82.8248 Q1165.85 83.6755 1169.17 83.6755 Q1176.51 83.6755 1180.15 79.8271 Q1183.8 76.0193 1183.8 68.282 L1183.8 64.5957 Q1181.49 68.6061 1177.88 70.5911 Q1174.28 72.576 1169.26 72.576 Q1160.91 72.576 1155.81 66.2161 Q1150.7 59.8562 1150.7 49.3643 Q1150.7 38.832 1155.81 32.472 Q1160.91 26.1121 1169.26 26.1121 Q1174.28 26.1121 1177.88 28.0971 Q1181.49 30.082 1183.8 34.0924 L1183.8 27.2059 L1191.25 27.2059 L1191.25 66.9452 Z\" fill=\"#000000\" fill-rule=\"nonzero\" fill-opacity=\"1\" /><path clip-path=\"url(#clip200)\" d=\"M1245.41 48.0275 L1245.41 51.6733 L1211.14 51.6733 Q1211.63 59.3701 1215.76 63.421 Q1219.93 67.4314 1227.35 67.4314 Q1231.64 67.4314 1235.65 66.3781 Q1239.7 65.3249 1243.67 63.2184 L1243.67 70.267 Q1239.66 71.9684 1235.45 72.8596 Q1231.23 73.7508 1226.9 73.7508 Q1216.04 73.7508 1209.68 67.4314 Q1203.36 61.1119 1203.36 50.3365 Q1203.36 39.1965 1209.36 32.6746 Q1215.39 26.1121 1225.6 26.1121 Q1234.76 26.1121 1240.06 32.0264 Q1245.41 37.9003 1245.41 48.0275 M1237.96 45.84 Q1237.88 39.7232 1234.52 36.0774 Q1231.19 32.4315 1225.68 32.4315 Q1219.45 32.4315 1215.68 35.9558 Q1211.95 39.4801 1211.38 45.8805 L1237.96 45.84 Z\" fill=\"#000000\" fill-rule=\"nonzero\" fill-opacity=\"1\" /><path clip-path=\"url(#clip200)\" d=\"M1295.36 45.1919 L1295.36 72.576 L1287.91 72.576 L1287.91 45.4349 Q1287.91 38.994 1285.39 35.7938 Q1282.88 32.5936 1277.86 32.5936 Q1271.82 32.5936 1268.34 36.4419 Q1264.86 40.2903 1264.86 46.9338 L1264.86 72.576 L1257.36 72.576 L1257.36 27.2059 L1264.86 27.2059 L1264.86 34.2544 Q1267.53 30.163 1271.14 28.1376 Q1274.78 26.1121 1279.52 26.1121 Q1287.34 26.1121 1291.35 30.9732 Q1295.36 35.7938 1295.36 45.1919 Z\" fill=\"#000000\" fill-rule=\"nonzero\" fill-opacity=\"1\" /><path clip-path=\"url(#clip200)\" d=\"M1342.88 28.9478 L1342.88 35.9153 Q1339.72 34.1734 1336.52 33.3227 Q1333.36 32.4315 1330.12 32.4315 Q1322.87 32.4315 1318.85 37.0496 Q1314.84 41.6271 1314.84 49.9314 Q1314.84 58.2358 1318.85 62.8538 Q1322.87 67.4314 1330.12 67.4314 Q1333.36 67.4314 1336.52 66.5807 Q1339.72 65.6895 1342.88 63.9476 L1342.88 70.8341 Q1339.76 72.2924 1336.4 73.0216 Q1333.07 73.7508 1329.31 73.7508 Q1319.06 73.7508 1313.02 67.3098 Q1306.99 60.8689 1306.99 49.9314 Q1306.99 38.832 1313.06 32.472 Q1319.18 26.1121 1329.79 26.1121 Q1333.24 26.1121 1336.52 26.8413 Q1339.8 27.5299 1342.88 28.9478 Z\" fill=\"#000000\" fill-rule=\"nonzero\" fill-opacity=\"1\" /><path clip-path=\"url(#clip200)\" d=\"M1394.65 48.0275 L1394.65 51.6733 L1360.38 51.6733 Q1360.86 59.3701 1364.99 63.421 Q1369.17 67.4314 1376.58 67.4314 Q1380.87 67.4314 1384.88 66.3781 Q1388.94 65.3249 1392.91 63.2184 L1392.91 70.267 Q1388.9 71.9684 1384.68 72.8596 Q1380.47 73.7508 1376.13 73.7508 Q1365.28 73.7508 1358.92 67.4314 Q1352.6 61.1119 1352.6 50.3365 Q1352.6 39.1965 1358.59 32.6746 Q1364.63 26.1121 1374.84 26.1121 Q1383.99 26.1121 1389.3 32.0264 Q1394.65 37.9003 1394.65 48.0275 M1387.19 45.84 Q1387.11 39.7232 1383.75 36.0774 Q1380.43 32.4315 1374.92 32.4315 Q1368.68 32.4315 1364.91 35.9558 Q1361.19 39.4801 1360.62 45.8805 L1387.19 45.84 Z\" fill=\"#000000\" fill-rule=\"nonzero\" fill-opacity=\"1\" /><path clip-path=\"url(#clip200)\" d=\"M1465.9 28.9478 L1465.9 35.9153 Q1462.74 34.1734 1459.54 33.3227 Q1456.38 32.4315 1453.14 32.4315 Q1445.89 32.4315 1441.88 37.0496 Q1437.87 41.6271 1437.87 49.9314 Q1437.87 58.2358 1441.88 62.8538 Q1445.89 67.4314 1453.14 67.4314 Q1456.38 67.4314 1459.54 66.5807 Q1462.74 65.6895 1465.9 63.9476 L1465.9 70.8341 Q1462.78 72.2924 1459.42 73.0216 Q1456.1 73.7508 1452.33 73.7508 Q1442.08 73.7508 1436.05 67.3098 Q1430.01 60.8689 1430.01 49.9314 Q1430.01 38.832 1436.09 32.472 Q1442.21 26.1121 1452.82 26.1121 Q1456.26 26.1121 1459.54 26.8413 Q1462.82 27.5299 1465.9 28.9478 Z\" fill=\"#000000\" fill-rule=\"nonzero\" fill-opacity=\"1\" /><path clip-path=\"url(#clip200)\" d=\"M1478.1 54.671 L1478.1 27.2059 L1485.55 27.2059 L1485.55 54.3874 Q1485.55 60.8284 1488.06 64.0691 Q1490.57 67.2693 1495.6 67.2693 Q1501.63 67.2693 1505.12 63.421 Q1508.64 59.5726 1508.64 52.9291 L1508.64 27.2059 L1516.09 27.2059 L1516.09 72.576 L1508.64 72.576 L1508.64 65.6084 Q1505.93 69.7404 1502.32 71.7658 Q1498.76 73.7508 1494.02 73.7508 Q1486.2 73.7508 1482.15 68.8897 Q1478.1 64.0286 1478.1 54.671 M1496.85 26.1121 L1496.85 26.1121 Z\" fill=\"#000000\" fill-rule=\"nonzero\" fill-opacity=\"1\" /><path clip-path=\"url(#clip200)\" d=\"M1557.74 34.1734 Q1556.48 33.4443 1554.98 33.1202 Q1553.52 32.7556 1551.74 32.7556 Q1545.42 32.7556 1542.02 36.8875 Q1538.66 40.9789 1538.66 48.6757 L1538.66 72.576 L1531.16 72.576 L1531.16 27.2059 L1538.66 27.2059 L1538.66 34.2544 Q1541.01 30.1225 1544.77 28.1376 Q1548.54 26.1121 1553.93 26.1121 Q1554.7 26.1121 1555.63 26.2337 Q1556.56 26.3147 1557.7 26.5172 L1557.74 34.1734 Z\" fill=\"#000000\" fill-rule=\"nonzero\" fill-opacity=\"1\" /><path clip-path=\"url(#clip200)\" d=\"M1560.21 27.2059 L1568.11 27.2059 L1582.29 65.2844 L1596.46 27.2059 L1604.36 27.2059 L1587.35 72.576 L1577.22 72.576 L1560.21 27.2059 Z\" fill=\"#000000\" fill-rule=\"nonzero\" fill-opacity=\"1\" /><path clip-path=\"url(#clip200)\" d=\"M1653.46 48.0275 L1653.46 51.6733 L1619.19 51.6733 Q1619.68 59.3701 1623.81 63.421 Q1627.98 67.4314 1635.39 67.4314 Q1639.69 67.4314 1643.7 66.3781 Q1647.75 65.3249 1651.72 63.2184 L1651.72 70.267 Q1647.71 71.9684 1643.49 72.8596 Q1639.28 73.7508 1634.95 73.7508 Q1624.09 73.7508 1617.73 67.4314 Q1611.41 61.1119 1611.41 50.3365 Q1611.41 39.1965 1617.41 32.6746 Q1623.44 26.1121 1633.65 26.1121 Q1642.81 26.1121 1648.11 32.0264 Q1653.46 37.9003 1653.46 48.0275 M1646.01 45.84 Q1645.92 39.7232 1642.56 36.0774 Q1639.24 32.4315 1633.73 32.4315 Q1627.49 32.4315 1623.73 35.9558 Q1620 39.4801 1619.43 45.8805 L1646.01 45.84 Z\" fill=\"#000000\" fill-rule=\"nonzero\" fill-opacity=\"1\" /><path clip-path=\"url(#clip200)\" d=\"M1694.62 28.5427 L1694.62 35.5912 Q1691.46 33.9709 1688.05 33.1607 Q1684.65 32.3505 1681.01 32.3505 Q1675.46 32.3505 1672.66 34.0519 Q1669.91 35.7533 1669.91 39.156 Q1669.91 41.7486 1671.89 43.2475 Q1673.88 44.7058 1679.87 46.0426 L1682.42 46.6097 Q1690.36 48.3111 1693.69 51.4303 Q1697.05 54.509 1697.05 60.0587 Q1697.05 66.3781 1692.02 70.0644 Q1687.04 73.7508 1678.29 73.7508 Q1674.65 73.7508 1670.68 73.0216 Q1666.75 72.3329 1662.37 70.9151 L1662.37 63.2184 Q1666.5 65.3654 1670.51 66.4591 Q1674.52 67.5124 1678.45 67.5124 Q1683.72 67.5124 1686.56 65.73 Q1689.39 63.9071 1689.39 60.6258 Q1689.39 57.5877 1687.33 55.9673 Q1685.3 54.3469 1678.37 52.8481 L1675.78 52.2405 Q1668.85 50.7821 1665.77 47.7845 Q1662.7 44.7463 1662.7 39.4801 Q1662.7 33.0797 1667.23 29.5959 Q1671.77 26.1121 1680.11 26.1121 Q1684.25 26.1121 1687.89 26.7198 Q1691.54 27.3274 1694.62 28.5427 Z\" fill=\"#000000\" fill-rule=\"nonzero\" fill-opacity=\"1\" /><polyline clip-path=\"url(#clip202)\" style=\"stroke:#009af9; stroke-linecap:round; stroke-linejoin:round; stroke-width:12; stroke-opacity:1; fill:none\" points=\"261.917,162.047 282.422,856.148 302.926,1313.57 323.431,1313.57 343.935,1381.84 364.44,1381.84 384.944,1406.21 405.449,1406.21 425.953,1420.56 446.458,1420.56 466.962,1424.43 487.466,1424.43 507.971,1429.25 528.475,1429.25 548.98,1430.25 569.484,1430.25 589.989,1431.96 610.493,1431.96 630.998,1433.48 651.502,1433.48 672.006,1433.69 692.511,1433.69 713.015,1433.69 733.52,1433.69 754.024,1433.69 774.529,1433.69 795.033,1433.69 815.538,1433.69 836.042,1433.69 856.546,1433.69 877.051,1433.69 897.555,1433.69 918.06,1433.88 938.564,1433.88 959.069,1434.14 979.573,1434.14 1000.08,1434.74 1020.58,1434.74 1041.09,1434.74 1061.59,1434.74 1082.1,1434.74 1102.6,1434.74 1123.1,1434.74 1143.61,1434.74 1164.11,1434.74 1184.62,1434.74 1205.12,1434.74 1225.63,1434.74 1246.13,1434.74 1266.64,1434.74 1287.14,1434.74 1307.64,1434.74 1328.15,1434.74 1348.65,1434.74 1369.16,1434.74 1389.66,1434.74 1410.17,1434.74 1430.67,1434.74 1451.18,1434.74 1471.68,1434.74 1492.18,1434.74 1512.69,1434.74 1533.19,1434.74 1553.7,1434.74 1574.2,1434.74 1594.71,1434.74 1615.21,1434.74 1635.72,1434.74 1656.22,1434.74 1676.72,1434.74 1697.23,1434.74 1717.73,1434.74 1738.24,1434.74 1758.74,1434.74 1779.25,1434.74 1799.75,1434.74 1820.26,1434.74 1840.76,1434.74 1861.26,1434.74 1881.77,1434.74 1902.27,1434.74 1922.78,1434.74 1943.28,1434.74 1963.79,1434.74 1984.29,1434.74 2004.8,1434.74 2025.3,1434.74 2045.8,1434.74 2066.31,1434.74 2086.81,1434.74 2107.32,1434.74 2127.82,1434.74 2148.33,1434.74 2168.83,1434.74 2189.34,1434.74 2209.84,1434.74 2230.34,1434.74 2250.85,1434.74 2271.35,1434.74 2291.86,1434.74 \"/>\n",
       "<polyline clip-path=\"url(#clip202)\" style=\"stroke:#e26f46; stroke-linecap:round; stroke-linejoin:round; stroke-width:12; stroke-opacity:1; fill:none\" points=\"261.917,198.02 282.422,1017.47 302.926,1347.17 323.431,1347.17 343.935,1409.57 364.44,1409.57 384.944,1424.23 405.449,1424.23 425.953,1424.68 446.458,1424.68 466.962,1424.68 487.466,1424.68 507.971,1424.68 528.475,1424.68 548.98,1424.68 569.484,1424.68 589.989,1424.68 610.493,1424.68 630.998,1424.68 651.502,1424.68 672.006,1424.68 692.511,1427.84 713.015,1427.84 733.52,1431.84 754.024,1431.84 774.529,1434.23 795.033,1434.23 815.538,1435.46 836.042,1435.46 856.546,1436.82 877.051,1436.82 897.555,1438.19 918.06,1438.19 938.564,1440.01 959.069,1440.01 979.573,1441.67 1000.08,1441.67 1020.58,1442.53 1041.09,1442.53 1061.59,1442.68 1082.1,1442.68 1102.6,1443.07 1123.1,1443.07 1143.61,1443.7 1164.11,1443.7 1184.62,1445.07 1205.12,1445.07 1225.63,1446 1246.13,1446 1266.64,1446 1287.14,1446 1307.64,1446 1328.15,1446 1348.65,1446 1369.16,1446 1389.66,1446.22 1410.17,1446.22 1430.67,1446.7 1451.18,1446.7 1471.68,1447.25 1492.18,1447.25 1512.69,1447.25 1533.19,1447.25 1553.7,1447.26 1574.2,1447.26 1594.71,1447.55 1615.21,1447.55 1635.72,1447.55 1656.22,1447.55 1676.72,1447.55 1697.23,1447.55 1717.73,1447.55 1738.24,1447.55 1758.74,1447.55 1779.25,1447.55 1799.75,1447.55 1820.26,1447.55 1840.76,1447.71 1861.26,1447.71 1881.77,1447.72 1902.27,1447.72 1922.78,1447.72 1943.28,1447.72 1963.79,1447.72 1984.29,1447.72 2004.8,1447.72 2025.3,1447.72 2045.8,1447.87 2066.31,1447.87 2086.81,1447.87 2107.32,1447.87 2127.82,1447.87 2148.33,1447.87 2168.83,1447.87 2189.34,1447.87 2209.84,1447.87 2230.34,1447.87 2250.85,1447.87 2271.35,1447.87 2291.86,1447.87 \"/>\n",
       "<path clip-path=\"url(#clip200)\" d=\"M1756.28 324.425 L2281.03 324.425 L2281.03 168.905 L1756.28 168.905  Z\" fill=\"#ffffff\" fill-rule=\"evenodd\" fill-opacity=\"1\"/>\n",
       "<polyline clip-path=\"url(#clip200)\" style=\"stroke:#000000; stroke-linecap:round; stroke-linejoin:round; stroke-width:4; stroke-opacity:1; fill:none\" points=\"1756.28,324.425 2281.03,324.425 2281.03,168.905 1756.28,168.905 1756.28,324.425 \"/>\n",
       "<polyline clip-path=\"url(#clip200)\" style=\"stroke:#009af9; stroke-linecap:round; stroke-linejoin:round; stroke-width:12; stroke-opacity:1; fill:none\" points=\"1780.18,220.745 1923.63,220.745 \"/>\n",
       "<path clip-path=\"url(#clip200)\" d=\"M1952.22 207.307 L1952.22 234.182 L1957.87 234.182 Q1965.02 234.182 1968.33 230.941 Q1971.66 227.701 1971.66 220.71 Q1971.66 213.766 1968.33 210.548 Q1965.02 207.307 1957.87 207.307 L1952.22 207.307 M1947.54 203.465 L1957.15 203.465 Q1967.19 203.465 1971.89 207.654 Q1976.59 211.821 1976.59 220.71 Q1976.59 229.645 1971.87 233.835 Q1967.15 238.025 1957.15 238.025 L1947.54 238.025 L1947.54 203.465 Z\" fill=\"#000000\" fill-rule=\"nonzero\" fill-opacity=\"1\" /><path clip-path=\"url(#clip200)\" d=\"M2006.04 223.997 L2006.04 226.08 L1986.45 226.08 Q1986.73 230.478 1989.09 232.793 Q1991.48 235.085 1995.71 235.085 Q1998.17 235.085 2000.46 234.483 Q2002.77 233.881 2005.04 232.677 L2005.04 236.705 Q2002.75 237.677 2000.34 238.187 Q1997.93 238.696 1995.46 238.696 Q1989.25 238.696 1985.62 235.085 Q1982.01 231.474 1982.01 225.316 Q1982.01 218.951 1985.43 215.224 Q1988.88 211.474 1994.72 211.474 Q1999.95 211.474 2002.98 214.853 Q2006.04 218.21 2006.04 223.997 M2001.78 222.747 Q2001.73 219.252 1999.81 217.168 Q1997.91 215.085 1994.76 215.085 Q1991.2 215.085 1989.05 217.099 Q1986.92 219.113 1986.59 222.77 L2001.78 222.747 Z\" fill=\"#000000\" fill-rule=\"nonzero\" fill-opacity=\"1\" /><path clip-path=\"url(#clip200)\" d=\"M2017.24 204.738 L2017.24 212.099 L2026.01 212.099 L2026.01 215.409 L2017.24 215.409 L2017.24 229.483 Q2017.24 232.654 2018.1 233.557 Q2018.98 234.46 2021.64 234.46 L2026.01 234.46 L2026.01 238.025 L2021.64 238.025 Q2016.71 238.025 2014.83 236.196 Q2012.96 234.344 2012.96 229.483 L2012.96 215.409 L2009.83 215.409 L2009.83 212.099 L2012.96 212.099 L2012.96 204.738 L2017.24 204.738 Z\" fill=\"#000000\" fill-rule=\"nonzero\" fill-opacity=\"1\" /><path clip-path=\"url(#clip200)\" d=\"M2053.79 223.997 L2053.79 226.08 L2034.21 226.08 Q2034.49 230.478 2036.85 232.793 Q2039.23 235.085 2043.47 235.085 Q2045.92 235.085 2048.21 234.483 Q2050.53 233.881 2052.8 232.677 L2052.8 236.705 Q2050.5 237.677 2048.1 238.187 Q2045.69 238.696 2043.21 238.696 Q2037.01 238.696 2033.37 235.085 Q2029.76 231.474 2029.76 225.316 Q2029.76 218.951 2033.19 215.224 Q2036.64 211.474 2042.47 211.474 Q2047.7 211.474 2050.74 214.853 Q2053.79 218.21 2053.79 223.997 M2049.53 222.747 Q2049.49 219.252 2047.56 217.168 Q2045.67 215.085 2042.52 215.085 Q2038.95 215.085 2036.8 217.099 Q2034.67 219.113 2034.35 222.77 L2049.53 222.747 Z\" fill=\"#000000\" fill-rule=\"nonzero\" fill-opacity=\"1\" /><path clip-path=\"url(#clip200)\" d=\"M2075.8 216.08 Q2075.09 215.664 2074.23 215.478 Q2073.4 215.27 2072.38 215.27 Q2068.77 215.27 2066.82 217.631 Q2064.9 219.969 2064.9 224.367 L2064.9 238.025 L2060.62 238.025 L2060.62 212.099 L2064.9 212.099 L2064.9 216.127 Q2066.24 213.766 2068.4 212.631 Q2070.55 211.474 2073.63 211.474 Q2074.07 211.474 2074.6 211.543 Q2075.13 211.59 2075.78 211.705 L2075.8 216.08 Z\" fill=\"#000000\" fill-rule=\"nonzero\" fill-opacity=\"1\" /><path clip-path=\"url(#clip200)\" d=\"M2099.62 217.076 Q2101.22 214.205 2103.44 212.84 Q2105.67 211.474 2108.67 211.474 Q2112.73 211.474 2114.92 214.321 Q2117.12 217.145 2117.12 222.377 L2117.12 238.025 L2112.84 238.025 L2112.84 222.515 Q2112.84 218.789 2111.52 216.983 Q2110.2 215.178 2107.49 215.178 Q2104.18 215.178 2102.26 217.377 Q2100.34 219.576 2100.34 223.372 L2100.34 238.025 L2096.06 238.025 L2096.06 222.515 Q2096.06 218.765 2094.74 216.983 Q2093.42 215.178 2090.67 215.178 Q2087.4 215.178 2085.48 217.4 Q2083.56 219.599 2083.56 223.372 L2083.56 238.025 L2079.28 238.025 L2079.28 212.099 L2083.56 212.099 L2083.56 216.127 Q2085.02 213.742 2087.05 212.608 Q2089.09 211.474 2091.89 211.474 Q2094.72 211.474 2096.68 212.909 Q2098.67 214.344 2099.62 217.076 Z\" fill=\"#000000\" fill-rule=\"nonzero\" fill-opacity=\"1\" /><path clip-path=\"url(#clip200)\" d=\"M2125.62 212.099 L2129.88 212.099 L2129.88 238.025 L2125.62 238.025 L2125.62 212.099 M2125.62 202.006 L2129.88 202.006 L2129.88 207.4 L2125.62 207.4 L2125.62 202.006 Z\" fill=\"#000000\" fill-rule=\"nonzero\" fill-opacity=\"1\" /><path clip-path=\"url(#clip200)\" d=\"M2160.34 222.377 L2160.34 238.025 L2156.08 238.025 L2156.08 222.515 Q2156.08 218.835 2154.65 217.006 Q2153.21 215.178 2150.34 215.178 Q2146.89 215.178 2144.9 217.377 Q2142.91 219.576 2142.91 223.372 L2142.91 238.025 L2138.63 238.025 L2138.63 212.099 L2142.91 212.099 L2142.91 216.127 Q2144.44 213.789 2146.5 212.631 Q2148.58 211.474 2151.29 211.474 Q2155.76 211.474 2158.05 214.252 Q2160.34 217.006 2160.34 222.377 Z\" fill=\"#000000\" fill-rule=\"nonzero\" fill-opacity=\"1\" /><path clip-path=\"url(#clip200)\" d=\"M2168.84 212.099 L2173.1 212.099 L2173.1 238.025 L2168.84 238.025 L2168.84 212.099 M2168.84 202.006 L2173.1 202.006 L2173.1 207.4 L2168.84 207.4 L2168.84 202.006 Z\" fill=\"#000000\" fill-rule=\"nonzero\" fill-opacity=\"1\" /><path clip-path=\"url(#clip200)\" d=\"M2198.54 212.863 L2198.54 216.891 Q2196.73 215.965 2194.79 215.502 Q2192.84 215.039 2190.76 215.039 Q2187.59 215.039 2185.99 216.011 Q2184.42 216.983 2184.42 218.928 Q2184.42 220.409 2185.55 221.265 Q2186.68 222.099 2190.11 222.863 L2191.57 223.187 Q2196.1 224.159 2198 225.941 Q2199.92 227.701 2199.92 230.872 Q2199.92 234.483 2197.05 236.589 Q2194.21 238.696 2189.21 238.696 Q2187.12 238.696 2184.86 238.279 Q2182.61 237.886 2180.11 237.076 L2180.11 232.677 Q2182.47 233.904 2184.76 234.529 Q2187.05 235.131 2189.3 235.131 Q2192.31 235.131 2193.93 234.113 Q2195.55 233.071 2195.55 231.196 Q2195.55 229.46 2194.37 228.534 Q2193.21 227.608 2189.25 226.752 L2187.77 226.404 Q2183.81 225.571 2182.05 223.858 Q2180.29 222.122 2180.29 219.113 Q2180.29 215.455 2182.89 213.465 Q2185.48 211.474 2190.25 211.474 Q2192.61 211.474 2194.69 211.821 Q2196.78 212.168 2198.54 212.863 Z\" fill=\"#000000\" fill-rule=\"nonzero\" fill-opacity=\"1\" /><path clip-path=\"url(#clip200)\" d=\"M2210.92 204.738 L2210.92 212.099 L2219.69 212.099 L2219.69 215.409 L2210.92 215.409 L2210.92 229.483 Q2210.92 232.654 2211.78 233.557 Q2212.66 234.46 2215.32 234.46 L2219.69 234.46 L2219.69 238.025 L2215.32 238.025 Q2210.39 238.025 2208.51 236.196 Q2206.64 234.344 2206.64 229.483 L2206.64 215.409 L2203.51 215.409 L2203.51 212.099 L2206.64 212.099 L2206.64 204.738 L2210.92 204.738 Z\" fill=\"#000000\" fill-rule=\"nonzero\" fill-opacity=\"1\" /><path clip-path=\"url(#clip200)\" d=\"M2225.29 212.099 L2229.55 212.099 L2229.55 238.025 L2225.29 238.025 L2225.29 212.099 M2225.29 202.006 L2229.55 202.006 L2229.55 207.4 L2225.29 207.4 L2225.29 202.006 Z\" fill=\"#000000\" fill-rule=\"nonzero\" fill-opacity=\"1\" /><path clip-path=\"url(#clip200)\" d=\"M2257.12 213.094 L2257.12 217.076 Q2255.32 216.08 2253.49 215.594 Q2251.68 215.085 2249.83 215.085 Q2245.69 215.085 2243.4 217.724 Q2241.1 220.34 2241.1 225.085 Q2241.1 229.83 2243.4 232.469 Q2245.69 235.085 2249.83 235.085 Q2251.68 235.085 2253.49 234.599 Q2255.32 234.089 2257.12 233.094 L2257.12 237.029 Q2255.34 237.863 2253.42 238.279 Q2251.52 238.696 2249.37 238.696 Q2243.51 238.696 2240.06 235.015 Q2236.61 231.335 2236.61 225.085 Q2236.61 218.742 2240.09 215.108 Q2243.58 211.474 2249.65 211.474 Q2251.61 211.474 2253.49 211.891 Q2255.36 212.284 2257.12 213.094 Z\" fill=\"#000000\" fill-rule=\"nonzero\" fill-opacity=\"1\" /><polyline clip-path=\"url(#clip200)\" style=\"stroke:#e26f46; stroke-linecap:round; stroke-linejoin:round; stroke-width:12; stroke-opacity:1; fill:none\" points=\"1780.18,272.585 1923.63,272.585 \"/>\n",
       "<path clip-path=\"url(#clip200)\" d=\"M1969.79 256.439 L1969.79 260.999 Q1967.12 259.726 1964.76 259.101 Q1962.4 258.476 1960.2 258.476 Q1956.38 258.476 1954.3 259.957 Q1952.24 261.439 1952.24 264.17 Q1952.24 266.462 1953.61 267.643 Q1955 268.8 1958.84 269.518 L1961.66 270.096 Q1966.89 271.092 1969.37 273.615 Q1971.87 276.115 1971.87 280.328 Q1971.87 285.351 1968.49 287.943 Q1965.13 290.536 1958.63 290.536 Q1956.18 290.536 1953.4 289.98 Q1950.64 289.425 1947.68 288.337 L1947.68 283.522 Q1950.53 285.119 1953.26 285.929 Q1955.99 286.74 1958.63 286.74 Q1962.63 286.74 1964.81 285.166 Q1966.99 283.592 1966.99 280.675 Q1966.99 278.129 1965.41 276.693 Q1963.86 275.258 1960.3 274.541 L1957.45 273.985 Q1952.22 272.943 1949.88 270.721 Q1947.54 268.499 1947.54 264.541 Q1947.54 259.957 1950.76 257.319 Q1954 254.68 1959.67 254.68 Q1962.1 254.68 1964.62 255.119 Q1967.15 255.559 1969.79 256.439 Z\" fill=\"#000000\" fill-rule=\"nonzero\" fill-opacity=\"1\" /><path clip-path=\"url(#clip200)\" d=\"M1983.19 256.578 L1983.19 263.939 L1991.96 263.939 L1991.96 267.249 L1983.19 267.249 L1983.19 281.323 Q1983.19 284.494 1984.05 285.397 Q1984.93 286.3 1987.59 286.3 L1991.96 286.3 L1991.96 289.865 L1987.59 289.865 Q1982.66 289.865 1980.78 288.036 Q1978.91 286.184 1978.91 281.323 L1978.91 267.249 L1975.78 267.249 L1975.78 263.939 L1978.91 263.939 L1978.91 256.578 L1983.19 256.578 Z\" fill=\"#000000\" fill-rule=\"nonzero\" fill-opacity=\"1\" /><path clip-path=\"url(#clip200)\" d=\"M2007.61 266.925 Q2004.18 266.925 2002.19 269.61 Q2000.2 272.272 2000.2 276.925 Q2000.2 281.578 2002.17 284.263 Q2004.16 286.925 2007.61 286.925 Q2011.01 286.925 2013 284.24 Q2014.99 281.555 2014.99 276.925 Q2014.99 272.318 2013 269.633 Q2011.01 266.925 2007.61 266.925 M2007.61 263.314 Q2013.17 263.314 2016.34 266.925 Q2019.51 270.536 2019.51 276.925 Q2019.51 283.291 2016.34 286.925 Q2013.17 290.536 2007.61 290.536 Q2002.03 290.536 1998.86 286.925 Q1995.71 283.291 1995.71 276.925 Q1995.71 270.536 1998.86 266.925 Q2002.03 263.314 2007.61 263.314 Z\" fill=\"#000000\" fill-rule=\"nonzero\" fill-opacity=\"1\" /><path clip-path=\"url(#clip200)\" d=\"M2045.23 264.934 L2045.23 268.916 Q2043.42 267.92 2041.59 267.434 Q2039.79 266.925 2037.93 266.925 Q2033.79 266.925 2031.5 269.564 Q2029.21 272.18 2029.21 276.925 Q2029.21 281.67 2031.5 284.309 Q2033.79 286.925 2037.93 286.925 Q2039.79 286.925 2041.59 286.439 Q2043.42 285.929 2045.23 284.934 L2045.23 288.869 Q2043.44 289.703 2041.52 290.119 Q2039.62 290.536 2037.47 290.536 Q2031.62 290.536 2028.17 286.855 Q2024.72 283.175 2024.72 276.925 Q2024.72 270.582 2028.19 266.948 Q2031.68 263.314 2037.75 263.314 Q2039.72 263.314 2041.59 263.731 Q2043.47 264.124 2045.23 264.934 Z\" fill=\"#000000\" fill-rule=\"nonzero\" fill-opacity=\"1\" /><path clip-path=\"url(#clip200)\" d=\"M2074.18 274.217 L2074.18 289.865 L2069.93 289.865 L2069.93 274.355 Q2069.93 270.675 2068.49 268.846 Q2067.05 267.018 2064.18 267.018 Q2060.74 267.018 2058.74 269.217 Q2056.75 271.416 2056.75 275.212 L2056.75 289.865 L2052.47 289.865 L2052.47 253.846 L2056.75 253.846 L2056.75 267.967 Q2058.28 265.629 2060.34 264.471 Q2062.43 263.314 2065.13 263.314 Q2069.6 263.314 2071.89 266.092 Q2074.18 268.846 2074.18 274.217 Z\" fill=\"#000000\" fill-rule=\"nonzero\" fill-opacity=\"1\" /><path clip-path=\"url(#clip200)\" d=\"M2094.46 276.832 Q2089.3 276.832 2087.31 278.013 Q2085.32 279.193 2085.32 282.041 Q2085.32 284.309 2086.8 285.652 Q2088.3 286.971 2090.87 286.971 Q2094.42 286.971 2096.55 284.471 Q2098.7 281.948 2098.7 277.781 L2098.7 276.832 L2094.46 276.832 M2102.96 275.073 L2102.96 289.865 L2098.7 289.865 L2098.7 285.929 Q2097.24 288.291 2095.06 289.425 Q2092.89 290.536 2089.74 290.536 Q2085.76 290.536 2083.4 288.314 Q2081.06 286.068 2081.06 282.318 Q2081.06 277.943 2083.98 275.721 Q2086.92 273.499 2092.73 273.499 L2098.7 273.499 L2098.7 273.082 Q2098.7 270.143 2096.75 268.545 Q2094.83 266.925 2091.34 266.925 Q2089.11 266.925 2087.01 267.457 Q2084.9 267.99 2082.96 269.055 L2082.96 265.119 Q2085.3 264.217 2087.49 263.777 Q2089.69 263.314 2091.78 263.314 Q2097.4 263.314 2100.18 266.231 Q2102.96 269.147 2102.96 275.073 Z\" fill=\"#000000\" fill-rule=\"nonzero\" fill-opacity=\"1\" /><path clip-path=\"url(#clip200)\" d=\"M2128.26 264.703 L2128.26 268.731 Q2126.45 267.805 2124.51 267.342 Q2122.56 266.879 2120.48 266.879 Q2117.31 266.879 2115.71 267.851 Q2114.14 268.823 2114.14 270.768 Q2114.14 272.249 2115.27 273.105 Q2116.41 273.939 2119.83 274.703 L2121.29 275.027 Q2125.83 275.999 2127.73 277.781 Q2129.65 279.541 2129.65 282.712 Q2129.65 286.323 2126.78 288.429 Q2123.93 290.536 2118.93 290.536 Q2116.85 290.536 2114.58 290.119 Q2112.33 289.726 2109.83 288.916 L2109.83 284.517 Q2112.19 285.744 2114.49 286.369 Q2116.78 286.971 2119.02 286.971 Q2122.03 286.971 2123.65 285.953 Q2125.27 284.911 2125.27 283.036 Q2125.27 281.3 2124.09 280.374 Q2122.93 279.448 2118.98 278.592 L2117.49 278.244 Q2113.54 277.411 2111.78 275.698 Q2110.02 273.962 2110.02 270.953 Q2110.02 267.295 2112.61 265.305 Q2115.2 263.314 2119.97 263.314 Q2122.33 263.314 2124.42 263.661 Q2126.5 264.008 2128.26 264.703 Z\" fill=\"#000000\" fill-rule=\"nonzero\" fill-opacity=\"1\" /><path clip-path=\"url(#clip200)\" d=\"M2140.64 256.578 L2140.64 263.939 L2149.42 263.939 L2149.42 267.249 L2140.64 267.249 L2140.64 281.323 Q2140.64 284.494 2141.5 285.397 Q2142.38 286.3 2145.04 286.3 L2149.42 286.3 L2149.42 289.865 L2145.04 289.865 Q2140.11 289.865 2138.23 288.036 Q2136.36 286.184 2136.36 281.323 L2136.36 267.249 L2133.23 267.249 L2133.23 263.939 L2136.36 263.939 L2136.36 256.578 L2140.64 256.578 Z\" fill=\"#000000\" fill-rule=\"nonzero\" fill-opacity=\"1\" /><path clip-path=\"url(#clip200)\" d=\"M2155.02 263.939 L2159.28 263.939 L2159.28 289.865 L2155.02 289.865 L2155.02 263.939 M2155.02 253.846 L2159.28 253.846 L2159.28 259.24 L2155.02 259.24 L2155.02 253.846 Z\" fill=\"#000000\" fill-rule=\"nonzero\" fill-opacity=\"1\" /><path clip-path=\"url(#clip200)\" d=\"M2186.85 264.934 L2186.85 268.916 Q2185.04 267.92 2183.21 267.434 Q2181.41 266.925 2179.55 266.925 Q2175.41 266.925 2173.12 269.564 Q2170.83 272.18 2170.83 276.925 Q2170.83 281.67 2173.12 284.309 Q2175.41 286.925 2179.55 286.925 Q2181.41 286.925 2183.21 286.439 Q2185.04 285.929 2186.85 284.934 L2186.85 288.869 Q2185.06 289.703 2183.14 290.119 Q2181.24 290.536 2179.09 290.536 Q2173.23 290.536 2169.79 286.855 Q2166.34 283.175 2166.34 276.925 Q2166.34 270.582 2169.81 266.948 Q2173.3 263.314 2179.37 263.314 Q2181.34 263.314 2183.21 263.731 Q2185.09 264.124 2186.85 264.934 Z\" fill=\"#000000\" fill-rule=\"nonzero\" fill-opacity=\"1\" /></svg>\n"
      ]
     },
     "execution_count": 14,
     "metadata": {},
     "output_type": "execute_result"
    }
   ],
   "source": [
    "# Données\n",
    "Abar=10*ones(m,n)+1*randn(m,n);\n",
    "bbar=10*randn(m,1);\n",
    "\n",
    "#x_0\n",
    "xd = zeros(n,1); # problème déterministe\n",
    "xs = xd; # problème stochastique\n",
    "\n",
    "# Bruit et echantillon\n",
    "M  = 100;\n",
    "noise  = 4;\n",
    "\n",
    "i = 0;\n",
    "\n",
    "fbestd =1e10; # $f_{best}^0$: cas d'une résolution déterministe\n",
    "fbests =1e10; # $f_{best}^0$: cas d'une résolution stochastique\n",
    "histod =[]; # Suite des itérés f_{best}^k pour le cas d'une résolution déterministe\n",
    "histos =[]; # Suite des itérés f_{best}^k pour le cas d'une résolution stochastique\n",
    "\n",
    "# Insérer votre code\n",
    "\n",
    "itermax = 100\n",
    "while i < itermax\n",
    "    i = i + 1\n",
    "    ak = 1/i\n",
    "    #resolution deterministe\n",
    "    xd = xd - ak*subgrad(Abar,bbar,xd);\n",
    "    fxd = fvals(Abar,bbar,noise,xd,M)  \n",
    "    if (fxd < fbestd) \n",
    "        fbestd = fxd\n",
    "    end\n",
    "    append!(histod, fbestd)\n",
    "    #résolution stochastique\n",
    "    xs = xs - ak*(subgrads(Abar,bbar,noise,xs,M))\n",
    "    fxs = fvals(Abar,bbar,noise,xs,M) \n",
    "    if (fxs < fbests)\n",
    "        fbests = fxs\n",
    "    end\n",
    "    append!(histos, fbests)\n",
    "end\n",
    "\n",
    "# Fin insérer code\n",
    "#Affichage\n",
    "\n",
    "iter=1:100;\n",
    "hf=[histod,histos];\n",
    "print(\"La meilleur valeur de f_best est: \")\n",
    "print('\\n')\n",
    "println(\"Deterministe: \" * string(histod[100]))\n",
    "println(\"Stochastique: \" * string(histos[100]))\n",
    "plot(iter,hf,title=\"Convergence curves\",label=[\"Deterministic\" \"Stochastic\"],lw=3)"
   ]
  },
  {
   "cell_type": "markdown",
   "metadata": {},
   "source": [
    "On remarque que la convergence de la méthode stochastique est proportionelle à la taille de l'enchantillon. Ainsi la méthode stochastique converge vers une meilleure valeur, pour un M grand, que la méthode déterministe."
   ]
  },
  {
   "cell_type": "markdown",
   "metadata": {
    "slideshow": {
     "slide_type": "fragment"
    }
   },
   "source": [
    "**Question 7 :** Répéter les expériences et comparer les valeurs meilleurs valeurs de f obtenues ($f_{best}$) aprs un nombre fixé d'itérations. Donnez la valeur minimale de $f_{best}$"
   ]
  },
  {
   "cell_type": "code",
   "execution_count": 15,
   "metadata": {
    "slideshow": {
     "slide_type": "slide"
    }
   },
   "outputs": [
    {
     "data": {
      "image/svg+xml": [
       "<?xml version=\"1.0\" encoding=\"utf-8\"?>\n",
       "<svg xmlns=\"http://www.w3.org/2000/svg\" xmlns:xlink=\"http://www.w3.org/1999/xlink\" width=\"600\" height=\"400\" viewBox=\"0 0 2400 1600\">\n",
       "<defs>\n",
       "  <clipPath id=\"clip240\">\n",
       "    <rect x=\"0\" y=\"0\" width=\"2400\" height=\"1600\"/>\n",
       "  </clipPath>\n",
       "</defs>\n",
       "<path clip-path=\"url(#clip240)\" d=\"M0 1600 L2400 1600 L2400 0 L0 0  Z\" fill=\"#ffffff\" fill-rule=\"evenodd\" fill-opacity=\"1\"/>\n",
       "<defs>\n",
       "  <clipPath id=\"clip241\">\n",
       "    <rect x=\"480\" y=\"0\" width=\"1681\" height=\"1600\"/>\n",
       "  </clipPath>\n",
       "</defs>\n",
       "<path clip-path=\"url(#clip240)\" d=\"M141.853 1486.45 L2352.76 1486.45 L2352.76 123.472 L141.853 123.472  Z\" fill=\"#ffffff\" fill-rule=\"evenodd\" fill-opacity=\"1\"/>\n",
       "<defs>\n",
       "  <clipPath id=\"clip242\">\n",
       "    <rect x=\"141\" y=\"123\" width=\"2212\" height=\"1364\"/>\n",
       "  </clipPath>\n",
       "</defs>\n",
       "<polyline clip-path=\"url(#clip242)\" style=\"stroke:#000000; stroke-linecap:round; stroke-linejoin:round; stroke-width:2; stroke-opacity:0.1; fill:none\" points=\"643.533,1486.45 643.533,123.472 \"/>\n",
       "<polyline clip-path=\"url(#clip242)\" style=\"stroke:#000000; stroke-linecap:round; stroke-linejoin:round; stroke-width:2; stroke-opacity:0.1; fill:none\" points=\"1192.42,1486.45 1192.42,123.472 \"/>\n",
       "<polyline clip-path=\"url(#clip242)\" style=\"stroke:#000000; stroke-linecap:round; stroke-linejoin:round; stroke-width:2; stroke-opacity:0.1; fill:none\" points=\"1741.3,1486.45 1741.3,123.472 \"/>\n",
       "<polyline clip-path=\"url(#clip242)\" style=\"stroke:#000000; stroke-linecap:round; stroke-linejoin:round; stroke-width:2; stroke-opacity:0.1; fill:none\" points=\"2290.18,1486.45 2290.18,123.472 \"/>\n",
       "<polyline clip-path=\"url(#clip240)\" style=\"stroke:#000000; stroke-linecap:round; stroke-linejoin:round; stroke-width:4; stroke-opacity:1; fill:none\" points=\"141.853,1486.45 2352.76,1486.45 \"/>\n",
       "<polyline clip-path=\"url(#clip240)\" style=\"stroke:#000000; stroke-linecap:round; stroke-linejoin:round; stroke-width:4; stroke-opacity:1; fill:none\" points=\"643.533,1486.45 643.533,1467.55 \"/>\n",
       "<polyline clip-path=\"url(#clip240)\" style=\"stroke:#000000; stroke-linecap:round; stroke-linejoin:round; stroke-width:4; stroke-opacity:1; fill:none\" points=\"1192.42,1486.45 1192.42,1467.55 \"/>\n",
       "<polyline clip-path=\"url(#clip240)\" style=\"stroke:#000000; stroke-linecap:round; stroke-linejoin:round; stroke-width:4; stroke-opacity:1; fill:none\" points=\"1741.3,1486.45 1741.3,1467.55 \"/>\n",
       "<polyline clip-path=\"url(#clip240)\" style=\"stroke:#000000; stroke-linecap:round; stroke-linejoin:round; stroke-width:4; stroke-opacity:1; fill:none\" points=\"2290.18,1486.45 2290.18,1467.55 \"/>\n",
       "<path clip-path=\"url(#clip240)\" d=\"M633.81 1514.29 L652.167 1514.29 L652.167 1518.22 L638.093 1518.22 L638.093 1526.7 Q639.111 1526.35 640.13 1526.19 Q641.148 1526 642.167 1526 Q647.954 1526 651.333 1529.17 Q654.713 1532.34 654.713 1537.76 Q654.713 1543.34 651.241 1546.44 Q647.769 1549.52 641.449 1549.52 Q639.273 1549.52 637.005 1549.15 Q634.759 1548.78 632.352 1548.04 L632.352 1543.34 Q634.435 1544.47 636.658 1545.03 Q638.88 1545.58 641.357 1545.58 Q645.361 1545.58 647.699 1543.48 Q650.037 1541.37 650.037 1537.76 Q650.037 1534.15 647.699 1532.04 Q645.361 1529.94 641.357 1529.94 Q639.482 1529.94 637.607 1530.35 Q635.755 1530.77 633.81 1531.65 L633.81 1514.29 Z\" fill=\"#000000\" fill-rule=\"nonzero\" fill-opacity=\"1\" /><path clip-path=\"url(#clip240)\" d=\"M1167.1 1544.91 L1174.74 1544.91 L1174.74 1518.55 L1166.43 1520.21 L1166.43 1515.95 L1174.7 1514.29 L1179.37 1514.29 L1179.37 1544.91 L1187.01 1544.91 L1187.01 1548.85 L1167.1 1548.85 L1167.1 1544.91 Z\" fill=\"#000000\" fill-rule=\"nonzero\" fill-opacity=\"1\" /><path clip-path=\"url(#clip240)\" d=\"M1206.46 1517.37 Q1202.84 1517.37 1201.02 1520.93 Q1199.21 1524.47 1199.21 1531.6 Q1199.21 1538.71 1201.02 1542.27 Q1202.84 1545.82 1206.46 1545.82 Q1210.09 1545.82 1211.9 1542.27 Q1213.72 1538.71 1213.72 1531.6 Q1213.72 1524.47 1211.9 1520.93 Q1210.09 1517.37 1206.46 1517.37 M1206.46 1513.66 Q1212.27 1513.66 1215.32 1518.27 Q1218.4 1522.85 1218.4 1531.6 Q1218.4 1540.33 1215.32 1544.94 Q1212.27 1549.52 1206.46 1549.52 Q1200.65 1549.52 1197.57 1544.94 Q1194.51 1540.33 1194.51 1531.6 Q1194.51 1522.85 1197.57 1518.27 Q1200.65 1513.66 1206.46 1513.66 Z\" fill=\"#000000\" fill-rule=\"nonzero\" fill-opacity=\"1\" /><path clip-path=\"url(#clip240)\" d=\"M1716.48 1544.91 L1724.12 1544.91 L1724.12 1518.55 L1715.81 1520.21 L1715.81 1515.95 L1724.08 1514.29 L1728.75 1514.29 L1728.75 1544.91 L1736.39 1544.91 L1736.39 1548.85 L1716.48 1548.85 L1716.48 1544.91 Z\" fill=\"#000000\" fill-rule=\"nonzero\" fill-opacity=\"1\" /><path clip-path=\"url(#clip240)\" d=\"M1745.88 1514.29 L1764.24 1514.29 L1764.24 1518.22 L1750.17 1518.22 L1750.17 1526.7 Q1751.18 1526.35 1752.2 1526.19 Q1753.22 1526 1754.24 1526 Q1760.03 1526 1763.41 1529.17 Q1766.79 1532.34 1766.79 1537.76 Q1766.79 1543.34 1763.31 1546.44 Q1759.84 1549.52 1753.52 1549.52 Q1751.35 1549.52 1749.08 1549.15 Q1746.83 1548.78 1744.42 1548.04 L1744.42 1543.34 Q1746.51 1544.47 1748.73 1545.03 Q1750.95 1545.58 1753.43 1545.58 Q1757.43 1545.58 1759.77 1543.48 Q1762.11 1541.37 1762.11 1537.76 Q1762.11 1534.15 1759.77 1532.04 Q1757.43 1529.94 1753.43 1529.94 Q1751.55 1529.94 1749.68 1530.35 Q1747.83 1530.77 1745.88 1531.65 L1745.88 1514.29 Z\" fill=\"#000000\" fill-rule=\"nonzero\" fill-opacity=\"1\" /><path clip-path=\"url(#clip240)\" d=\"M2268.96 1544.91 L2285.28 1544.91 L2285.28 1548.85 L2263.33 1548.85 L2263.33 1544.91 Q2265.99 1542.16 2270.58 1537.53 Q2275.18 1532.88 2276.36 1531.53 Q2278.61 1529.01 2279.49 1527.27 Q2280.39 1525.51 2280.39 1523.82 Q2280.39 1521.07 2278.45 1519.33 Q2276.53 1517.6 2273.42 1517.6 Q2271.22 1517.6 2268.77 1518.36 Q2266.34 1519.13 2263.56 1520.68 L2263.56 1515.95 Q2266.39 1514.82 2268.84 1514.24 Q2271.29 1513.66 2273.33 1513.66 Q2278.7 1513.66 2281.9 1516.35 Q2285.09 1519.03 2285.09 1523.52 Q2285.09 1525.65 2284.28 1527.57 Q2283.49 1529.47 2281.39 1532.07 Q2280.81 1532.74 2277.71 1535.95 Q2274.6 1539.15 2268.96 1544.91 Z\" fill=\"#000000\" fill-rule=\"nonzero\" fill-opacity=\"1\" /><path clip-path=\"url(#clip240)\" d=\"M2305.09 1517.37 Q2301.48 1517.37 2299.65 1520.93 Q2297.85 1524.47 2297.85 1531.6 Q2297.85 1538.71 2299.65 1542.27 Q2301.48 1545.82 2305.09 1545.82 Q2308.72 1545.82 2310.53 1542.27 Q2312.36 1538.71 2312.36 1531.6 Q2312.36 1524.47 2310.53 1520.93 Q2308.72 1517.37 2305.09 1517.37 M2305.09 1513.66 Q2310.9 1513.66 2313.96 1518.27 Q2317.03 1522.85 2317.03 1531.6 Q2317.03 1540.33 2313.96 1544.94 Q2310.9 1549.52 2305.09 1549.52 Q2299.28 1549.52 2296.2 1544.94 Q2293.15 1540.33 2293.15 1531.6 Q2293.15 1522.85 2296.2 1518.27 Q2299.28 1513.66 2305.09 1513.66 Z\" fill=\"#000000\" fill-rule=\"nonzero\" fill-opacity=\"1\" /><polyline clip-path=\"url(#clip242)\" style=\"stroke:#000000; stroke-linecap:round; stroke-linejoin:round; stroke-width:2; stroke-opacity:0.1; fill:none\" points=\"141.853,1465.13 2352.76,1465.13 \"/>\n",
       "<polyline clip-path=\"url(#clip242)\" style=\"stroke:#000000; stroke-linecap:round; stroke-linejoin:round; stroke-width:2; stroke-opacity:0.1; fill:none\" points=\"141.853,1221.76 2352.76,1221.76 \"/>\n",
       "<polyline clip-path=\"url(#clip242)\" style=\"stroke:#000000; stroke-linecap:round; stroke-linejoin:round; stroke-width:2; stroke-opacity:0.1; fill:none\" points=\"141.853,978.385 2352.76,978.385 \"/>\n",
       "<polyline clip-path=\"url(#clip242)\" style=\"stroke:#000000; stroke-linecap:round; stroke-linejoin:round; stroke-width:2; stroke-opacity:0.1; fill:none\" points=\"141.853,735.011 2352.76,735.011 \"/>\n",
       "<polyline clip-path=\"url(#clip242)\" style=\"stroke:#000000; stroke-linecap:round; stroke-linejoin:round; stroke-width:2; stroke-opacity:0.1; fill:none\" points=\"141.853,491.637 2352.76,491.637 \"/>\n",
       "<polyline clip-path=\"url(#clip242)\" style=\"stroke:#000000; stroke-linecap:round; stroke-linejoin:round; stroke-width:2; stroke-opacity:0.1; fill:none\" points=\"141.853,248.263 2352.76,248.263 \"/>\n",
       "<polyline clip-path=\"url(#clip240)\" style=\"stroke:#000000; stroke-linecap:round; stroke-linejoin:round; stroke-width:4; stroke-opacity:1; fill:none\" points=\"141.853,1486.45 141.853,123.472 \"/>\n",
       "<polyline clip-path=\"url(#clip240)\" style=\"stroke:#000000; stroke-linecap:round; stroke-linejoin:round; stroke-width:4; stroke-opacity:1; fill:none\" points=\"141.853,1465.13 160.751,1465.13 \"/>\n",
       "<polyline clip-path=\"url(#clip240)\" style=\"stroke:#000000; stroke-linecap:round; stroke-linejoin:round; stroke-width:4; stroke-opacity:1; fill:none\" points=\"141.853,1221.76 160.751,1221.76 \"/>\n",
       "<polyline clip-path=\"url(#clip240)\" style=\"stroke:#000000; stroke-linecap:round; stroke-linejoin:round; stroke-width:4; stroke-opacity:1; fill:none\" points=\"141.853,978.385 160.751,978.385 \"/>\n",
       "<polyline clip-path=\"url(#clip240)\" style=\"stroke:#000000; stroke-linecap:round; stroke-linejoin:round; stroke-width:4; stroke-opacity:1; fill:none\" points=\"141.853,735.011 160.751,735.011 \"/>\n",
       "<polyline clip-path=\"url(#clip240)\" style=\"stroke:#000000; stroke-linecap:round; stroke-linejoin:round; stroke-width:4; stroke-opacity:1; fill:none\" points=\"141.853,491.637 160.751,491.637 \"/>\n",
       "<polyline clip-path=\"url(#clip240)\" style=\"stroke:#000000; stroke-linecap:round; stroke-linejoin:round; stroke-width:4; stroke-opacity:1; fill:none\" points=\"141.853,248.263 160.751,248.263 \"/>\n",
       "<path clip-path=\"url(#clip240)\" d=\"M67.9133 1463.78 Q71.2698 1464.5 73.1448 1466.76 Q75.0429 1469.03 75.0429 1472.37 Q75.0429 1477.48 71.5244 1480.28 Q68.0059 1483.08 61.5245 1483.08 Q59.3486 1483.08 57.0338 1482.64 Q54.7421 1482.23 52.2884 1481.37 L52.2884 1476.86 Q54.2328 1477.99 56.5477 1478.57 Q58.8625 1479.15 61.3856 1479.15 Q65.7837 1479.15 68.0754 1477.41 Q70.3902 1475.68 70.3902 1472.37 Q70.3902 1469.31 68.2374 1467.6 Q66.1078 1465.86 62.2884 1465.86 L58.2606 1465.86 L58.2606 1462.02 L62.4735 1462.02 Q65.9226 1462.02 67.7513 1460.65 Q69.58 1459.26 69.58 1456.67 Q69.58 1454.01 67.6819 1452.6 Q65.8069 1451.16 62.2884 1451.16 Q60.3671 1451.16 58.168 1451.58 Q55.969 1452 53.3301 1452.88 L53.3301 1448.71 Q55.9921 1447.97 58.3069 1447.6 Q60.6449 1447.23 62.705 1447.23 Q68.0291 1447.23 71.1309 1449.66 Q74.2327 1452.07 74.2327 1456.19 Q74.2327 1459.06 72.5892 1461.05 Q70.9457 1463.01 67.9133 1463.78 Z\" fill=\"#000000\" fill-rule=\"nonzero\" fill-opacity=\"1\" /><path clip-path=\"url(#clip240)\" d=\"M93.9086 1450.93 Q90.2975 1450.93 88.4688 1454.5 Q86.6632 1458.04 86.6632 1465.17 Q86.6632 1472.27 88.4688 1475.84 Q90.2975 1479.38 93.9086 1479.38 Q97.5428 1479.38 99.3483 1475.84 Q101.177 1472.27 101.177 1465.17 Q101.177 1458.04 99.3483 1454.5 Q97.5428 1450.93 93.9086 1450.93 M93.9086 1447.23 Q99.7187 1447.23 102.774 1451.83 Q105.853 1456.42 105.853 1465.17 Q105.853 1473.89 102.774 1478.5 Q99.7187 1483.08 93.9086 1483.08 Q88.0984 1483.08 85.0197 1478.5 Q81.9642 1473.89 81.9642 1465.17 Q81.9642 1456.42 85.0197 1451.83 Q88.0984 1447.23 93.9086 1447.23 Z\" fill=\"#000000\" fill-rule=\"nonzero\" fill-opacity=\"1\" /><path clip-path=\"url(#clip240)\" d=\"M68.9087 1220.4 Q72.2652 1221.12 74.1402 1223.39 Q76.0383 1225.66 76.0383 1228.99 Q76.0383 1234.11 72.5198 1236.91 Q69.0013 1239.71 62.5198 1239.71 Q60.3439 1239.71 58.0291 1239.27 Q55.7375 1238.85 53.2838 1238 L53.2838 1233.48 Q55.2282 1234.62 57.543 1235.2 Q59.8578 1235.77 62.381 1235.77 Q66.7791 1235.77 69.0707 1234.04 Q71.3855 1232.3 71.3855 1228.99 Q71.3855 1225.94 69.2328 1224.22 Q67.1032 1222.49 63.2837 1222.49 L59.256 1222.49 L59.256 1218.65 L63.4689 1218.65 Q66.918 1218.65 68.7467 1217.28 Q70.5754 1215.89 70.5754 1213.3 Q70.5754 1210.64 68.6772 1209.22 Q66.8022 1207.79 63.2837 1207.79 Q61.3624 1207.79 59.1634 1208.21 Q56.9643 1208.62 54.3254 1209.5 L54.3254 1205.34 Q56.9875 1204.59 59.3023 1204.22 Q61.6402 1203.85 63.7004 1203.85 Q69.0244 1203.85 72.1263 1206.28 Q75.2281 1208.69 75.2281 1212.81 Q75.2281 1215.68 73.5846 1217.67 Q71.9411 1219.64 68.9087 1220.4 Z\" fill=\"#000000\" fill-rule=\"nonzero\" fill-opacity=\"1\" /><path clip-path=\"url(#clip240)\" d=\"M84.9503 1204.48 L103.307 1204.48 L103.307 1208.41 L89.2327 1208.41 L89.2327 1216.89 Q90.2512 1216.54 91.2697 1216.38 Q92.2882 1216.19 93.3067 1216.19 Q99.0937 1216.19 102.473 1219.36 Q105.853 1222.53 105.853 1227.95 Q105.853 1233.53 102.381 1236.63 Q98.9085 1239.71 92.5891 1239.71 Q90.4132 1239.71 88.1447 1239.34 Q85.8993 1238.97 83.492 1238.23 L83.492 1233.53 Q85.5753 1234.66 87.7975 1235.22 Q90.0197 1235.77 92.4965 1235.77 Q96.5011 1235.77 98.8391 1233.67 Q101.177 1231.56 101.177 1227.95 Q101.177 1224.34 98.8391 1222.23 Q96.5011 1220.13 92.4965 1220.13 Q90.6215 1220.13 88.7466 1220.54 Q86.8947 1220.96 84.9503 1221.84 L84.9503 1204.48 Z\" fill=\"#000000\" fill-rule=\"nonzero\" fill-opacity=\"1\" /><path clip-path=\"url(#clip240)\" d=\"M66.5939 965.179 L54.7884 983.628 L66.5939 983.628 L66.5939 965.179 M65.367 961.105 L71.2466 961.105 L71.2466 983.628 L76.1772 983.628 L76.1772 987.517 L71.2466 987.517 L71.2466 995.665 L66.5939 995.665 L66.5939 987.517 L50.9921 987.517 L50.9921 983.003 L65.367 961.105 Z\" fill=\"#000000\" fill-rule=\"nonzero\" fill-opacity=\"1\" /><path clip-path=\"url(#clip240)\" d=\"M93.9086 964.184 Q90.2975 964.184 88.4688 967.748 Q86.6632 971.29 86.6632 978.42 Q86.6632 985.526 88.4688 989.091 Q90.2975 992.632 93.9086 992.632 Q97.5428 992.632 99.3483 989.091 Q101.177 985.526 101.177 978.42 Q101.177 971.29 99.3483 967.748 Q97.5428 964.184 93.9086 964.184 M93.9086 960.48 Q99.7187 960.48 102.774 965.086 Q105.853 969.67 105.853 978.42 Q105.853 987.146 102.774 991.753 Q99.7187 996.336 93.9086 996.336 Q88.0984 996.336 85.0197 991.753 Q81.9642 987.146 81.9642 978.42 Q81.9642 969.67 85.0197 965.086 Q88.0984 960.48 93.9086 960.48 Z\" fill=\"#000000\" fill-rule=\"nonzero\" fill-opacity=\"1\" /><path clip-path=\"url(#clip240)\" d=\"M67.5893 721.805 L55.7838 740.254 L67.5893 740.254 L67.5893 721.805 M66.3624 717.731 L72.242 717.731 L72.242 740.254 L77.1725 740.254 L77.1725 744.143 L72.242 744.143 L72.242 752.291 L67.5893 752.291 L67.5893 744.143 L51.9875 744.143 L51.9875 739.629 L66.3624 717.731 Z\" fill=\"#000000\" fill-rule=\"nonzero\" fill-opacity=\"1\" /><path clip-path=\"url(#clip240)\" d=\"M84.9503 717.731 L103.307 717.731 L103.307 721.666 L89.2327 721.666 L89.2327 730.138 Q90.2512 729.791 91.2697 729.629 Q92.2882 729.444 93.3067 729.444 Q99.0937 729.444 102.473 732.615 Q105.853 735.786 105.853 741.203 Q105.853 746.782 102.381 749.884 Q98.9085 752.962 92.5891 752.962 Q90.4132 752.962 88.1447 752.592 Q85.8993 752.222 83.492 751.481 L83.492 746.782 Q85.5753 747.916 87.7975 748.472 Q90.0197 749.027 92.4965 749.027 Q96.5011 749.027 98.8391 746.921 Q101.177 744.814 101.177 741.203 Q101.177 737.592 98.8391 735.486 Q96.5011 733.379 92.4965 733.379 Q90.6215 733.379 88.7466 733.796 Q86.8947 734.212 84.9503 735.092 L84.9503 717.731 Z\" fill=\"#000000\" fill-rule=\"nonzero\" fill-opacity=\"1\" /><path clip-path=\"url(#clip240)\" d=\"M53.793 474.357 L72.1494 474.357 L72.1494 478.292 L58.0754 478.292 L58.0754 486.764 Q59.0939 486.417 60.1124 486.255 Q61.131 486.07 62.1495 486.07 Q67.9365 486.07 71.3161 489.241 Q74.6957 492.413 74.6957 497.829 Q74.6957 503.408 71.2235 506.51 Q67.7513 509.588 61.4319 509.588 Q59.256 509.588 56.9875 509.218 Q54.7421 508.848 52.3347 508.107 L52.3347 503.408 Q54.418 504.542 56.6402 505.098 Q58.8625 505.653 61.3393 505.653 Q65.3439 505.653 67.6819 503.547 Q70.0198 501.44 70.0198 497.829 Q70.0198 494.218 67.6819 492.112 Q65.3439 490.005 61.3393 490.005 Q59.4643 490.005 57.5893 490.422 Q55.7375 490.839 53.793 491.718 L53.793 474.357 Z\" fill=\"#000000\" fill-rule=\"nonzero\" fill-opacity=\"1\" /><path clip-path=\"url(#clip240)\" d=\"M93.9086 477.436 Q90.2975 477.436 88.4688 481.001 Q86.6632 484.542 86.6632 491.672 Q86.6632 498.778 88.4688 502.343 Q90.2975 505.885 93.9086 505.885 Q97.5428 505.885 99.3483 502.343 Q101.177 498.778 101.177 491.672 Q101.177 484.542 99.3483 481.001 Q97.5428 477.436 93.9086 477.436 M93.9086 473.732 Q99.7187 473.732 102.774 478.339 Q105.853 482.922 105.853 491.672 Q105.853 500.399 102.774 505.005 Q99.7187 509.588 93.9086 509.588 Q88.0984 509.588 85.0197 505.005 Q81.9642 500.399 81.9642 491.672 Q81.9642 482.922 85.0197 478.339 Q88.0984 473.732 93.9086 473.732 Z\" fill=\"#000000\" fill-rule=\"nonzero\" fill-opacity=\"1\" /><path clip-path=\"url(#clip240)\" d=\"M54.7884 230.983 L73.1448 230.983 L73.1448 234.918 L59.0708 234.918 L59.0708 243.391 Q60.0893 243.043 61.1078 242.881 Q62.1263 242.696 63.1448 242.696 Q68.9318 242.696 72.3115 245.867 Q75.6911 249.039 75.6911 254.455 Q75.6911 260.034 72.2189 263.136 Q68.7467 266.215 62.4272 266.215 Q60.2513 266.215 57.9828 265.844 Q55.7375 265.474 53.3301 264.733 L53.3301 260.034 Q55.4134 261.168 57.6356 261.724 Q59.8578 262.279 62.3347 262.279 Q66.3393 262.279 68.6772 260.173 Q71.0152 258.066 71.0152 254.455 Q71.0152 250.844 68.6772 248.738 Q66.3393 246.631 62.3347 246.631 Q60.4597 246.631 58.5847 247.048 Q56.7328 247.465 54.7884 248.344 L54.7884 230.983 Z\" fill=\"#000000\" fill-rule=\"nonzero\" fill-opacity=\"1\" /><path clip-path=\"url(#clip240)\" d=\"M84.9503 230.983 L103.307 230.983 L103.307 234.918 L89.2327 234.918 L89.2327 243.391 Q90.2512 243.043 91.2697 242.881 Q92.2882 242.696 93.3067 242.696 Q99.0937 242.696 102.473 245.867 Q105.853 249.039 105.853 254.455 Q105.853 260.034 102.381 263.136 Q98.9085 266.215 92.5891 266.215 Q90.4132 266.215 88.1447 265.844 Q85.8993 265.474 83.492 264.733 L83.492 260.034 Q85.5753 261.168 87.7975 261.724 Q90.0197 262.279 92.4965 262.279 Q96.5011 262.279 98.8391 260.173 Q101.177 258.066 101.177 254.455 Q101.177 250.844 98.8391 248.738 Q96.5011 246.631 92.4965 246.631 Q90.6215 246.631 88.7466 247.048 Q86.8947 247.465 84.9503 248.344 L84.9503 230.983 Z\" fill=\"#000000\" fill-rule=\"nonzero\" fill-opacity=\"1\" /><path clip-path=\"url(#clip240)\" d=\"M875.918 16.7545 L875.918 25.383 Q871.786 21.5346 867.087 19.6307 Q862.428 17.7268 857.162 17.7268 Q846.792 17.7268 841.282 24.0867 Q835.773 30.4061 835.773 42.3968 Q835.773 54.3469 841.282 60.7069 Q846.792 67.0263 857.162 67.0263 Q862.428 67.0263 867.087 65.1223 Q871.786 63.2184 875.918 59.3701 L875.918 67.9175 Q871.624 70.8341 866.803 72.2924 Q862.023 73.7508 856.676 73.7508 Q842.943 73.7508 835.044 65.3654 Q827.145 56.9395 827.145 42.3968 Q827.145 27.8135 835.044 19.4281 Q842.943 11.0023 856.676 11.0023 Q862.104 11.0023 866.884 12.4606 Q871.705 13.8784 875.918 16.7545 Z\" fill=\"#000000\" fill-rule=\"nonzero\" fill-opacity=\"1\" /><path clip-path=\"url(#clip240)\" d=\"M905.813 32.4315 Q899.818 32.4315 896.334 37.1306 Q892.85 41.7891 892.85 49.9314 Q892.85 58.0738 896.294 62.7728 Q899.777 67.4314 905.813 67.4314 Q911.768 67.4314 915.252 62.7323 Q918.736 58.0333 918.736 49.9314 Q918.736 41.8701 915.252 37.1711 Q911.768 32.4315 905.813 32.4315 M905.813 26.1121 Q915.535 26.1121 921.085 32.4315 Q926.635 38.7509 926.635 49.9314 Q926.635 61.0714 921.085 67.4314 Q915.535 73.7508 905.813 73.7508 Q896.051 73.7508 890.501 67.4314 Q884.992 61.0714 884.992 49.9314 Q884.992 38.7509 890.501 32.4315 Q896.051 26.1121 905.813 26.1121 Z\" fill=\"#000000\" fill-rule=\"nonzero\" fill-opacity=\"1\" /><path clip-path=\"url(#clip240)\" d=\"M976.704 45.1919 L976.704 72.576 L969.25 72.576 L969.25 45.4349 Q969.25 38.994 966.739 35.7938 Q964.227 32.5936 959.204 32.5936 Q953.168 32.5936 949.684 36.4419 Q946.201 40.2903 946.201 46.9338 L946.201 72.576 L938.707 72.576 L938.707 27.2059 L946.201 27.2059 L946.201 34.2544 Q948.874 30.163 952.48 28.1376 Q956.125 26.1121 960.865 26.1121 Q968.683 26.1121 972.694 30.9732 Q976.704 35.7938 976.704 45.1919 Z\" fill=\"#000000\" fill-rule=\"nonzero\" fill-opacity=\"1\" /><path clip-path=\"url(#clip240)\" d=\"M986.224 27.2059 L994.123 27.2059 L1008.3 65.2844 L1022.48 27.2059 L1030.38 27.2059 L1013.36 72.576 L1003.24 72.576 L986.224 27.2059 Z\" fill=\"#000000\" fill-rule=\"nonzero\" fill-opacity=\"1\" /><path clip-path=\"url(#clip240)\" d=\"M1079.48 48.0275 L1079.48 51.6733 L1045.2 51.6733 Q1045.69 59.3701 1049.82 63.421 Q1054 67.4314 1061.41 67.4314 Q1065.7 67.4314 1069.71 66.3781 Q1073.76 65.3249 1077.73 63.2184 L1077.73 70.267 Q1073.72 71.9684 1069.51 72.8596 Q1065.3 73.7508 1060.96 73.7508 Q1050.11 73.7508 1043.75 67.4314 Q1037.43 61.1119 1037.43 50.3365 Q1037.43 39.1965 1043.42 32.6746 Q1049.46 26.1121 1059.67 26.1121 Q1068.82 26.1121 1074.13 32.0264 Q1079.48 37.9003 1079.48 48.0275 M1072.02 45.84 Q1071.94 39.7232 1068.58 36.0774 Q1065.26 32.4315 1059.75 32.4315 Q1053.51 32.4315 1049.74 35.9558 Q1046.01 39.4801 1045.45 45.8805 L1072.02 45.84 Z\" fill=\"#000000\" fill-rule=\"nonzero\" fill-opacity=\"1\" /><path clip-path=\"url(#clip240)\" d=\"M1118 34.1734 Q1116.74 33.4443 1115.24 33.1202 Q1113.79 32.7556 1112 32.7556 Q1105.68 32.7556 1102.28 36.8875 Q1098.92 40.9789 1098.92 48.6757 L1098.92 72.576 L1091.43 72.576 L1091.43 27.2059 L1098.92 27.2059 L1098.92 34.2544 Q1101.27 30.1225 1105.04 28.1376 Q1108.8 26.1121 1114.19 26.1121 Q1114.96 26.1121 1115.89 26.2337 Q1116.82 26.3147 1117.96 26.5172 L1118 34.1734 Z\" fill=\"#000000\" fill-rule=\"nonzero\" fill-opacity=\"1\" /><path clip-path=\"url(#clip240)\" d=\"M1154.21 49.3643 Q1154.21 41.2625 1150.85 36.8065 Q1147.53 32.3505 1141.49 32.3505 Q1135.5 32.3505 1132.14 36.8065 Q1128.82 41.2625 1128.82 49.3643 Q1128.82 57.4256 1132.14 61.8816 Q1135.5 66.3376 1141.49 66.3376 Q1147.53 66.3376 1150.85 61.8816 Q1154.21 57.4256 1154.21 49.3643 M1161.67 66.9452 Q1161.67 78.5308 1156.52 84.1616 Q1151.38 89.8329 1140.77 89.8329 Q1136.84 89.8329 1133.35 89.2252 Q1129.87 88.6581 1126.59 87.4428 L1126.59 80.1917 Q1129.87 81.9741 1133.07 82.8248 Q1136.27 83.6755 1139.59 83.6755 Q1146.92 83.6755 1150.57 79.8271 Q1154.21 76.0193 1154.21 68.282 L1154.21 64.5957 Q1151.91 68.6061 1148.3 70.5911 Q1144.7 72.576 1139.67 72.576 Q1131.33 72.576 1126.22 66.2161 Q1121.12 59.8562 1121.12 49.3643 Q1121.12 38.832 1126.22 32.472 Q1131.33 26.1121 1139.67 26.1121 Q1144.7 26.1121 1148.3 28.0971 Q1151.91 30.082 1154.21 34.0924 L1154.21 27.2059 L1161.67 27.2059 L1161.67 66.9452 Z\" fill=\"#000000\" fill-rule=\"nonzero\" fill-opacity=\"1\" /><path clip-path=\"url(#clip240)\" d=\"M1215.83 48.0275 L1215.83 51.6733 L1181.56 51.6733 Q1182.04 59.3701 1186.18 63.421 Q1190.35 67.4314 1197.76 67.4314 Q1202.06 67.4314 1206.07 66.3781 Q1210.12 65.3249 1214.09 63.2184 L1214.09 70.267 Q1210.08 71.9684 1205.86 72.8596 Q1201.65 73.7508 1197.32 73.7508 Q1186.46 73.7508 1180.1 67.4314 Q1173.78 61.1119 1173.78 50.3365 Q1173.78 39.1965 1179.78 32.6746 Q1185.81 26.1121 1196.02 26.1121 Q1205.18 26.1121 1210.48 32.0264 Q1215.83 37.9003 1215.83 48.0275 M1208.38 45.84 Q1208.29 39.7232 1204.93 36.0774 Q1201.61 32.4315 1196.1 32.4315 Q1189.86 32.4315 1186.1 35.9558 Q1182.37 39.4801 1181.8 45.8805 L1208.38 45.84 Z\" fill=\"#000000\" fill-rule=\"nonzero\" fill-opacity=\"1\" /><path clip-path=\"url(#clip240)\" d=\"M1265.78 45.1919 L1265.78 72.576 L1258.32 72.576 L1258.32 45.4349 Q1258.32 38.994 1255.81 35.7938 Q1253.3 32.5936 1248.28 32.5936 Q1242.24 32.5936 1238.76 36.4419 Q1235.27 40.2903 1235.27 46.9338 L1235.27 72.576 L1227.78 72.576 L1227.78 27.2059 L1235.27 27.2059 L1235.27 34.2544 Q1237.95 30.163 1241.55 28.1376 Q1245.2 26.1121 1249.94 26.1121 Q1257.76 26.1121 1261.77 30.9732 Q1265.78 35.7938 1265.78 45.1919 Z\" fill=\"#000000\" fill-rule=\"nonzero\" fill-opacity=\"1\" /><path clip-path=\"url(#clip240)\" d=\"M1313.29 28.9478 L1313.29 35.9153 Q1310.13 34.1734 1306.93 33.3227 Q1303.77 32.4315 1300.53 32.4315 Q1293.28 32.4315 1289.27 37.0496 Q1285.26 41.6271 1285.26 49.9314 Q1285.26 58.2358 1289.27 62.8538 Q1293.28 67.4314 1300.53 67.4314 Q1303.77 67.4314 1306.93 66.5807 Q1310.13 65.6895 1313.29 63.9476 L1313.29 70.8341 Q1310.17 72.2924 1306.81 73.0216 Q1303.49 73.7508 1299.72 73.7508 Q1289.47 73.7508 1283.44 67.3098 Q1277.4 60.8689 1277.4 49.9314 Q1277.4 38.832 1283.48 32.472 Q1289.6 26.1121 1300.21 26.1121 Q1303.65 26.1121 1306.93 26.8413 Q1310.21 27.5299 1313.29 28.9478 Z\" fill=\"#000000\" fill-rule=\"nonzero\" fill-opacity=\"1\" /><path clip-path=\"url(#clip240)\" d=\"M1365.06 48.0275 L1365.06 51.6733 L1330.79 51.6733 Q1331.28 59.3701 1335.41 63.421 Q1339.58 67.4314 1347 67.4314 Q1351.29 67.4314 1355.3 66.3781 Q1359.35 65.3249 1363.32 63.2184 L1363.32 70.267 Q1359.31 71.9684 1355.1 72.8596 Q1350.89 73.7508 1346.55 73.7508 Q1335.7 73.7508 1329.34 67.4314 Q1323.02 61.1119 1323.02 50.3365 Q1323.02 39.1965 1329.01 32.6746 Q1335.05 26.1121 1345.26 26.1121 Q1354.41 26.1121 1359.72 32.0264 Q1365.06 37.9003 1365.06 48.0275 M1357.61 45.84 Q1357.53 39.7232 1354.17 36.0774 Q1350.85 32.4315 1345.34 32.4315 Q1339.1 32.4315 1335.33 35.9558 Q1331.6 39.4801 1331.04 45.8805 L1357.61 45.84 Z\" fill=\"#000000\" fill-rule=\"nonzero\" fill-opacity=\"1\" /><path clip-path=\"url(#clip240)\" d=\"M1436.32 28.9478 L1436.32 35.9153 Q1433.16 34.1734 1429.96 33.3227 Q1426.8 32.4315 1423.56 32.4315 Q1416.31 32.4315 1412.3 37.0496 Q1408.29 41.6271 1408.29 49.9314 Q1408.29 58.2358 1412.3 62.8538 Q1416.31 67.4314 1423.56 67.4314 Q1426.8 67.4314 1429.96 66.5807 Q1433.16 65.6895 1436.32 63.9476 L1436.32 70.8341 Q1433.2 72.2924 1429.84 73.0216 Q1426.52 73.7508 1422.75 73.7508 Q1412.5 73.7508 1406.46 67.3098 Q1400.43 60.8689 1400.43 49.9314 Q1400.43 38.832 1406.5 32.472 Q1412.62 26.1121 1423.24 26.1121 Q1426.68 26.1121 1429.96 26.8413 Q1433.24 27.5299 1436.32 28.9478 Z\" fill=\"#000000\" fill-rule=\"nonzero\" fill-opacity=\"1\" /><path clip-path=\"url(#clip240)\" d=\"M1448.51 54.671 L1448.51 27.2059 L1455.97 27.2059 L1455.97 54.3874 Q1455.97 60.8284 1458.48 64.0691 Q1460.99 67.2693 1466.01 67.2693 Q1472.05 67.2693 1475.53 63.421 Q1479.06 59.5726 1479.06 52.9291 L1479.06 27.2059 L1486.51 27.2059 L1486.51 72.576 L1479.06 72.576 L1479.06 65.6084 Q1476.34 69.7404 1472.74 71.7658 Q1469.17 73.7508 1464.43 73.7508 Q1456.61 73.7508 1452.56 68.8897 Q1448.51 64.0286 1448.51 54.671 M1467.27 26.1121 L1467.27 26.1121 Z\" fill=\"#000000\" fill-rule=\"nonzero\" fill-opacity=\"1\" /><path clip-path=\"url(#clip240)\" d=\"M1528.15 34.1734 Q1526.9 33.4443 1525.4 33.1202 Q1523.94 32.7556 1522.16 32.7556 Q1515.84 32.7556 1512.44 36.8875 Q1509.07 40.9789 1509.07 48.6757 L1509.07 72.576 L1501.58 72.576 L1501.58 27.2059 L1509.07 27.2059 L1509.07 34.2544 Q1511.42 30.1225 1515.19 28.1376 Q1518.96 26.1121 1524.35 26.1121 Q1525.12 26.1121 1526.05 26.2337 Q1526.98 26.3147 1528.11 26.5172 L1528.15 34.1734 Z\" fill=\"#000000\" fill-rule=\"nonzero\" fill-opacity=\"1\" /><path clip-path=\"url(#clip240)\" d=\"M1530.62 27.2059 L1538.52 27.2059 L1552.7 65.2844 L1566.88 27.2059 L1574.78 27.2059 L1557.77 72.576 L1547.64 72.576 L1530.62 27.2059 Z\" fill=\"#000000\" fill-rule=\"nonzero\" fill-opacity=\"1\" /><path clip-path=\"url(#clip240)\" d=\"M1623.88 48.0275 L1623.88 51.6733 L1589.61 51.6733 Q1590.09 59.3701 1594.22 63.421 Q1598.4 67.4314 1605.81 67.4314 Q1610.1 67.4314 1614.11 66.3781 Q1618.16 65.3249 1622.13 63.2184 L1622.13 70.267 Q1618.12 71.9684 1613.91 72.8596 Q1609.7 73.7508 1605.36 73.7508 Q1594.51 73.7508 1588.15 67.4314 Q1581.83 61.1119 1581.83 50.3365 Q1581.83 39.1965 1587.82 32.6746 Q1593.86 26.1121 1604.07 26.1121 Q1613.22 26.1121 1618.53 32.0264 Q1623.88 37.9003 1623.88 48.0275 M1616.42 45.84 Q1616.34 39.7232 1612.98 36.0774 Q1609.66 32.4315 1604.15 32.4315 Q1597.91 32.4315 1594.14 35.9558 Q1590.42 39.4801 1589.85 45.8805 L1616.42 45.84 Z\" fill=\"#000000\" fill-rule=\"nonzero\" fill-opacity=\"1\" /><path clip-path=\"url(#clip240)\" d=\"M1665.03 28.5427 L1665.03 35.5912 Q1661.87 33.9709 1658.47 33.1607 Q1655.07 32.3505 1651.42 32.3505 Q1645.87 32.3505 1643.08 34.0519 Q1640.32 35.7533 1640.32 39.156 Q1640.32 41.7486 1642.31 43.2475 Q1644.29 44.7058 1650.29 46.0426 L1652.84 46.6097 Q1660.78 48.3111 1664.1 51.4303 Q1667.46 54.509 1667.46 60.0587 Q1667.46 66.3781 1662.44 70.0644 Q1657.46 73.7508 1648.71 73.7508 Q1645.06 73.7508 1641.09 73.0216 Q1637.16 72.3329 1632.79 70.9151 L1632.79 63.2184 Q1636.92 65.3654 1640.93 66.4591 Q1644.94 67.5124 1648.87 67.5124 Q1654.14 67.5124 1656.97 65.73 Q1659.81 63.9071 1659.81 60.6258 Q1659.81 57.5877 1657.74 55.9673 Q1655.72 54.3469 1648.79 52.8481 L1646.2 52.2405 Q1639.27 50.7821 1636.19 47.7845 Q1633.11 44.7463 1633.11 39.4801 Q1633.11 33.0797 1637.65 29.5959 Q1642.19 26.1121 1650.53 26.1121 Q1654.66 26.1121 1658.31 26.7198 Q1661.95 27.3274 1665.03 28.5427 Z\" fill=\"#000000\" fill-rule=\"nonzero\" fill-opacity=\"1\" /><polyline clip-path=\"url(#clip242)\" style=\"stroke:#009af9; stroke-linecap:round; stroke-linejoin:round; stroke-width:12; stroke-opacity:1; fill:none\" points=\"204.426,246.505 314.202,272.194 423.979,219.079 533.756,219.018 643.533,237.981 753.309,162.047 863.086,219.837 972.863,270.627 1082.64,236.631 1192.42,198.883 1302.19,192.994 1411.97,210.793 1521.75,199.016 1631.52,193.907 1741.3,218.847 1851.08,214.699 1960.85,194.302 2070.63,205.849 2180.41,229.162 2290.18,227.753 \"/>\n",
       "<polyline clip-path=\"url(#clip242)\" style=\"stroke:#e26f46; stroke-linecap:round; stroke-linejoin:round; stroke-width:12; stroke-opacity:1; fill:none\" points=\"204.426,1415.07 314.202,1335.02 423.979,1392.07 533.756,1387.46 643.533,1333.74 753.309,1334.87 863.086,1404.01 972.863,1365.83 1082.64,1400.26 1192.42,1386.66 1302.19,1419.11 1411.97,1354.35 1521.75,1447.87 1631.52,1371.79 1741.3,1375.2 1851.08,1378.38 1960.85,1405.02 2070.63,1374.48 2180.41,1427.3 2290.18,1422.59 \"/>\n",
       "<path clip-path=\"url(#clip240)\" d=\"M215.55 324.425 L746.222 324.425 L746.222 168.905 L215.55 168.905  Z\" fill=\"#ffffff\" fill-rule=\"evenodd\" fill-opacity=\"1\"/>\n",
       "<polyline clip-path=\"url(#clip240)\" style=\"stroke:#000000; stroke-linecap:round; stroke-linejoin:round; stroke-width:4; stroke-opacity:1; fill:none\" points=\"215.55,324.425 746.222,324.425 746.222,168.905 215.55,168.905 215.55,324.425 \"/>\n",
       "<polyline clip-path=\"url(#clip240)\" style=\"stroke:#009af9; stroke-linecap:round; stroke-linejoin:round; stroke-width:12; stroke-opacity:1; fill:none\" points=\"240.115,220.745 387.509,220.745 \"/>\n",
       "<path clip-path=\"url(#clip240)\" d=\"M416.75 207.307 L416.75 234.182 L422.398 234.182 Q429.551 234.182 432.861 230.941 Q436.195 227.701 436.195 220.71 Q436.195 213.766 432.861 210.548 Q429.551 207.307 422.398 207.307 L416.75 207.307 M412.074 203.465 L421.681 203.465 Q431.727 203.465 436.426 207.654 Q441.125 211.821 441.125 220.71 Q441.125 229.645 436.403 233.835 Q431.681 238.025 421.681 238.025 L412.074 238.025 L412.074 203.465 Z\" fill=\"#000000\" fill-rule=\"nonzero\" fill-opacity=\"1\" /><path clip-path=\"url(#clip240)\" d=\"M470.569 223.997 L470.569 226.08 L450.986 226.08 Q451.264 230.478 453.625 232.793 Q456.009 235.085 460.245 235.085 Q462.699 235.085 464.991 234.483 Q467.306 233.881 469.574 232.677 L469.574 236.705 Q467.282 237.677 464.875 238.187 Q462.468 238.696 459.991 238.696 Q453.787 238.696 450.153 235.085 Q446.542 231.474 446.542 225.316 Q446.542 218.951 449.968 215.224 Q453.417 211.474 459.25 211.474 Q464.482 211.474 467.514 214.853 Q470.569 218.21 470.569 223.997 M466.31 222.747 Q466.264 219.252 464.343 217.168 Q462.445 215.085 459.296 215.085 Q455.732 215.085 453.579 217.099 Q451.449 219.113 451.125 222.77 L466.31 222.747 Z\" fill=\"#000000\" fill-rule=\"nonzero\" fill-opacity=\"1\" /><path clip-path=\"url(#clip240)\" d=\"M481.773 204.738 L481.773 212.099 L490.546 212.099 L490.546 215.409 L481.773 215.409 L481.773 229.483 Q481.773 232.654 482.63 233.557 Q483.509 234.46 486.171 234.46 L490.546 234.46 L490.546 238.025 L486.171 238.025 Q481.241 238.025 479.366 236.196 Q477.491 234.344 477.491 229.483 L477.491 215.409 L474.366 215.409 L474.366 212.099 L477.491 212.099 L477.491 204.738 L481.773 204.738 Z\" fill=\"#000000\" fill-rule=\"nonzero\" fill-opacity=\"1\" /><path clip-path=\"url(#clip240)\" d=\"M518.324 223.997 L518.324 226.08 L498.741 226.08 Q499.018 230.478 501.379 232.793 Q503.764 235.085 508 235.085 Q510.454 235.085 512.745 234.483 Q515.06 233.881 517.328 232.677 L517.328 236.705 Q515.037 237.677 512.629 238.187 Q510.222 238.696 507.745 238.696 Q501.542 238.696 497.907 235.085 Q494.296 231.474 494.296 225.316 Q494.296 218.951 497.722 215.224 Q501.171 211.474 507.004 211.474 Q512.236 211.474 515.268 214.853 Q518.324 218.21 518.324 223.997 M514.065 222.747 Q514.018 219.252 512.097 217.168 Q510.199 215.085 507.051 215.085 Q503.486 215.085 501.333 217.099 Q499.204 219.113 498.88 222.77 L514.065 222.747 Z\" fill=\"#000000\" fill-rule=\"nonzero\" fill-opacity=\"1\" /><path clip-path=\"url(#clip240)\" d=\"M540.338 216.08 Q539.62 215.664 538.764 215.478 Q537.93 215.27 536.912 215.27 Q533.301 215.27 531.356 217.631 Q529.435 219.969 529.435 224.367 L529.435 238.025 L525.153 238.025 L525.153 212.099 L529.435 212.099 L529.435 216.127 Q530.777 213.766 532.93 212.631 Q535.083 211.474 538.162 211.474 Q538.602 211.474 539.134 211.543 Q539.666 211.59 540.314 211.705 L540.338 216.08 Z\" fill=\"#000000\" fill-rule=\"nonzero\" fill-opacity=\"1\" /><path clip-path=\"url(#clip240)\" d=\"M564.157 217.076 Q565.754 214.205 567.976 212.84 Q570.199 211.474 573.208 211.474 Q577.259 211.474 579.458 214.321 Q581.657 217.145 581.657 222.377 L581.657 238.025 L577.374 238.025 L577.374 222.515 Q577.374 218.789 576.055 216.983 Q574.736 215.178 572.027 215.178 Q568.717 215.178 566.796 217.377 Q564.875 219.576 564.875 223.372 L564.875 238.025 L560.592 238.025 L560.592 222.515 Q560.592 218.765 559.273 216.983 Q557.953 215.178 555.199 215.178 Q551.935 215.178 550.013 217.4 Q548.092 219.599 548.092 223.372 L548.092 238.025 L543.81 238.025 L543.81 212.099 L548.092 212.099 L548.092 216.127 Q549.551 213.742 551.588 212.608 Q553.625 211.474 556.425 211.474 Q559.25 211.474 561.217 212.909 Q563.208 214.344 564.157 217.076 Z\" fill=\"#000000\" fill-rule=\"nonzero\" fill-opacity=\"1\" /><path clip-path=\"url(#clip240)\" d=\"M590.152 212.099 L594.411 212.099 L594.411 238.025 L590.152 238.025 L590.152 212.099 M590.152 202.006 L594.411 202.006 L594.411 207.4 L590.152 207.4 L590.152 202.006 Z\" fill=\"#000000\" fill-rule=\"nonzero\" fill-opacity=\"1\" /><path clip-path=\"url(#clip240)\" d=\"M624.874 222.377 L624.874 238.025 L620.615 238.025 L620.615 222.515 Q620.615 218.835 619.18 217.006 Q617.745 215.178 614.874 215.178 Q611.425 215.178 609.434 217.377 Q607.444 219.576 607.444 223.372 L607.444 238.025 L603.161 238.025 L603.161 212.099 L607.444 212.099 L607.444 216.127 Q608.972 213.789 611.032 212.631 Q613.115 211.474 615.823 211.474 Q620.291 211.474 622.583 214.252 Q624.874 217.006 624.874 222.377 Z\" fill=\"#000000\" fill-rule=\"nonzero\" fill-opacity=\"1\" /><path clip-path=\"url(#clip240)\" d=\"M633.37 212.099 L637.629 212.099 L637.629 238.025 L633.37 238.025 L633.37 212.099 M633.37 202.006 L637.629 202.006 L637.629 207.4 L633.37 207.4 L633.37 202.006 Z\" fill=\"#000000\" fill-rule=\"nonzero\" fill-opacity=\"1\" /><path clip-path=\"url(#clip240)\" d=\"M663.068 212.863 L663.068 216.891 Q661.263 215.965 659.318 215.502 Q657.374 215.039 655.291 215.039 Q652.119 215.039 650.522 216.011 Q648.948 216.983 648.948 218.928 Q648.948 220.409 650.082 221.265 Q651.217 222.099 654.643 222.863 L656.101 223.187 Q660.638 224.159 662.536 225.941 Q664.457 227.701 664.457 230.872 Q664.457 234.483 661.587 236.589 Q658.74 238.696 653.74 238.696 Q651.656 238.696 649.388 238.279 Q647.143 237.886 644.643 237.076 L644.643 232.677 Q647.004 233.904 649.295 234.529 Q651.587 235.131 653.832 235.131 Q656.842 235.131 658.462 234.113 Q660.082 233.071 660.082 231.196 Q660.082 229.46 658.902 228.534 Q657.744 227.608 653.786 226.752 L652.305 226.404 Q648.346 225.571 646.587 223.858 Q644.828 222.122 644.828 219.113 Q644.828 215.455 647.42 213.465 Q650.013 211.474 654.781 211.474 Q657.143 211.474 659.226 211.821 Q661.309 212.168 663.068 212.863 Z\" fill=\"#000000\" fill-rule=\"nonzero\" fill-opacity=\"1\" /><path clip-path=\"url(#clip240)\" d=\"M675.453 204.738 L675.453 212.099 L684.226 212.099 L684.226 215.409 L675.453 215.409 L675.453 229.483 Q675.453 232.654 676.309 233.557 Q677.189 234.46 679.851 234.46 L684.226 234.46 L684.226 238.025 L679.851 238.025 Q674.92 238.025 673.045 236.196 Q671.17 234.344 671.17 229.483 L671.17 215.409 L668.045 215.409 L668.045 212.099 L671.17 212.099 L671.17 204.738 L675.453 204.738 Z\" fill=\"#000000\" fill-rule=\"nonzero\" fill-opacity=\"1\" /><path clip-path=\"url(#clip240)\" d=\"M689.828 212.099 L694.087 212.099 L694.087 238.025 L689.828 238.025 L689.828 212.099 M689.828 202.006 L694.087 202.006 L694.087 207.4 L689.828 207.4 L689.828 202.006 Z\" fill=\"#000000\" fill-rule=\"nonzero\" fill-opacity=\"1\" /><path clip-path=\"url(#clip240)\" d=\"M721.656 213.094 L721.656 217.076 Q719.851 216.08 718.022 215.594 Q716.216 215.085 714.364 215.085 Q710.221 215.085 707.929 217.724 Q705.638 220.34 705.638 225.085 Q705.638 229.83 707.929 232.469 Q710.221 235.085 714.364 235.085 Q716.216 235.085 718.022 234.599 Q719.851 234.089 721.656 233.094 L721.656 237.029 Q719.874 237.863 717.952 238.279 Q716.054 238.696 713.902 238.696 Q708.045 238.696 704.596 235.015 Q701.147 231.335 701.147 225.085 Q701.147 218.742 704.619 215.108 Q708.114 211.474 714.179 211.474 Q716.147 211.474 718.022 211.891 Q719.897 212.284 721.656 213.094 Z\" fill=\"#000000\" fill-rule=\"nonzero\" fill-opacity=\"1\" /><polyline clip-path=\"url(#clip240)\" style=\"stroke:#e26f46; stroke-linecap:round; stroke-linejoin:round; stroke-width:12; stroke-opacity:1; fill:none\" points=\"240.115,272.585 387.509,272.585 \"/>\n",
       "<path clip-path=\"url(#clip240)\" d=\"M434.32 256.439 L434.32 260.999 Q431.658 259.726 429.297 259.101 Q426.935 258.476 424.736 258.476 Q420.917 258.476 418.834 259.957 Q416.773 261.439 416.773 264.17 Q416.773 266.462 418.139 267.643 Q419.528 268.8 423.371 269.518 L426.195 270.096 Q431.426 271.092 433.903 273.615 Q436.403 276.115 436.403 280.328 Q436.403 285.351 433.023 287.943 Q429.667 290.536 423.162 290.536 Q420.709 290.536 417.931 289.98 Q415.176 289.425 412.213 288.337 L412.213 283.522 Q415.061 285.119 417.792 285.929 Q420.523 286.74 423.162 286.74 Q427.167 286.74 429.343 285.166 Q431.519 283.592 431.519 280.675 Q431.519 278.129 429.945 276.693 Q428.394 275.258 424.829 274.541 L421.982 273.985 Q416.75 272.943 414.412 270.721 Q412.074 268.499 412.074 264.541 Q412.074 259.957 415.292 257.319 Q418.533 254.68 424.204 254.68 Q426.635 254.68 429.158 255.119 Q431.681 255.559 434.32 256.439 Z\" fill=\"#000000\" fill-rule=\"nonzero\" fill-opacity=\"1\" /><path clip-path=\"url(#clip240)\" d=\"M447.722 256.578 L447.722 263.939 L456.495 263.939 L456.495 267.249 L447.722 267.249 L447.722 281.323 Q447.722 284.494 448.579 285.397 Q449.458 286.3 452.12 286.3 L456.495 286.3 L456.495 289.865 L452.12 289.865 Q447.19 289.865 445.315 288.036 Q443.44 286.184 443.44 281.323 L443.44 267.249 L440.315 267.249 L440.315 263.939 L443.44 263.939 L443.44 256.578 L447.722 256.578 Z\" fill=\"#000000\" fill-rule=\"nonzero\" fill-opacity=\"1\" /><path clip-path=\"url(#clip240)\" d=\"M472.144 266.925 Q468.718 266.925 466.727 269.61 Q464.736 272.272 464.736 276.925 Q464.736 281.578 466.704 284.263 Q468.694 286.925 472.144 286.925 Q475.546 286.925 477.537 284.24 Q479.528 281.555 479.528 276.925 Q479.528 272.318 477.537 269.633 Q475.546 266.925 472.144 266.925 M472.144 263.314 Q477.699 263.314 480.87 266.925 Q484.042 270.536 484.042 276.925 Q484.042 283.291 480.87 286.925 Q477.699 290.536 472.144 290.536 Q466.565 290.536 463.394 286.925 Q460.245 283.291 460.245 276.925 Q460.245 270.536 463.394 266.925 Q466.565 263.314 472.144 263.314 Z\" fill=\"#000000\" fill-rule=\"nonzero\" fill-opacity=\"1\" /><path clip-path=\"url(#clip240)\" d=\"M509.759 264.934 L509.759 268.916 Q507.954 267.92 506.125 267.434 Q504.319 266.925 502.467 266.925 Q498.324 266.925 496.032 269.564 Q493.741 272.18 493.741 276.925 Q493.741 281.67 496.032 284.309 Q498.324 286.925 502.467 286.925 Q504.319 286.925 506.125 286.439 Q507.954 285.929 509.759 284.934 L509.759 288.869 Q507.977 289.703 506.055 290.119 Q504.157 290.536 502.004 290.536 Q496.148 290.536 492.699 286.855 Q489.25 283.175 489.25 276.925 Q489.25 270.582 492.722 266.948 Q496.217 263.314 502.282 263.314 Q504.25 263.314 506.125 263.731 Q508 264.124 509.759 264.934 Z\" fill=\"#000000\" fill-rule=\"nonzero\" fill-opacity=\"1\" /><path clip-path=\"url(#clip240)\" d=\"M538.717 274.217 L538.717 289.865 L534.458 289.865 L534.458 274.355 Q534.458 270.675 533.023 268.846 Q531.588 267.018 528.717 267.018 Q525.268 267.018 523.278 269.217 Q521.287 271.416 521.287 275.212 L521.287 289.865 L517.004 289.865 L517.004 253.846 L521.287 253.846 L521.287 267.967 Q522.815 265.629 524.875 264.471 Q526.958 263.314 529.666 263.314 Q534.134 263.314 536.426 266.092 Q538.717 268.846 538.717 274.217 Z\" fill=\"#000000\" fill-rule=\"nonzero\" fill-opacity=\"1\" /><path clip-path=\"url(#clip240)\" d=\"M558.995 276.832 Q553.833 276.832 551.842 278.013 Q549.851 279.193 549.851 282.041 Q549.851 284.309 551.333 285.652 Q552.838 286.971 555.407 286.971 Q558.949 286.971 561.078 284.471 Q563.231 281.948 563.231 277.781 L563.231 276.832 L558.995 276.832 M567.49 275.073 L567.49 289.865 L563.231 289.865 L563.231 285.929 Q561.773 288.291 559.597 289.425 Q557.421 290.536 554.273 290.536 Q550.291 290.536 547.93 288.314 Q545.592 286.068 545.592 282.318 Q545.592 277.943 548.509 275.721 Q551.449 273.499 557.259 273.499 L563.231 273.499 L563.231 273.082 Q563.231 270.143 561.287 268.545 Q559.365 266.925 555.87 266.925 Q553.648 266.925 551.541 267.457 Q549.435 267.99 547.49 269.055 L547.49 265.119 Q549.828 264.217 552.027 263.777 Q554.226 263.314 556.31 263.314 Q561.935 263.314 564.712 266.231 Q567.49 269.147 567.49 275.073 Z\" fill=\"#000000\" fill-rule=\"nonzero\" fill-opacity=\"1\" /><path clip-path=\"url(#clip240)\" d=\"M592.791 264.703 L592.791 268.731 Q590.985 267.805 589.041 267.342 Q587.097 266.879 585.013 266.879 Q581.842 266.879 580.245 267.851 Q578.671 268.823 578.671 270.768 Q578.671 272.249 579.805 273.105 Q580.939 273.939 584.365 274.703 L585.823 275.027 Q590.36 275.999 592.259 277.781 Q594.18 279.541 594.18 282.712 Q594.18 286.323 591.31 288.429 Q588.462 290.536 583.462 290.536 Q581.379 290.536 579.111 290.119 Q576.865 289.726 574.365 288.916 L574.365 284.517 Q576.726 285.744 579.018 286.369 Q581.31 286.971 583.555 286.971 Q586.564 286.971 588.185 285.953 Q589.805 284.911 589.805 283.036 Q589.805 281.3 588.624 280.374 Q587.467 279.448 583.509 278.592 L582.027 278.244 Q578.069 277.411 576.31 275.698 Q574.55 273.962 574.55 270.953 Q574.55 267.295 577.143 265.305 Q579.736 263.314 584.504 263.314 Q586.865 263.314 588.948 263.661 Q591.032 264.008 592.791 264.703 Z\" fill=\"#000000\" fill-rule=\"nonzero\" fill-opacity=\"1\" /><path clip-path=\"url(#clip240)\" d=\"M605.175 256.578 L605.175 263.939 L613.948 263.939 L613.948 267.249 L605.175 267.249 L605.175 281.323 Q605.175 284.494 606.032 285.397 Q606.911 286.3 609.573 286.3 L613.948 286.3 L613.948 289.865 L609.573 289.865 Q604.643 289.865 602.768 288.036 Q600.893 286.184 600.893 281.323 L600.893 267.249 L597.768 267.249 L597.768 263.939 L600.893 263.939 L600.893 256.578 L605.175 256.578 Z\" fill=\"#000000\" fill-rule=\"nonzero\" fill-opacity=\"1\" /><path clip-path=\"url(#clip240)\" d=\"M619.55 263.939 L623.809 263.939 L623.809 289.865 L619.55 289.865 L619.55 263.939 M619.55 253.846 L623.809 253.846 L623.809 259.24 L619.55 259.24 L619.55 253.846 Z\" fill=\"#000000\" fill-rule=\"nonzero\" fill-opacity=\"1\" /><path clip-path=\"url(#clip240)\" d=\"M651.379 264.934 L651.379 268.916 Q649.573 267.92 647.744 267.434 Q645.939 266.925 644.087 266.925 Q639.944 266.925 637.652 269.564 Q635.36 272.18 635.36 276.925 Q635.36 281.67 637.652 284.309 Q639.944 286.925 644.087 286.925 Q645.939 286.925 647.744 286.439 Q649.573 285.929 651.379 284.934 L651.379 288.869 Q649.596 289.703 647.675 290.119 Q645.777 290.536 643.624 290.536 Q637.768 290.536 634.319 286.855 Q630.87 283.175 630.87 276.925 Q630.87 270.582 634.342 266.948 Q637.837 263.314 643.902 263.314 Q645.869 263.314 647.744 263.731 Q649.619 264.124 651.379 264.934 Z\" fill=\"#000000\" fill-rule=\"nonzero\" fill-opacity=\"1\" /></svg>\n"
      ]
     },
     "execution_count": 15,
     "metadata": {},
     "output_type": "execute_result"
    }
   ],
   "source": [
    "# Données\n",
    "Abar=10*ones(m,n)+1*randn(m,n);\n",
    "bbar=10*randn(m,1);\n",
    "\n",
    "# x_0\n",
    "xd = zeros(n,1); # résolution déterministe\n",
    "xs = xd;  # résolution stochastique\n",
    "\n",
    "# Bruit et echantillon\n",
    "M  = 100;\n",
    "noise  = 4;\n",
    "\n",
    "#Nombre d'itérations\n",
    "niter=100;\n",
    "\n",
    "j = 0;\n",
    "\n",
    "\n",
    "fbesttd=[]; # f_{best} pour chaque expériences dans le cas d'une résolution déterministe\n",
    "fbestts=[]; # f_{best} pour chaque expériences dans le cas d'une résolution stochastique\n",
    "\n",
    "for nexp=1:20\n",
    "    # Répétition des expériences\n",
    "    fbestd =1e10; # $f_{best}^0$: cas d'une résolution déterministe\n",
    "    fbests =1e10; # $f_{best}^0$: cas d'une résolution stochastique    \n",
    "    # Insérer votre code\n",
    "    itermax = niter\n",
    "    xd = zeros(n,1); \n",
    "    xs = xd;\n",
    "    i=0\n",
    "    while i < itermax\n",
    "        i = i + 1\n",
    "        ak = 1/(i)\n",
    "        #resolution deterministe\n",
    "        xd = xd - ak*subgrad(Abar,bbar,xd);\n",
    "        fxd = fvals(Abar,bbar,noise,xd,M)   \n",
    "        if (fxd < fbestd) \n",
    "            fbestd = fxd\n",
    "        end\n",
    "        #résolution stochastique\n",
    "        xs = xs - ak*(subgrads(Abar,bbar,noise,xs,M))\n",
    "        fxs = fvals(Abar,bbar,noise,xs,M) \n",
    "        if (fxs < fbests)\n",
    "            fbests = fxs\n",
    "        end\n",
    "    end\n",
    "    append!(fbesttd,fbestd)\n",
    "    append!(fbestts,fbests)\n",
    "# Fin insérer code\n",
    "end\n",
    "\n",
    "#Affichage\n",
    "\n",
    "iter=1:20;\n",
    "hf=[fbesttd,fbestts];\n",
    "\n",
    "plot(iter,hf,title=\"Convergence curves\",label=[\"Deterministic\" \"Stochastic\"],lw=3)"
   ]
  },
  {
   "cell_type": "code",
   "execution_count": 16,
   "metadata": {},
   "outputs": [
    {
     "name": "stdout",
     "output_type": "stream",
     "text": [
      "La meilleur valeur de f_best après 20 itérations est: \n",
      "Deterministe: 54.50835567296926\n",
      "Stochastique: 30.35458969451853\n"
     ]
    }
   ],
   "source": [
    "print(\"La meilleur valeur de f_best après 20 itérations est: \")\n",
    "print('\\n')\n",
    "println(\"Deterministe: \" * string(findmin(fbesttd)[1]))\n",
    "println(\"Stochastique: \" * string(findmin(fbestts)[1]))"
   ]
  },
  {
   "cell_type": "markdown",
   "metadata": {},
   "source": [
    "On remarque qu'il y a un gap entre la méthode stochastique et la méthode déterministe. Ainsi l'approximation faite à la question 6 ne permet pas d'approcher rellement le minimum."
   ]
  },
  {
   "cell_type": "code",
   "execution_count": null,
   "metadata": {},
   "outputs": [],
   "source": []
  }
 ],
 "metadata": {
  "anaconda-cloud": {},
  "celltoolbar": "Slideshow",
  "kernelspec": {
   "display_name": "Julia 1.8.1",
   "language": "julia",
   "name": "julia-1.8"
  },
  "language_info": {
   "file_extension": ".jl",
   "mimetype": "application/julia",
   "name": "julia",
   "version": "1.8.1"
  },
  "widgets": {
   "application/vnd.jupyter.widget-state+json": {
    "state": {},
    "version_major": 2,
    "version_minor": 0
   }
  }
 },
 "nbformat": 4,
 "nbformat_minor": 4
}
