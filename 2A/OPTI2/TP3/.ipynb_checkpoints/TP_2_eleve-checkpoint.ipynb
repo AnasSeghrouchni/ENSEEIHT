{
 "cells": [
  {
   "cell_type": "markdown",
   "metadata": {
    "slideshow": {
     "slide_type": "slide"
    }
   },
   "source": [
    "## Méthodes d'optimisation stochastique\n",
    "\n",
    "## I. Minimisation stochastique d'une fonction déterministe\n"
   ]
  },
  {
   "cell_type": "markdown",
   "metadata": {
    "slideshow": {
     "slide_type": "subslide"
    }
   },
   "source": [
    "On s'intéresse au problème $\\min f(x) =\\max_{i=1\\dots m}|a_i^Tx-b_i | = \\max_{i=1\\dots m} |(Ax-b)_i|.$ \n",
    "\n",
    "On suppose que $a_i$ est un vecteur colonne représentant la $i$eme ligne d'une matrice $A$ de taille $m \\times n$ ($m=100, n=20$) , et les $b_i$ sont les composantes d'un second membre $b$ de taille $m$, ($1 \\le i \\le m$), $x$ un vecteur de taille $n$. Ces quantités sont générées une fois pour toutes à partir de distributions Gaussiennes de moyenne nulle et d'écart type identité.\n",
    "\n",
    "**Question 1 :** Constuire $A$ et $b$. Proposer le calcul d'un sous-gradient en $x$ de $f$. On pourra utiliser la fonction findmax de Julia. \n"
   ]
  },
  {
   "cell_type": "code",
   "execution_count": 1,
   "metadata": {},
   "outputs": [
    {
     "name": "stdout",
     "output_type": "stream",
     "text": [
      "search: \u001b[0m\u001b[1mf\u001b[22m\u001b[0m\u001b[1mi\u001b[22m\u001b[0m\u001b[1mn\u001b[22m\u001b[0m\u001b[1md\u001b[22m\u001b[0m\u001b[1mm\u001b[22m\u001b[0m\u001b[1ma\u001b[22m\u001b[0m\u001b[1mx\u001b[22m \u001b[0m\u001b[1mf\u001b[22m\u001b[0m\u001b[1mi\u001b[22m\u001b[0m\u001b[1mn\u001b[22m\u001b[0m\u001b[1md\u001b[22m\u001b[0m\u001b[1mm\u001b[22m\u001b[0m\u001b[1ma\u001b[22m\u001b[0m\u001b[1mx\u001b[22m! \u001b[0m\u001b[1mf\u001b[22m\u001b[0m\u001b[1mi\u001b[22m\u001b[0m\u001b[1mn\u001b[22m\u001b[0m\u001b[1md\u001b[22m\u001b[0m\u001b[1mm\u001b[22min \u001b[0m\u001b[1mf\u001b[22m\u001b[0m\u001b[1mi\u001b[22m\u001b[0m\u001b[1mn\u001b[22m\u001b[0m\u001b[1md\u001b[22m\u001b[0m\u001b[1mm\u001b[22min!\n",
      "\n"
     ]
    },
    {
     "data": {
      "text/latex": [
       "\\begin{verbatim}\n",
       "findmax(f, domain) -> (f(x), index)\n",
       "\\end{verbatim}\n",
       "Returns a pair of a value in the codomain (outputs of \\texttt{f}) and the index of the corresponding value in the \\texttt{domain} (inputs to \\texttt{f}) such that \\texttt{f(x)} is maximised. If there are multiple maximal points, then the first one will be returned.\n",
       "\n",
       "\\texttt{domain} must be a non-empty iterable.\n",
       "\n",
       "Values are compared with \\texttt{isless}.\n",
       "\n",
       "\\begin{quote}\n",
       "\\textbf{compat}\n",
       "\n",
       "Julia 1.7\n",
       "\n",
       "This method requires Julia 1.7 or later.\n",
       "\n",
       "\\end{quote}\n",
       "\\section{Examples}\n",
       "\\begin{verbatim}\n",
       "julia> findmax(identity, 5:9)\n",
       "(9, 5)\n",
       "\n",
       "julia> findmax(-, 1:10)\n",
       "(-1, 1)\n",
       "\n",
       "julia> findmax(first, [(1, :a), (3, :b), (3, :c)])\n",
       "(3, 2)\n",
       "\n",
       "julia> findmax(cos, 0:π/2:2π)\n",
       "(1.0, 1)\n",
       "\\end{verbatim}\n",
       "\\rule{\\textwidth}{1pt}\n",
       "\\begin{verbatim}\n",
       "findmax(itr) -> (x, index)\n",
       "\\end{verbatim}\n",
       "Return the maximal element of the collection \\texttt{itr} and its index or key. If there are multiple maximal elements, then the first one will be returned. Values are compared with \\texttt{isless}.\n",
       "\n",
       "See also: \\href{@ref}{\\texttt{findmin}}, \\href{@ref}{\\texttt{argmax}}, \\href{@ref}{\\texttt{maximum}}.\n",
       "\n",
       "\\section{Examples}\n",
       "\\begin{verbatim}\n",
       "julia> findmax([8, 0.1, -9, pi])\n",
       "(8.0, 1)\n",
       "\n",
       "julia> findmax([1, 7, 7, 6])\n",
       "(7, 2)\n",
       "\n",
       "julia> findmax([1, 7, 7, NaN])\n",
       "(NaN, 4)\n",
       "\\end{verbatim}\n",
       "\\rule{\\textwidth}{1pt}\n",
       "\\begin{verbatim}\n",
       "findmax(A; dims) -> (maxval, index)\n",
       "\\end{verbatim}\n",
       "For an array input, returns the value and index of the maximum over the given dimensions. \\texttt{NaN} is treated as greater than all other values except \\texttt{missing}.\n",
       "\n",
       "\\section{Examples}\n",
       "\\begin{verbatim}\n",
       "julia> A = [1.0 2; 3 4]\n",
       "2×2 Matrix{Float64}:\n",
       " 1.0  2.0\n",
       " 3.0  4.0\n",
       "\n",
       "julia> findmax(A, dims=1)\n",
       "([3.0 4.0], CartesianIndex{2}[CartesianIndex(2, 1) CartesianIndex(2, 2)])\n",
       "\n",
       "julia> findmax(A, dims=2)\n",
       "([2.0; 4.0;;], CartesianIndex{2}[CartesianIndex(1, 2); CartesianIndex(2, 2);;])\n",
       "\\end{verbatim}\n"
      ],
      "text/markdown": [
       "```\n",
       "findmax(f, domain) -> (f(x), index)\n",
       "```\n",
       "\n",
       "Returns a pair of a value in the codomain (outputs of `f`) and the index of the corresponding value in the `domain` (inputs to `f`) such that `f(x)` is maximised. If there are multiple maximal points, then the first one will be returned.\n",
       "\n",
       "`domain` must be a non-empty iterable.\n",
       "\n",
       "Values are compared with `isless`.\n",
       "\n",
       "!!! compat \"Julia 1.7\"\n",
       "    This method requires Julia 1.7 or later.\n",
       "\n",
       "\n",
       "# Examples\n",
       "\n",
       "```jldoctest\n",
       "julia> findmax(identity, 5:9)\n",
       "(9, 5)\n",
       "\n",
       "julia> findmax(-, 1:10)\n",
       "(-1, 1)\n",
       "\n",
       "julia> findmax(first, [(1, :a), (3, :b), (3, :c)])\n",
       "(3, 2)\n",
       "\n",
       "julia> findmax(cos, 0:π/2:2π)\n",
       "(1.0, 1)\n",
       "```\n",
       "\n",
       "---\n",
       "\n",
       "```\n",
       "findmax(itr) -> (x, index)\n",
       "```\n",
       "\n",
       "Return the maximal element of the collection `itr` and its index or key. If there are multiple maximal elements, then the first one will be returned. Values are compared with `isless`.\n",
       "\n",
       "See also: [`findmin`](@ref), [`argmax`](@ref), [`maximum`](@ref).\n",
       "\n",
       "# Examples\n",
       "\n",
       "```jldoctest\n",
       "julia> findmax([8, 0.1, -9, pi])\n",
       "(8.0, 1)\n",
       "\n",
       "julia> findmax([1, 7, 7, 6])\n",
       "(7, 2)\n",
       "\n",
       "julia> findmax([1, 7, 7, NaN])\n",
       "(NaN, 4)\n",
       "```\n",
       "\n",
       "---\n",
       "\n",
       "```\n",
       "findmax(A; dims) -> (maxval, index)\n",
       "```\n",
       "\n",
       "For an array input, returns the value and index of the maximum over the given dimensions. `NaN` is treated as greater than all other values except `missing`.\n",
       "\n",
       "# Examples\n",
       "\n",
       "```jldoctest\n",
       "julia> A = [1.0 2; 3 4]\n",
       "2×2 Matrix{Float64}:\n",
       " 1.0  2.0\n",
       " 3.0  4.0\n",
       "\n",
       "julia> findmax(A, dims=1)\n",
       "([3.0 4.0], CartesianIndex{2}[CartesianIndex(2, 1) CartesianIndex(2, 2)])\n",
       "\n",
       "julia> findmax(A, dims=2)\n",
       "([2.0; 4.0;;], CartesianIndex{2}[CartesianIndex(1, 2); CartesianIndex(2, 2);;])\n",
       "```\n"
      ],
      "text/plain": [
       "\u001b[36m  findmax(f, domain) -> (f(x), index)\u001b[39m\n",
       "\n",
       "  Returns a pair of a value in the codomain (outputs of \u001b[36mf\u001b[39m) and the index of\n",
       "  the corresponding value in the \u001b[36mdomain\u001b[39m (inputs to \u001b[36mf\u001b[39m) such that \u001b[36mf(x)\u001b[39m is\n",
       "  maximised. If there are multiple maximal points, then the first one will be\n",
       "  returned.\n",
       "\n",
       "  \u001b[36mdomain\u001b[39m must be a non-empty iterable.\n",
       "\n",
       "  Values are compared with \u001b[36misless\u001b[39m.\n",
       "\n",
       "\u001b[39m\u001b[1m  │ \u001b[22m\u001b[39m\u001b[1mJulia 1.7\u001b[22m\n",
       "\u001b[39m\u001b[1m  │\u001b[22m\n",
       "\u001b[39m\u001b[1m  │\u001b[22m  This method requires Julia 1.7 or later.\n",
       "\n",
       "\u001b[1m  Examples\u001b[22m\n",
       "\u001b[1m  ≡≡≡≡≡≡≡≡≡≡\u001b[22m\n",
       "\n",
       "\u001b[36m  julia> findmax(identity, 5:9)\u001b[39m\n",
       "\u001b[36m  (9, 5)\u001b[39m\n",
       "\u001b[36m  \u001b[39m\n",
       "\u001b[36m  julia> findmax(-, 1:10)\u001b[39m\n",
       "\u001b[36m  (-1, 1)\u001b[39m\n",
       "\u001b[36m  \u001b[39m\n",
       "\u001b[36m  julia> findmax(first, [(1, :a), (3, :b), (3, :c)])\u001b[39m\n",
       "\u001b[36m  (3, 2)\u001b[39m\n",
       "\u001b[36m  \u001b[39m\n",
       "\u001b[36m  julia> findmax(cos, 0:π/2:2π)\u001b[39m\n",
       "\u001b[36m  (1.0, 1)\u001b[39m\n",
       "\n",
       "  ────────────────────────────────────────────────────────────────────────────\n",
       "\n",
       "\u001b[36m  findmax(itr) -> (x, index)\u001b[39m\n",
       "\n",
       "  Return the maximal element of the collection \u001b[36mitr\u001b[39m and its index or key. If\n",
       "  there are multiple maximal elements, then the first one will be returned.\n",
       "  Values are compared with \u001b[36misless\u001b[39m.\n",
       "\n",
       "  See also: \u001b[36mfindmin\u001b[39m, \u001b[36margmax\u001b[39m, \u001b[36mmaximum\u001b[39m.\n",
       "\n",
       "\u001b[1m  Examples\u001b[22m\n",
       "\u001b[1m  ≡≡≡≡≡≡≡≡≡≡\u001b[22m\n",
       "\n",
       "\u001b[36m  julia> findmax([8, 0.1, -9, pi])\u001b[39m\n",
       "\u001b[36m  (8.0, 1)\u001b[39m\n",
       "\u001b[36m  \u001b[39m\n",
       "\u001b[36m  julia> findmax([1, 7, 7, 6])\u001b[39m\n",
       "\u001b[36m  (7, 2)\u001b[39m\n",
       "\u001b[36m  \u001b[39m\n",
       "\u001b[36m  julia> findmax([1, 7, 7, NaN])\u001b[39m\n",
       "\u001b[36m  (NaN, 4)\u001b[39m\n",
       "\n",
       "  ────────────────────────────────────────────────────────────────────────────\n",
       "\n",
       "\u001b[36m  findmax(A; dims) -> (maxval, index)\u001b[39m\n",
       "\n",
       "  For an array input, returns the value and index of the maximum over the\n",
       "  given dimensions. \u001b[36mNaN\u001b[39m is treated as greater than all other values except\n",
       "  \u001b[36mmissing\u001b[39m.\n",
       "\n",
       "\u001b[1m  Examples\u001b[22m\n",
       "\u001b[1m  ≡≡≡≡≡≡≡≡≡≡\u001b[22m\n",
       "\n",
       "\u001b[36m  julia> A = [1.0 2; 3 4]\u001b[39m\n",
       "\u001b[36m  2×2 Matrix{Float64}:\u001b[39m\n",
       "\u001b[36m   1.0  2.0\u001b[39m\n",
       "\u001b[36m   3.0  4.0\u001b[39m\n",
       "\u001b[36m  \u001b[39m\n",
       "\u001b[36m  julia> findmax(A, dims=1)\u001b[39m\n",
       "\u001b[36m  ([3.0 4.0], CartesianIndex{2}[CartesianIndex(2, 1) CartesianIndex(2, 2)])\u001b[39m\n",
       "\u001b[36m  \u001b[39m\n",
       "\u001b[36m  julia> findmax(A, dims=2)\u001b[39m\n",
       "\u001b[36m  ([2.0; 4.0;;], CartesianIndex{2}[CartesianIndex(1, 2); CartesianIndex(2, 2);;])\u001b[39m"
      ]
     },
     "execution_count": 1,
     "metadata": {},
     "output_type": "execute_result"
    }
   ],
   "source": [
    "?findmax"
   ]
  },
  {
   "cell_type": "code",
   "execution_count": 2,
   "metadata": {
    "slideshow": {
     "slide_type": "slide"
    }
   },
   "outputs": [
    {
     "data": {
      "text/plain": [
       "subgrad (generic function with 1 method)"
      ]
     },
     "execution_count": 2,
     "metadata": {},
     "output_type": "execute_result"
    }
   ],
   "source": [
    "using Random\n",
    "using Statistics\n",
    "# Construction des données A  et b\n",
    "# Insérer votre code\n",
    "\n",
    "m = 100;\n",
    "n = 20;\n",
    "A = randn(m,n);\n",
    "b = randn(m,1);\n",
    "x = randn(n,1)\n",
    "# Fin insérer code\n",
    "\n",
    "# Fonction calculant un sous-gradient en x de f\n",
    "function subgrad(A,b,x) \n",
    "    # Insérer votre code\n",
    "    fx = A*x - b;\n",
    "    (max,ind) = findmax(abs.(fx));\n",
    "    i = ind[1]\n",
    "    return (sign(fx[i]))*A[i,:];\n",
    "    # Fin insérer code\n",
    "end"
   ]
  },
  {
   "cell_type": "markdown",
   "metadata": {},
   "source": [
    "**Question 2 :** Ce problème peut se reformuler comme un problème de programmation linéaire : $$(\\mathcal{P}_{lp})\\quad \\left\\{ \\begin{array}{c} \\min_{(x,R)\\in \\mathbb{R}^n\\times \\mathbb{R}} h(x,R)=R\\\\\n",
    "s.c. \\quad-R*e\\leq A*x-b\\leq R*e\\end{array}\\right.$$ avec $e=[1,\\cdots,1]^T\\in \\mathbb{R}^m$. Résoudre le problème $(\\mathcal{P}_{lp})$ en utilisant le solveur \"GLPK\" de la librairie JuMP. Plus d'informations sont disponibles ici :  http://www.juliaopt.org/JuMP.jl/latest/quickstart/"
   ]
  },
  {
   "cell_type": "code",
   "execution_count": 3,
   "metadata": {
    "scrolled": false,
    "slideshow": {
     "slide_type": "subslide"
    }
   },
   "outputs": [
    {
     "name": "stdout",
     "output_type": "stream",
     "text": [
      "The function value at the solution is: 1.6953636619688368 or 1.695363661968839\n"
     ]
    }
   ],
   "source": [
    "using JuMP\n",
    "using GLPK\n",
    "\n",
    "# Définition du modèle\n",
    "# Insérer votre code\n",
    "\n",
    "model = Model(GLPK.Optimizer)\n",
    "# Fin insérer code\n",
    "\n",
    "# Définition des variables d'optimisation\n",
    "# Insérer votre code\n",
    "@variable(model, x[1:n]);\n",
    "@variable(model, R);\n",
    "\n",
    "\n",
    "# Fin insérer code\n",
    "\n",
    "# Définition de la fonctionnelle à minimiser\n",
    "#Insérer votre code\n",
    "\n",
    "@objective(model, Min, R);\n",
    "\n",
    "# Fin insérer code\n",
    "\n",
    "# Définition des contraintes\n",
    "# Insérer votre code\n",
    "\n",
    "@constraint(model, c1[i=1:m], R >= (sum(A[i,j]*x[j] for j in 1:n) - b[i]));\n",
    "@constraint(model, c2[i=1:m], -R <= (sum(A[i,j]*x[j] for j in 1:n) - b[i]));\n",
    "\n",
    "#for i=1:m\n",
    "#    @constraint(model, sum(A[i,j]*x[j] for j in 1:n) - b[i] - R <= 0);\n",
    "#    @constraint(model, sum(A[i,j]*x[j] for j in 1:n) - b[i] + R >= 0);\n",
    "#end\n",
    "# Fin insérer code\n",
    "        \n",
    "# Résolution        \n",
    "# Insérer votre code\n",
    "\n",
    "optimize!(model);\n",
    "\n",
    "\n",
    "# Fin insérer code\n",
    "        \n",
    "# Résultats à optimalité                \n",
    "# Insérer votre code\n",
    "xstar = value.(x); \n",
    "Rstar = value.(R);\n",
    "\n",
    "# Fin insérer code\n",
    "println(\"The function value at the solution is: \",Rstar, \" or \",findmax(abs.(A*xstar-b))[1])"
   ]
  },
  {
   "cell_type": "markdown",
   "metadata": {},
   "source": [
    "**Question 3 :** Résoudre le problème en utilisant un algorithme de sous-gradient. Dans un premier temps vous utiliserez un sous-gradient exact (Question 1), puis vous introduirez un bruit artificiel qui suit une distribution normale de moyenne nulle et d'écart-type $3 e-1$.\n",
    "\n",
    "**Question 4 :** Vous afficherez les courbes de convergence de $f_{best}^k-f_{star}$, avec $f_{star}$ obtenue à la Question 1. Donnez la valeur minimale de $f_{best}^k-f_{star}$."
   ]
  },
  {
   "cell_type": "code",
   "execution_count": 4,
   "metadata": {
    "scrolled": false
   },
   "outputs": [
    {
     "data": {
      "image/svg+xml": [
       "<?xml version=\"1.0\" encoding=\"utf-8\"?>\n",
       "<svg xmlns=\"http://www.w3.org/2000/svg\" xmlns:xlink=\"http://www.w3.org/1999/xlink\" width=\"600\" height=\"400\" viewBox=\"0 0 2400 1600\">\n",
       "<defs>\n",
       "  <clipPath id=\"clip520\">\n",
       "    <rect x=\"0\" y=\"0\" width=\"2400\" height=\"1600\"/>\n",
       "  </clipPath>\n",
       "</defs>\n",
       "<path clip-path=\"url(#clip520)\" d=\"M0 1600 L2400 1600 L2400 0 L0 0  Z\" fill=\"#ffffff\" fill-rule=\"evenodd\" fill-opacity=\"1\"/>\n",
       "<defs>\n",
       "  <clipPath id=\"clip521\">\n",
       "    <rect x=\"480\" y=\"0\" width=\"1681\" height=\"1600\"/>\n",
       "  </clipPath>\n",
       "</defs>\n",
       "<path clip-path=\"url(#clip520)\" d=\"M156.506 1486.45 L2352.76 1486.45 L2352.76 123.472 L156.506 123.472  Z\" fill=\"#ffffff\" fill-rule=\"evenodd\" fill-opacity=\"1\"/>\n",
       "<defs>\n",
       "  <clipPath id=\"clip522\">\n",
       "    <rect x=\"156\" y=\"123\" width=\"2197\" height=\"1364\"/>\n",
       "  </clipPath>\n",
       "</defs>\n",
       "<polyline clip-path=\"url(#clip522)\" style=\"stroke:#000000; stroke-linecap:round; stroke-linejoin:round; stroke-width:2; stroke-opacity:0.1; fill:none\" points=\"197.735,1486.45 197.735,123.472 \"/>\n",
       "<polyline clip-path=\"url(#clip522)\" style=\"stroke:#000000; stroke-linecap:round; stroke-linejoin:round; stroke-width:2; stroke-opacity:0.1; fill:none\" points=\"720.951,1486.45 720.951,123.472 \"/>\n",
       "<polyline clip-path=\"url(#clip522)\" style=\"stroke:#000000; stroke-linecap:round; stroke-linejoin:round; stroke-width:2; stroke-opacity:0.1; fill:none\" points=\"1244.17,1486.45 1244.17,123.472 \"/>\n",
       "<polyline clip-path=\"url(#clip522)\" style=\"stroke:#000000; stroke-linecap:round; stroke-linejoin:round; stroke-width:2; stroke-opacity:0.1; fill:none\" points=\"1767.38,1486.45 1767.38,123.472 \"/>\n",
       "<polyline clip-path=\"url(#clip522)\" style=\"stroke:#000000; stroke-linecap:round; stroke-linejoin:round; stroke-width:2; stroke-opacity:0.1; fill:none\" points=\"2290.6,1486.45 2290.6,123.472 \"/>\n",
       "<polyline clip-path=\"url(#clip520)\" style=\"stroke:#000000; stroke-linecap:round; stroke-linejoin:round; stroke-width:4; stroke-opacity:1; fill:none\" points=\"156.506,1486.45 2352.76,1486.45 \"/>\n",
       "<polyline clip-path=\"url(#clip520)\" style=\"stroke:#000000; stroke-linecap:round; stroke-linejoin:round; stroke-width:4; stroke-opacity:1; fill:none\" points=\"197.735,1486.45 197.735,1467.55 \"/>\n",
       "<polyline clip-path=\"url(#clip520)\" style=\"stroke:#000000; stroke-linecap:round; stroke-linejoin:round; stroke-width:4; stroke-opacity:1; fill:none\" points=\"720.951,1486.45 720.951,1467.55 \"/>\n",
       "<polyline clip-path=\"url(#clip520)\" style=\"stroke:#000000; stroke-linecap:round; stroke-linejoin:round; stroke-width:4; stroke-opacity:1; fill:none\" points=\"1244.17,1486.45 1244.17,1467.55 \"/>\n",
       "<polyline clip-path=\"url(#clip520)\" style=\"stroke:#000000; stroke-linecap:round; stroke-linejoin:round; stroke-width:4; stroke-opacity:1; fill:none\" points=\"1767.38,1486.45 1767.38,1467.55 \"/>\n",
       "<polyline clip-path=\"url(#clip520)\" style=\"stroke:#000000; stroke-linecap:round; stroke-linejoin:round; stroke-width:4; stroke-opacity:1; fill:none\" points=\"2290.6,1486.45 2290.6,1467.55 \"/>\n",
       "<path clip-path=\"url(#clip520)\" d=\"M197.735 1517.37 Q194.124 1517.37 192.295 1520.93 Q190.49 1524.47 190.49 1531.6 Q190.49 1538.71 192.295 1542.27 Q194.124 1545.82 197.735 1545.82 Q201.369 1545.82 203.175 1542.27 Q205.004 1538.71 205.004 1531.6 Q205.004 1524.47 203.175 1520.93 Q201.369 1517.37 197.735 1517.37 M197.735 1513.66 Q203.545 1513.66 206.601 1518.27 Q209.679 1522.85 209.679 1531.6 Q209.679 1540.33 206.601 1544.94 Q203.545 1549.52 197.735 1549.52 Q191.925 1549.52 188.846 1544.94 Q185.791 1540.33 185.791 1531.6 Q185.791 1522.85 188.846 1518.27 Q191.925 1513.66 197.735 1513.66 Z\" fill=\"#000000\" fill-rule=\"nonzero\" fill-opacity=\"1\" /><path clip-path=\"url(#clip520)\" d=\"M700.222 1544.91 L716.541 1544.91 L716.541 1548.85 L694.597 1548.85 L694.597 1544.91 Q697.259 1542.16 701.842 1537.53 Q706.449 1532.88 707.629 1531.53 Q709.874 1529.01 710.754 1527.27 Q711.657 1525.51 711.657 1523.82 Q711.657 1521.07 709.712 1519.33 Q707.791 1517.6 704.689 1517.6 Q702.49 1517.6 700.037 1518.36 Q697.606 1519.13 694.828 1520.68 L694.828 1515.95 Q697.652 1514.82 700.106 1514.24 Q702.56 1513.66 704.597 1513.66 Q709.967 1513.66 713.161 1516.35 Q716.356 1519.03 716.356 1523.52 Q716.356 1525.65 715.546 1527.57 Q714.759 1529.47 712.652 1532.07 Q712.073 1532.74 708.972 1535.95 Q705.87 1539.15 700.222 1544.91 Z\" fill=\"#000000\" fill-rule=\"nonzero\" fill-opacity=\"1\" /><path clip-path=\"url(#clip520)\" d=\"M726.402 1514.29 L744.758 1514.29 L744.758 1518.22 L730.684 1518.22 L730.684 1526.7 Q731.703 1526.35 732.722 1526.19 Q733.74 1526 734.759 1526 Q740.546 1526 743.925 1529.17 Q747.305 1532.34 747.305 1537.76 Q747.305 1543.34 743.833 1546.44 Q740.36 1549.52 734.041 1549.52 Q731.865 1549.52 729.597 1549.15 Q727.351 1548.78 724.944 1548.04 L724.944 1543.34 Q727.027 1544.47 729.249 1545.03 Q731.472 1545.58 733.948 1545.58 Q737.953 1545.58 740.291 1543.48 Q742.629 1541.37 742.629 1537.76 Q742.629 1534.15 740.291 1532.04 Q737.953 1529.94 733.948 1529.94 Q732.073 1529.94 730.198 1530.35 Q728.347 1530.77 726.402 1531.65 L726.402 1514.29 Z\" fill=\"#000000\" fill-rule=\"nonzero\" fill-opacity=\"1\" /><path clip-path=\"url(#clip520)\" d=\"M1218.87 1514.29 L1237.22 1514.29 L1237.22 1518.22 L1223.15 1518.22 L1223.15 1526.7 Q1224.17 1526.35 1225.19 1526.19 Q1226.2 1526 1227.22 1526 Q1233.01 1526 1236.39 1529.17 Q1239.77 1532.34 1239.77 1537.76 Q1239.77 1543.34 1236.3 1546.44 Q1232.82 1549.52 1226.5 1549.52 Q1224.33 1549.52 1222.06 1549.15 Q1219.81 1548.78 1217.41 1548.04 L1217.41 1543.34 Q1219.49 1544.47 1221.71 1545.03 Q1223.94 1545.58 1226.41 1545.58 Q1230.42 1545.58 1232.75 1543.48 Q1235.09 1541.37 1235.09 1537.76 Q1235.09 1534.15 1232.75 1532.04 Q1230.42 1529.94 1226.41 1529.94 Q1224.54 1529.94 1222.66 1530.35 Q1220.81 1530.77 1218.87 1531.65 L1218.87 1514.29 Z\" fill=\"#000000\" fill-rule=\"nonzero\" fill-opacity=\"1\" /><path clip-path=\"url(#clip520)\" d=\"M1258.98 1517.37 Q1255.37 1517.37 1253.54 1520.93 Q1251.74 1524.47 1251.74 1531.6 Q1251.74 1538.71 1253.54 1542.27 Q1255.37 1545.82 1258.98 1545.82 Q1262.62 1545.82 1264.42 1542.27 Q1266.25 1538.71 1266.25 1531.6 Q1266.25 1524.47 1264.42 1520.93 Q1262.62 1517.37 1258.98 1517.37 M1258.98 1513.66 Q1264.79 1513.66 1267.85 1518.27 Q1270.93 1522.85 1270.93 1531.6 Q1270.93 1540.33 1267.85 1544.94 Q1264.79 1549.52 1258.98 1549.52 Q1253.17 1549.52 1250.09 1544.94 Q1247.04 1540.33 1247.04 1531.6 Q1247.04 1522.85 1250.09 1518.27 Q1253.17 1513.66 1258.98 1513.66 Z\" fill=\"#000000\" fill-rule=\"nonzero\" fill-opacity=\"1\" /><path clip-path=\"url(#clip520)\" d=\"M1741.24 1514.29 L1763.46 1514.29 L1763.46 1516.28 L1750.91 1548.85 L1746.03 1548.85 L1757.83 1518.22 L1741.24 1518.22 L1741.24 1514.29 Z\" fill=\"#000000\" fill-rule=\"nonzero\" fill-opacity=\"1\" /><path clip-path=\"url(#clip520)\" d=\"M1772.63 1514.29 L1790.98 1514.29 L1790.98 1518.22 L1776.91 1518.22 L1776.91 1526.7 Q1777.93 1526.35 1778.94 1526.19 Q1779.96 1526 1780.98 1526 Q1786.77 1526 1790.15 1529.17 Q1793.53 1532.34 1793.53 1537.76 Q1793.53 1543.34 1790.06 1546.44 Q1786.58 1549.52 1780.26 1549.52 Q1778.09 1549.52 1775.82 1549.15 Q1773.57 1548.78 1771.17 1548.04 L1771.17 1543.34 Q1773.25 1544.47 1775.47 1545.03 Q1777.69 1545.58 1780.17 1545.58 Q1784.18 1545.58 1786.51 1543.48 Q1788.85 1541.37 1788.85 1537.76 Q1788.85 1534.15 1786.51 1532.04 Q1784.18 1529.94 1780.17 1529.94 Q1778.3 1529.94 1776.42 1530.35 Q1774.57 1530.77 1772.63 1531.65 L1772.63 1514.29 Z\" fill=\"#000000\" fill-rule=\"nonzero\" fill-opacity=\"1\" /><path clip-path=\"url(#clip520)\" d=\"M2250.2 1544.91 L2257.84 1544.91 L2257.84 1518.55 L2249.53 1520.21 L2249.53 1515.95 L2257.8 1514.29 L2262.47 1514.29 L2262.47 1544.91 L2270.11 1544.91 L2270.11 1548.85 L2250.2 1548.85 L2250.2 1544.91 Z\" fill=\"#000000\" fill-rule=\"nonzero\" fill-opacity=\"1\" /><path clip-path=\"url(#clip520)\" d=\"M2289.56 1517.37 Q2285.95 1517.37 2284.12 1520.93 Q2282.31 1524.47 2282.31 1531.6 Q2282.31 1538.71 2284.12 1542.27 Q2285.95 1545.82 2289.56 1545.82 Q2293.19 1545.82 2295 1542.27 Q2296.82 1538.71 2296.82 1531.6 Q2296.82 1524.47 2295 1520.93 Q2293.19 1517.37 2289.56 1517.37 M2289.56 1513.66 Q2295.37 1513.66 2298.42 1518.27 Q2301.5 1522.85 2301.5 1531.6 Q2301.5 1540.33 2298.42 1544.94 Q2295.37 1549.52 2289.56 1549.52 Q2283.75 1549.52 2280.67 1544.94 Q2277.61 1540.33 2277.61 1531.6 Q2277.61 1522.85 2280.67 1518.27 Q2283.75 1513.66 2289.56 1513.66 Z\" fill=\"#000000\" fill-rule=\"nonzero\" fill-opacity=\"1\" /><path clip-path=\"url(#clip520)\" d=\"M2319.72 1517.37 Q2316.11 1517.37 2314.28 1520.93 Q2312.47 1524.47 2312.47 1531.6 Q2312.47 1538.71 2314.28 1542.27 Q2316.11 1545.82 2319.72 1545.82 Q2323.35 1545.82 2325.16 1542.27 Q2326.99 1538.71 2326.99 1531.6 Q2326.99 1524.47 2325.16 1520.93 Q2323.35 1517.37 2319.72 1517.37 M2319.72 1513.66 Q2325.53 1513.66 2328.58 1518.27 Q2331.66 1522.85 2331.66 1531.6 Q2331.66 1540.33 2328.58 1544.94 Q2325.53 1549.52 2319.72 1549.52 Q2313.91 1549.52 2310.83 1544.94 Q2307.77 1540.33 2307.77 1531.6 Q2307.77 1522.85 2310.83 1518.27 Q2313.91 1513.66 2319.72 1513.66 Z\" fill=\"#000000\" fill-rule=\"nonzero\" fill-opacity=\"1\" /><polyline clip-path=\"url(#clip522)\" style=\"stroke:#000000; stroke-linecap:round; stroke-linejoin:round; stroke-width:2; stroke-opacity:0.1; fill:none\" points=\"156.506,1262.59 2352.76,1262.59 \"/>\n",
       "<polyline clip-path=\"url(#clip522)\" style=\"stroke:#000000; stroke-linecap:round; stroke-linejoin:round; stroke-width:2; stroke-opacity:0.1; fill:none\" points=\"156.506,999.547 2352.76,999.547 \"/>\n",
       "<polyline clip-path=\"url(#clip522)\" style=\"stroke:#000000; stroke-linecap:round; stroke-linejoin:round; stroke-width:2; stroke-opacity:0.1; fill:none\" points=\"156.506,736.501 2352.76,736.501 \"/>\n",
       "<polyline clip-path=\"url(#clip522)\" style=\"stroke:#000000; stroke-linecap:round; stroke-linejoin:round; stroke-width:2; stroke-opacity:0.1; fill:none\" points=\"156.506,473.454 2352.76,473.454 \"/>\n",
       "<polyline clip-path=\"url(#clip522)\" style=\"stroke:#000000; stroke-linecap:round; stroke-linejoin:round; stroke-width:2; stroke-opacity:0.1; fill:none\" points=\"156.506,210.407 2352.76,210.407 \"/>\n",
       "<polyline clip-path=\"url(#clip520)\" style=\"stroke:#000000; stroke-linecap:round; stroke-linejoin:round; stroke-width:4; stroke-opacity:1; fill:none\" points=\"156.506,1486.45 156.506,123.472 \"/>\n",
       "<polyline clip-path=\"url(#clip520)\" style=\"stroke:#000000; stroke-linecap:round; stroke-linejoin:round; stroke-width:4; stroke-opacity:1; fill:none\" points=\"156.506,1262.59 175.403,1262.59 \"/>\n",
       "<polyline clip-path=\"url(#clip520)\" style=\"stroke:#000000; stroke-linecap:round; stroke-linejoin:round; stroke-width:4; stroke-opacity:1; fill:none\" points=\"156.506,999.547 175.403,999.547 \"/>\n",
       "<polyline clip-path=\"url(#clip520)\" style=\"stroke:#000000; stroke-linecap:round; stroke-linejoin:round; stroke-width:4; stroke-opacity:1; fill:none\" points=\"156.506,736.501 175.403,736.501 \"/>\n",
       "<polyline clip-path=\"url(#clip520)\" style=\"stroke:#000000; stroke-linecap:round; stroke-linejoin:round; stroke-width:4; stroke-opacity:1; fill:none\" points=\"156.506,473.454 175.403,473.454 \"/>\n",
       "<polyline clip-path=\"url(#clip520)\" style=\"stroke:#000000; stroke-linecap:round; stroke-linejoin:round; stroke-width:4; stroke-opacity:1; fill:none\" points=\"156.506,210.407 175.403,210.407 \"/>\n",
       "<path clip-path=\"url(#clip520)\" d=\"M62.8439 1263.46 Q59.5106 1263.46 57.5893 1265.24 Q55.6912 1267.03 55.6912 1270.15 Q55.6912 1273.28 57.5893 1275.06 Q59.5106 1276.84 62.8439 1276.84 Q66.1772 1276.84 68.0985 1275.06 Q70.0198 1273.25 70.0198 1270.15 Q70.0198 1267.03 68.0985 1265.24 Q66.2004 1263.46 62.8439 1263.46 M58.168 1261.47 Q55.1588 1260.73 53.469 1258.67 Q51.8023 1256.61 51.8023 1253.65 Q51.8023 1249.5 54.7421 1247.1 Q57.7051 1244.69 62.8439 1244.69 Q68.0059 1244.69 70.9457 1247.1 Q73.8855 1249.5 73.8855 1253.65 Q73.8855 1256.61 72.1957 1258.67 Q70.5291 1260.73 67.543 1261.47 Q70.9226 1262.26 72.7976 1264.55 Q74.6957 1266.84 74.6957 1270.15 Q74.6957 1275.18 71.617 1277.86 Q68.5615 1280.55 62.8439 1280.55 Q57.1264 1280.55 54.0477 1277.86 Q50.9921 1275.18 50.9921 1270.15 Q50.9921 1266.84 52.8903 1264.55 Q54.7884 1262.26 58.168 1261.47 M56.4551 1254.09 Q56.4551 1256.77 58.1217 1258.28 Q59.8115 1259.78 62.8439 1259.78 Q65.8532 1259.78 67.543 1258.28 Q69.2559 1256.77 69.2559 1254.09 Q69.2559 1251.4 67.543 1249.9 Q65.8532 1248.39 62.8439 1248.39 Q59.8115 1248.39 58.1217 1249.9 Q56.4551 1251.4 56.4551 1254.09 Z\" fill=\"#000000\" fill-rule=\"nonzero\" fill-opacity=\"1\" /><path clip-path=\"url(#clip520)\" d=\"M83.0058 1273.99 L87.8901 1273.99 L87.8901 1279.87 L83.0058 1279.87 L83.0058 1273.99 Z\" fill=\"#000000\" fill-rule=\"nonzero\" fill-opacity=\"1\" /><path clip-path=\"url(#clip520)\" d=\"M110.922 1249.39 L99.1169 1267.84 L110.922 1267.84 L110.922 1249.39 M109.696 1245.31 L115.575 1245.31 L115.575 1267.84 L120.506 1267.84 L120.506 1271.73 L115.575 1271.73 L115.575 1279.87 L110.922 1279.87 L110.922 1271.73 L95.3206 1271.73 L95.3206 1267.21 L109.696 1245.31 Z\" fill=\"#000000\" fill-rule=\"nonzero\" fill-opacity=\"1\" /><path clip-path=\"url(#clip520)\" d=\"M64.3254 1000.42 Q60.9921 1000.42 59.0708 1002.2 Q57.1726 1003.98 57.1726 1007.11 Q57.1726 1010.23 59.0708 1012.01 Q60.9921 1013.8 64.3254 1013.8 Q67.6587 1013.8 69.58 1012.01 Q71.5013 1010.21 71.5013 1007.11 Q71.5013 1003.98 69.58 1002.2 Q67.6819 1000.42 64.3254 1000.42 M59.6495 998.425 Q56.6402 997.684 54.9504 995.624 Q53.2838 993.564 53.2838 990.601 Q53.2838 986.457 56.2236 984.05 Q59.1865 981.643 64.3254 981.643 Q69.4874 981.643 72.4272 984.05 Q75.367 986.457 75.367 990.601 Q75.367 993.564 73.6772 995.624 Q72.0105 997.684 69.0244 998.425 Q72.404 999.212 74.279 1001.5 Q76.1772 1003.8 76.1772 1007.11 Q76.1772 1012.13 73.0985 1014.81 Q70.0429 1017.5 64.3254 1017.5 Q58.6078 1017.5 55.5291 1014.81 Q52.4736 1012.13 52.4736 1007.11 Q52.4736 1003.8 54.3717 1001.5 Q56.2699 999.212 59.6495 998.425 M57.9365 991.041 Q57.9365 993.726 59.6032 995.23 Q61.293 996.735 64.3254 996.735 Q67.3346 996.735 69.0244 995.23 Q70.7374 993.726 70.7374 991.041 Q70.7374 988.355 69.0244 986.851 Q67.3346 985.346 64.3254 985.346 Q61.293 985.346 59.6032 986.851 Q57.9365 988.355 57.9365 991.041 Z\" fill=\"#000000\" fill-rule=\"nonzero\" fill-opacity=\"1\" /><path clip-path=\"url(#clip520)\" d=\"M84.4873 1010.95 L89.3715 1010.95 L89.3715 1016.83 L84.4873 1016.83 L84.4873 1010.95 Z\" fill=\"#000000\" fill-rule=\"nonzero\" fill-opacity=\"1\" /><path clip-path=\"url(#clip520)\" d=\"M99.603 982.267 L117.959 982.267 L117.959 986.203 L103.885 986.203 L103.885 994.675 Q104.904 994.328 105.922 994.166 Q106.941 993.98 107.959 993.98 Q113.746 993.98 117.126 997.152 Q120.506 1000.32 120.506 1005.74 Q120.506 1011.32 117.033 1014.42 Q113.561 1017.5 107.242 1017.5 Q105.066 1017.5 102.797 1017.13 Q100.552 1016.76 98.1447 1016.02 L98.1447 1011.32 Q100.228 1012.45 102.45 1013.01 Q104.672 1013.56 107.149 1013.56 Q111.154 1013.56 113.492 1011.46 Q115.83 1009.35 115.83 1005.74 Q115.83 1002.13 113.492 1000.02 Q111.154 997.916 107.149 997.916 Q105.274 997.916 103.399 998.332 Q101.547 998.749 99.603 999.629 L99.603 982.267 Z\" fill=\"#000000\" fill-rule=\"nonzero\" fill-opacity=\"1\" /><path clip-path=\"url(#clip520)\" d=\"M63.168 737.369 Q59.8347 737.369 57.9134 739.151 Q56.0152 740.934 56.0152 744.059 Q56.0152 747.184 57.9134 748.966 Q59.8347 750.748 63.168 750.748 Q66.5013 750.748 68.4226 748.966 Q70.3439 747.16 70.3439 744.059 Q70.3439 740.934 68.4226 739.151 Q66.5245 737.369 63.168 737.369 M58.4921 735.378 Q55.4828 734.637 53.793 732.577 Q52.1264 730.517 52.1264 727.554 Q52.1264 723.411 55.0662 721.003 Q58.0291 718.596 63.168 718.596 Q68.33 718.596 71.2698 721.003 Q74.2096 723.411 74.2096 727.554 Q74.2096 730.517 72.5198 732.577 Q70.8531 734.637 67.867 735.378 Q71.2466 736.165 73.1216 738.457 Q75.0198 740.748 75.0198 744.059 Q75.0198 749.082 71.9411 751.767 Q68.8855 754.452 63.168 754.452 Q57.4504 754.452 54.3717 751.767 Q51.3162 749.082 51.3162 744.059 Q51.3162 740.748 53.2143 738.457 Q55.1125 736.165 58.4921 735.378 M56.7791 727.994 Q56.7791 730.679 58.4458 732.184 Q60.1356 733.688 63.168 733.688 Q66.1772 733.688 67.867 732.184 Q69.58 730.679 69.58 727.994 Q69.58 725.309 67.867 723.804 Q66.1772 722.299 63.168 722.299 Q60.1356 722.299 58.4458 723.804 Q56.7791 725.309 56.7791 727.994 Z\" fill=\"#000000\" fill-rule=\"nonzero\" fill-opacity=\"1\" /><path clip-path=\"url(#clip520)\" d=\"M83.3299 747.901 L88.2141 747.901 L88.2141 753.781 L83.3299 753.781 L83.3299 747.901 Z\" fill=\"#000000\" fill-rule=\"nonzero\" fill-opacity=\"1\" /><path clip-path=\"url(#clip520)\" d=\"M108.978 734.637 Q105.83 734.637 103.978 736.79 Q102.149 738.943 102.149 742.693 Q102.149 746.42 103.978 748.596 Q105.83 750.748 108.978 750.748 Q112.126 750.748 113.955 748.596 Q115.807 746.42 115.807 742.693 Q115.807 738.943 113.955 736.79 Q112.126 734.637 108.978 734.637 M118.26 719.985 L118.26 724.244 Q116.501 723.411 114.695 722.971 Q112.913 722.531 111.154 722.531 Q106.524 722.531 104.071 725.656 Q101.64 728.781 101.293 735.1 Q102.659 733.086 104.719 732.022 Q106.779 730.934 109.256 730.934 Q114.464 730.934 117.473 734.105 Q120.506 737.253 120.506 742.693 Q120.506 748.017 117.358 751.235 Q114.209 754.452 108.978 754.452 Q102.983 754.452 99.8113 749.869 Q96.64 745.262 96.64 736.536 Q96.64 728.341 100.529 723.48 Q104.418 718.596 110.969 718.596 Q112.728 718.596 114.51 718.943 Q116.316 719.29 118.26 719.985 Z\" fill=\"#000000\" fill-rule=\"nonzero\" fill-opacity=\"1\" /><path clip-path=\"url(#clip520)\" d=\"M64.2328 474.322 Q60.8995 474.322 58.9782 476.105 Q57.0801 477.887 57.0801 481.012 Q57.0801 484.137 58.9782 485.919 Q60.8995 487.702 64.2328 487.702 Q67.5661 487.702 69.4874 485.919 Q71.4087 484.114 71.4087 481.012 Q71.4087 477.887 69.4874 476.105 Q67.5893 474.322 64.2328 474.322 M59.5569 472.331 Q56.5477 471.591 54.8578 469.53 Q53.1912 467.47 53.1912 464.507 Q53.1912 460.364 56.131 457.956 Q59.0939 455.549 64.2328 455.549 Q69.3948 455.549 72.3346 457.956 Q75.2744 460.364 75.2744 464.507 Q75.2744 467.47 73.5846 469.53 Q71.9179 471.591 68.9318 472.331 Q72.3115 473.118 74.1864 475.41 Q76.0846 477.702 76.0846 481.012 Q76.0846 486.035 73.0059 488.72 Q69.9504 491.405 64.2328 491.405 Q58.5152 491.405 55.4365 488.72 Q52.381 486.035 52.381 481.012 Q52.381 477.702 54.2791 475.41 Q56.1773 473.118 59.5569 472.331 M57.8439 464.947 Q57.8439 467.632 59.5106 469.137 Q61.2004 470.642 64.2328 470.642 Q67.242 470.642 68.9318 469.137 Q70.6448 467.632 70.6448 464.947 Q70.6448 462.262 68.9318 460.757 Q67.242 459.253 64.2328 459.253 Q61.2004 459.253 59.5106 460.757 Q57.8439 462.262 57.8439 464.947 Z\" fill=\"#000000\" fill-rule=\"nonzero\" fill-opacity=\"1\" /><path clip-path=\"url(#clip520)\" d=\"M84.3947 484.854 L89.279 484.854 L89.279 490.734 L84.3947 490.734 L84.3947 484.854 Z\" fill=\"#000000\" fill-rule=\"nonzero\" fill-opacity=\"1\" /><path clip-path=\"url(#clip520)\" d=\"M98.2835 456.174 L120.506 456.174 L120.506 458.165 L107.959 490.734 L103.075 490.734 L114.881 460.109 L98.2835 460.109 L98.2835 456.174 Z\" fill=\"#000000\" fill-rule=\"nonzero\" fill-opacity=\"1\" /><path clip-path=\"url(#clip520)\" d=\"M63.4226 211.275 Q60.0893 211.275 58.168 213.058 Q56.2699 214.84 56.2699 217.965 Q56.2699 221.09 58.168 222.873 Q60.0893 224.655 63.4226 224.655 Q66.7559 224.655 68.6772 222.873 Q70.5985 221.067 70.5985 217.965 Q70.5985 214.84 68.6772 213.058 Q66.7791 211.275 63.4226 211.275 M58.7467 209.285 Q55.7375 208.544 54.0477 206.484 Q52.381 204.424 52.381 201.461 Q52.381 197.317 55.3208 194.91 Q58.2838 192.502 63.4226 192.502 Q68.5846 192.502 71.5244 194.91 Q74.4642 197.317 74.4642 201.461 Q74.4642 204.424 72.7744 206.484 Q71.1078 208.544 68.1217 209.285 Q71.5013 210.072 73.3763 212.363 Q75.2744 214.655 75.2744 217.965 Q75.2744 222.988 72.1957 225.673 Q69.1402 228.359 63.4226 228.359 Q57.7051 228.359 54.6264 225.673 Q51.5708 222.988 51.5708 217.965 Q51.5708 214.655 53.469 212.363 Q55.3671 210.072 58.7467 209.285 M57.0338 201.9 Q57.0338 204.586 58.7004 206.09 Q60.3902 207.595 63.4226 207.595 Q66.4319 207.595 68.1217 206.09 Q69.8346 204.586 69.8346 201.9 Q69.8346 199.215 68.1217 197.711 Q66.4319 196.206 63.4226 196.206 Q60.3902 196.206 58.7004 197.711 Q57.0338 199.215 57.0338 201.9 Z\" fill=\"#000000\" fill-rule=\"nonzero\" fill-opacity=\"1\" /><path clip-path=\"url(#clip520)\" d=\"M83.5845 221.808 L88.4688 221.808 L88.4688 227.687 L83.5845 227.687 L83.5845 221.808 Z\" fill=\"#000000\" fill-rule=\"nonzero\" fill-opacity=\"1\" /><path clip-path=\"url(#clip520)\" d=\"M108.654 211.275 Q105.321 211.275 103.399 213.058 Q101.501 214.84 101.501 217.965 Q101.501 221.09 103.399 222.873 Q105.321 224.655 108.654 224.655 Q111.987 224.655 113.908 222.873 Q115.83 221.067 115.83 217.965 Q115.83 214.84 113.908 213.058 Q112.01 211.275 108.654 211.275 M103.978 209.285 Q100.969 208.544 99.2789 206.484 Q97.6122 204.424 97.6122 201.461 Q97.6122 197.317 100.552 194.91 Q103.515 192.502 108.654 192.502 Q113.816 192.502 116.756 194.91 Q119.695 197.317 119.695 201.461 Q119.695 204.424 118.006 206.484 Q116.339 208.544 113.353 209.285 Q116.733 210.072 118.608 212.363 Q120.506 214.655 120.506 217.965 Q120.506 222.988 117.427 225.673 Q114.371 228.359 108.654 228.359 Q102.936 228.359 99.8576 225.673 Q96.8021 222.988 96.8021 217.965 Q96.8021 214.655 98.7002 212.363 Q100.598 210.072 103.978 209.285 M102.265 201.9 Q102.265 204.586 103.932 206.09 Q105.621 207.595 108.654 207.595 Q111.663 207.595 113.353 206.09 Q115.066 204.586 115.066 201.9 Q115.066 199.215 113.353 197.711 Q111.663 196.206 108.654 196.206 Q105.621 196.206 103.932 197.711 Q102.265 199.215 102.265 201.9 Z\" fill=\"#000000\" fill-rule=\"nonzero\" fill-opacity=\"1\" /><path clip-path=\"url(#clip520)\" d=\"M883.244 16.7545 L883.244 25.383 Q879.112 21.5346 874.413 19.6307 Q869.754 17.7268 864.488 17.7268 Q854.118 17.7268 848.609 24.0867 Q843.099 30.4061 843.099 42.3968 Q843.099 54.3469 848.609 60.7069 Q854.118 67.0263 864.488 67.0263 Q869.754 67.0263 874.413 65.1223 Q879.112 63.2184 883.244 59.3701 L883.244 67.9175 Q878.95 70.8341 874.129 72.2924 Q869.349 73.7508 864.002 73.7508 Q850.27 73.7508 842.37 65.3654 Q834.471 56.9395 834.471 42.3968 Q834.471 27.8135 842.37 19.4281 Q850.27 11.0023 864.002 11.0023 Q869.43 11.0023 874.21 12.4606 Q879.031 13.8784 883.244 16.7545 Z\" fill=\"#000000\" fill-rule=\"nonzero\" fill-opacity=\"1\" /><path clip-path=\"url(#clip520)\" d=\"M913.14 32.4315 Q907.144 32.4315 903.66 37.1306 Q900.177 41.7891 900.177 49.9314 Q900.177 58.0738 903.62 62.7728 Q907.104 67.4314 913.14 67.4314 Q919.094 67.4314 922.578 62.7323 Q926.062 58.0333 926.062 49.9314 Q926.062 41.8701 922.578 37.1711 Q919.094 32.4315 913.14 32.4315 M913.14 26.1121 Q922.862 26.1121 928.411 32.4315 Q933.961 38.7509 933.961 49.9314 Q933.961 61.0714 928.411 67.4314 Q922.862 73.7508 913.14 73.7508 Q903.377 73.7508 897.827 67.4314 Q892.318 61.0714 892.318 49.9314 Q892.318 38.7509 897.827 32.4315 Q903.377 26.1121 913.14 26.1121 Z\" fill=\"#000000\" fill-rule=\"nonzero\" fill-opacity=\"1\" /><path clip-path=\"url(#clip520)\" d=\"M984.03 45.1919 L984.03 72.576 L976.577 72.576 L976.577 45.4349 Q976.577 38.994 974.065 35.7938 Q971.554 32.5936 966.53 32.5936 Q960.495 32.5936 957.011 36.4419 Q953.527 40.2903 953.527 46.9338 L953.527 72.576 L946.033 72.576 L946.033 27.2059 L953.527 27.2059 L953.527 34.2544 Q956.201 30.163 959.806 28.1376 Q963.452 26.1121 968.191 26.1121 Q976.01 26.1121 980.02 30.9732 Q984.03 35.7938 984.03 45.1919 Z\" fill=\"#000000\" fill-rule=\"nonzero\" fill-opacity=\"1\" /><path clip-path=\"url(#clip520)\" d=\"M993.55 27.2059 L1001.45 27.2059 L1015.63 65.2844 L1029.81 27.2059 L1037.7 27.2059 L1020.69 72.576 L1010.56 72.576 L993.55 27.2059 Z\" fill=\"#000000\" fill-rule=\"nonzero\" fill-opacity=\"1\" /><path clip-path=\"url(#clip520)\" d=\"M1086.8 48.0275 L1086.8 51.6733 L1052.53 51.6733 Q1053.02 59.3701 1057.15 63.421 Q1061.32 67.4314 1068.73 67.4314 Q1073.03 67.4314 1077.04 66.3781 Q1081.09 65.3249 1085.06 63.2184 L1085.06 70.267 Q1081.05 71.9684 1076.84 72.8596 Q1072.62 73.7508 1068.29 73.7508 Q1057.43 73.7508 1051.07 67.4314 Q1044.75 61.1119 1044.75 50.3365 Q1044.75 39.1965 1050.75 32.6746 Q1056.78 26.1121 1066.99 26.1121 Q1076.15 26.1121 1081.45 32.0264 Q1086.8 37.9003 1086.8 48.0275 M1079.35 45.84 Q1079.27 39.7232 1075.9 36.0774 Q1072.58 32.4315 1067.07 32.4315 Q1060.84 32.4315 1057.07 35.9558 Q1053.34 39.4801 1052.77 45.8805 L1079.35 45.84 Z\" fill=\"#000000\" fill-rule=\"nonzero\" fill-opacity=\"1\" /><path clip-path=\"url(#clip520)\" d=\"M1125.33 34.1734 Q1124.07 33.4443 1122.57 33.1202 Q1121.11 32.7556 1119.33 32.7556 Q1113.01 32.7556 1109.61 36.8875 Q1106.25 40.9789 1106.25 48.6757 L1106.25 72.576 L1098.75 72.576 L1098.75 27.2059 L1106.25 27.2059 L1106.25 34.2544 Q1108.6 30.1225 1112.36 28.1376 Q1116.13 26.1121 1121.52 26.1121 Q1122.29 26.1121 1123.22 26.2337 Q1124.15 26.3147 1125.29 26.5172 L1125.33 34.1734 Z\" fill=\"#000000\" fill-rule=\"nonzero\" fill-opacity=\"1\" /><path clip-path=\"url(#clip520)\" d=\"M1161.54 49.3643 Q1161.54 41.2625 1158.18 36.8065 Q1154.86 32.3505 1148.82 32.3505 Q1142.83 32.3505 1139.46 36.8065 Q1136.14 41.2625 1136.14 49.3643 Q1136.14 57.4256 1139.46 61.8816 Q1142.83 66.3376 1148.82 66.3376 Q1154.86 66.3376 1158.18 61.8816 Q1161.54 57.4256 1161.54 49.3643 M1168.99 66.9452 Q1168.99 78.5308 1163.85 84.1616 Q1158.71 89.8329 1148.09 89.8329 Q1144.16 89.8329 1140.68 89.2252 Q1137.2 88.6581 1133.91 87.4428 L1133.91 80.1917 Q1137.2 81.9741 1140.4 82.8248 Q1143.6 83.6755 1146.92 83.6755 Q1154.25 83.6755 1157.9 79.8271 Q1161.54 76.0193 1161.54 68.282 L1161.54 64.5957 Q1159.23 68.6061 1155.63 70.5911 Q1152.02 72.576 1147 72.576 Q1138.65 72.576 1133.55 66.2161 Q1128.45 59.8562 1128.45 49.3643 Q1128.45 38.832 1133.55 32.472 Q1138.65 26.1121 1147 26.1121 Q1152.02 26.1121 1155.63 28.0971 Q1159.23 30.082 1161.54 34.0924 L1161.54 27.2059 L1168.99 27.2059 L1168.99 66.9452 Z\" fill=\"#000000\" fill-rule=\"nonzero\" fill-opacity=\"1\" /><path clip-path=\"url(#clip520)\" d=\"M1223.16 48.0275 L1223.16 51.6733 L1188.88 51.6733 Q1189.37 59.3701 1193.5 63.421 Q1197.68 67.4314 1205.09 67.4314 Q1209.38 67.4314 1213.39 66.3781 Q1217.44 65.3249 1221.41 63.2184 L1221.41 70.267 Q1217.4 71.9684 1213.19 72.8596 Q1208.98 73.7508 1204.64 73.7508 Q1193.79 73.7508 1187.43 67.4314 Q1181.11 61.1119 1181.11 50.3365 Q1181.11 39.1965 1187.1 32.6746 Q1193.14 26.1121 1203.35 26.1121 Q1212.5 26.1121 1217.81 32.0264 Q1223.16 37.9003 1223.16 48.0275 M1215.7 45.84 Q1215.62 39.7232 1212.26 36.0774 Q1208.94 32.4315 1203.43 32.4315 Q1197.19 32.4315 1193.42 35.9558 Q1189.69 39.4801 1189.13 45.8805 L1215.7 45.84 Z\" fill=\"#000000\" fill-rule=\"nonzero\" fill-opacity=\"1\" /><path clip-path=\"url(#clip520)\" d=\"M1273.1 45.1919 L1273.1 72.576 L1265.65 72.576 L1265.65 45.4349 Q1265.65 38.994 1263.14 35.7938 Q1260.63 32.5936 1255.6 32.5936 Q1249.57 32.5936 1246.08 36.4419 Q1242.6 40.2903 1242.6 46.9338 L1242.6 72.576 L1235.11 72.576 L1235.11 27.2059 L1242.6 27.2059 L1242.6 34.2544 Q1245.27 30.163 1248.88 28.1376 Q1252.52 26.1121 1257.26 26.1121 Q1265.08 26.1121 1269.09 30.9732 Q1273.1 35.7938 1273.1 45.1919 Z\" fill=\"#000000\" fill-rule=\"nonzero\" fill-opacity=\"1\" /><path clip-path=\"url(#clip520)\" d=\"M1320.62 28.9478 L1320.62 35.9153 Q1317.46 34.1734 1314.26 33.3227 Q1311.1 32.4315 1307.86 32.4315 Q1300.61 32.4315 1296.6 37.0496 Q1292.59 41.6271 1292.59 49.9314 Q1292.59 58.2358 1296.6 62.8538 Q1300.61 67.4314 1307.86 67.4314 Q1311.1 67.4314 1314.26 66.5807 Q1317.46 65.6895 1320.62 63.9476 L1320.62 70.8341 Q1317.5 72.2924 1314.14 73.0216 Q1310.82 73.7508 1307.05 73.7508 Q1296.8 73.7508 1290.76 67.3098 Q1284.73 60.8689 1284.73 49.9314 Q1284.73 38.832 1290.81 32.472 Q1296.92 26.1121 1307.54 26.1121 Q1310.98 26.1121 1314.26 26.8413 Q1317.54 27.5299 1320.62 28.9478 Z\" fill=\"#000000\" fill-rule=\"nonzero\" fill-opacity=\"1\" /><path clip-path=\"url(#clip520)\" d=\"M1372.39 48.0275 L1372.39 51.6733 L1338.12 51.6733 Q1338.61 59.3701 1342.74 63.421 Q1346.91 67.4314 1354.32 67.4314 Q1358.62 67.4314 1362.63 66.3781 Q1366.68 65.3249 1370.65 63.2184 L1370.65 70.267 Q1366.64 71.9684 1362.43 72.8596 Q1358.21 73.7508 1353.88 73.7508 Q1343.02 73.7508 1336.66 67.4314 Q1330.34 61.1119 1330.34 50.3365 Q1330.34 39.1965 1336.34 32.6746 Q1342.37 26.1121 1352.58 26.1121 Q1361.74 26.1121 1367.04 32.0264 Q1372.39 37.9003 1372.39 48.0275 M1364.94 45.84 Q1364.86 39.7232 1361.49 36.0774 Q1358.17 32.4315 1352.66 32.4315 Q1346.42 32.4315 1342.66 35.9558 Q1338.93 39.4801 1338.36 45.8805 L1364.94 45.84 Z\" fill=\"#000000\" fill-rule=\"nonzero\" fill-opacity=\"1\" /><path clip-path=\"url(#clip520)\" d=\"M1443.65 28.9478 L1443.65 35.9153 Q1440.49 34.1734 1437.29 33.3227 Q1434.13 32.4315 1430.89 32.4315 Q1423.63 32.4315 1419.62 37.0496 Q1415.61 41.6271 1415.61 49.9314 Q1415.61 58.2358 1419.62 62.8538 Q1423.63 67.4314 1430.89 67.4314 Q1434.13 67.4314 1437.29 66.5807 Q1440.49 65.6895 1443.65 63.9476 L1443.65 70.8341 Q1440.53 72.2924 1437.16 73.0216 Q1433.84 73.7508 1430.08 73.7508 Q1419.83 73.7508 1413.79 67.3098 Q1407.75 60.8689 1407.75 49.9314 Q1407.75 38.832 1413.83 32.472 Q1419.95 26.1121 1430.56 26.1121 Q1434 26.1121 1437.29 26.8413 Q1440.57 27.5299 1443.65 28.9478 Z\" fill=\"#000000\" fill-rule=\"nonzero\" fill-opacity=\"1\" /><path clip-path=\"url(#clip520)\" d=\"M1455.84 54.671 L1455.84 27.2059 L1463.29 27.2059 L1463.29 54.3874 Q1463.29 60.8284 1465.8 64.0691 Q1468.32 67.2693 1473.34 67.2693 Q1479.37 67.2693 1482.86 63.421 Q1486.38 59.5726 1486.38 52.9291 L1486.38 27.2059 L1493.84 27.2059 L1493.84 72.576 L1486.38 72.576 L1486.38 65.6084 Q1483.67 69.7404 1480.06 71.7658 Q1476.5 73.7508 1471.76 73.7508 Q1463.94 73.7508 1459.89 68.8897 Q1455.84 64.0286 1455.84 54.671 M1474.59 26.1121 L1474.59 26.1121 Z\" fill=\"#000000\" fill-rule=\"nonzero\" fill-opacity=\"1\" /><path clip-path=\"url(#clip520)\" d=\"M1535.48 34.1734 Q1534.22 33.4443 1532.73 33.1202 Q1531.27 32.7556 1529.48 32.7556 Q1523.17 32.7556 1519.76 36.8875 Q1516.4 40.9789 1516.4 48.6757 L1516.4 72.576 L1508.91 72.576 L1508.91 27.2059 L1516.4 27.2059 L1516.4 34.2544 Q1518.75 30.1225 1522.52 28.1376 Q1526.28 26.1121 1531.67 26.1121 Q1532.44 26.1121 1533.37 26.2337 Q1534.31 26.3147 1535.44 26.5172 L1535.48 34.1734 Z\" fill=\"#000000\" fill-rule=\"nonzero\" fill-opacity=\"1\" /><path clip-path=\"url(#clip520)\" d=\"M1537.95 27.2059 L1545.85 27.2059 L1560.03 65.2844 L1574.21 27.2059 L1582.11 27.2059 L1565.09 72.576 L1554.96 72.576 L1537.95 27.2059 Z\" fill=\"#000000\" fill-rule=\"nonzero\" fill-opacity=\"1\" /><path clip-path=\"url(#clip520)\" d=\"M1631.2 48.0275 L1631.2 51.6733 L1596.93 51.6733 Q1597.42 59.3701 1601.55 63.421 Q1605.72 67.4314 1613.14 67.4314 Q1617.43 67.4314 1621.44 66.3781 Q1625.49 65.3249 1629.46 63.2184 L1629.46 70.267 Q1625.45 71.9684 1621.24 72.8596 Q1617.02 73.7508 1612.69 73.7508 Q1601.83 73.7508 1595.47 67.4314 Q1589.15 61.1119 1589.15 50.3365 Q1589.15 39.1965 1595.15 32.6746 Q1601.19 26.1121 1611.39 26.1121 Q1620.55 26.1121 1625.86 32.0264 Q1631.2 37.9003 1631.2 48.0275 M1623.75 45.84 Q1623.67 39.7232 1620.31 36.0774 Q1616.98 32.4315 1611.47 32.4315 Q1605.24 32.4315 1601.47 35.9558 Q1597.74 39.4801 1597.18 45.8805 L1623.75 45.84 Z\" fill=\"#000000\" fill-rule=\"nonzero\" fill-opacity=\"1\" /><path clip-path=\"url(#clip520)\" d=\"M1672.36 28.5427 L1672.36 35.5912 Q1669.2 33.9709 1665.8 33.1607 Q1662.39 32.3505 1658.75 32.3505 Q1653.2 32.3505 1650.4 34.0519 Q1647.65 35.7533 1647.65 39.156 Q1647.65 41.7486 1649.63 43.2475 Q1651.62 44.7058 1657.61 46.0426 L1660.17 46.6097 Q1668.11 48.3111 1671.43 51.4303 Q1674.79 54.509 1674.79 60.0587 Q1674.79 66.3781 1669.77 70.0644 Q1664.78 73.7508 1656.03 73.7508 Q1652.39 73.7508 1648.42 73.0216 Q1644.49 72.3329 1640.11 70.9151 L1640.11 63.2184 Q1644.25 65.3654 1648.26 66.4591 Q1652.27 67.5124 1656.2 67.5124 Q1661.46 67.5124 1664.3 65.73 Q1667.13 63.9071 1667.13 60.6258 Q1667.13 57.5877 1665.07 55.9673 Q1663.04 54.3469 1656.12 52.8481 L1653.52 52.2405 Q1646.6 50.7821 1643.52 47.7845 Q1640.44 44.7463 1640.44 39.4801 Q1640.44 33.0797 1644.98 29.5959 Q1649.51 26.1121 1657.86 26.1121 Q1661.99 26.1121 1665.64 26.7198 Q1669.28 27.3274 1672.36 28.5427 Z\" fill=\"#000000\" fill-rule=\"nonzero\" fill-opacity=\"1\" /><polyline clip-path=\"url(#clip522)\" style=\"stroke:#009af9; stroke-linecap:round; stroke-linejoin:round; stroke-width:12; stroke-opacity:1; fill:none\" points=\"218.664,201.26 239.592,384.92 260.521,507.36 281.45,599.19 302.378,672.654 323.307,733.874 344.235,786.349 365.164,832.264 386.093,873.077 407.021,897.767 427.95,909.021 448.879,939.631 469.807,962.5 490.736,967.268 511.664,991.756 532.593,1013.33 553.522,1014.2 574.45,1034.61 595.379,1053.94 616.308,1054.75 637.236,1071.9 658.165,1088.59 679.093,1088.61 700.022,1104.2 720.951,1118.57 741.879,1118.57 762.808,1132.17 783.737,1145.28 804.665,1145.62 825.594,1157.66 846.523,1169.51 867.451,1169.51 888.38,1180.73 909.308,1191.1 930.237,1191.28 951.166,1201.49 972.094,1211.4 993.023,1211.4 1013.95,1220.6 1034.88,1229.79 1055.81,1229.89 1076.74,1238.54 1097.67,1247.01 1118.59,1247.01 1139.52,1255.05 1160.45,1263.03 1181.38,1263.03 1202.31,1270.67 1223.24,1277.95 1244.17,1277.99 1265.1,1285.19 1286.02,1292.16 1306.95,1292.16 1327.88,1298.9 1348.81,1305.57 1369.74,1305.57 1390.67,1311.86 1411.6,1318.2 1432.52,1318.2 1453.45,1324.28 1474.38,1330.09 1495.31,1330.16 1516.24,1335.99 1537.17,1341.55 1558.1,1341.6 1579.02,1347.16 1599.95,1352.47 1620.88,1352.52 1641.81,1357.84 1662.74,1362.92 1683.67,1362.97 1704.6,1368.07 1725.52,1372.93 1746.45,1372.98 1767.38,1377.88 1788.31,1382.53 1809.24,1382.6 1830.17,1387.31 1851.1,1391.75 1872.03,1391.85 1892.95,1396.39 1913.88,1400.63 1934.81,1400.76 1955.74,1405.13 1976.67,1409.19 1997.6,1409.35 2018.53,1413.58 2039.45,1417.45 2060.38,1417.65 2081.31,1421.73 2102.24,1425.43 2123.17,1425.68 2144.1,1429.63 2165.03,1433.15 2185.95,1433.44 2206.88,1437.27 2227.81,1440.63 2248.74,1440.97 2269.67,1444.68 2290.6,1447.87 \"/>\n",
       "<polyline clip-path=\"url(#clip522)\" style=\"stroke:#e26f46; stroke-linecap:round; stroke-linejoin:round; stroke-width:12; stroke-opacity:1; fill:none\" points=\"218.664,162.047 239.592,346.46 260.521,477.838 281.45,567.915 302.378,643.662 323.307,704.986 344.235,757.004 365.164,795.978 386.093,806.989 407.021,843.96 427.95,879.856 448.879,885.711 469.807,908.805 490.736,935.792 511.664,943.495 532.593,961.538 553.522,982.171 574.45,990.481 595.379,1000.34 616.308,1019.27 637.236,1029.98 658.165,1034.96 679.093,1051.9 700.022,1059.98 720.951,1064.85 741.879,1080.15 762.808,1089.43 783.737,1094.15 804.665,1108.06 825.594,1113.03 846.523,1116.85 867.451,1129.82 888.38,1134.41 909.308,1138.3 930.237,1149.15 951.166,1153.05 972.094,1156.38 993.023,1167.02 1013.95,1174.19 1034.88,1176.57 1055.81,1186.45 1076.74,1192.38 1097.67,1195.35 1118.59,1203.01 1139.52,1210 1160.45,1211.86 1181.38,1218.86 1202.31,1226.22 1223.24,1227.24 1244.17,1233.69 1265.1,1240.07 1286.02,1240.82 1306.95,1246.47 1327.88,1253.05 1348.81,1253.49 1369.74,1259.91 1390.67,1266.38 1411.6,1266.69 1432.52,1272.35 1453.45,1278.2 1474.38,1281.11 1495.31,1284.08 1516.24,1289.37 1537.17,1292.12 1558.1,1295.4 1579.02,1301.64 1599.95,1302.65 1620.88,1305.92 1641.81,1311.63 1662.74,1312.93 1683.67,1317.4 1704.6,1322.71 1725.52,1323.46 1746.45,1326.72 1767.38,1331.75 1788.31,1333.49 1809.24,1336.07 1830.17,1340.87 1851.1,1342.24 1872.03,1345.15 1892.95,1349.43 1913.88,1350.32 1934.81,1353.58 1955.74,1358.19 1976.67,1358.36 1997.6,1362.55 2018.53,1366.27 2039.45,1366.56 2060.38,1370.27 2081.31,1374.87 2102.24,1375.12 2123.17,1379.62 2144.1,1383.44 2165.03,1384.13 2185.95,1387.06 2206.88,1390.36 2227.81,1392.97 2248.74,1394.35 2269.67,1398.31 2290.6,1398.99 \"/>\n",
       "<path clip-path=\"url(#clip520)\" d=\"M1934 324.425 L2279.55 324.425 L2279.55 168.905 L1934 168.905  Z\" fill=\"#ffffff\" fill-rule=\"evenodd\" fill-opacity=\"1\"/>\n",
       "<polyline clip-path=\"url(#clip520)\" style=\"stroke:#000000; stroke-linecap:round; stroke-linejoin:round; stroke-width:4; stroke-opacity:1; fill:none\" points=\"1934,324.425 2279.55,324.425 2279.55,168.905 1934,168.905 1934,324.425 \"/>\n",
       "<polyline clip-path=\"url(#clip520)\" style=\"stroke:#009af9; stroke-linecap:round; stroke-linejoin:round; stroke-width:12; stroke-opacity:1; fill:none\" points=\"1958.4,220.745 2104.82,220.745 \"/>\n",
       "<path clip-path=\"url(#clip520)\" d=\"M2129.22 203.465 L2151.07 203.465 L2151.07 207.4 L2133.9 207.4 L2133.9 217.631 L2150.35 217.631 L2150.35 221.566 L2133.9 221.566 L2133.9 234.089 L2151.49 234.089 L2151.49 238.025 L2129.22 238.025 L2129.22 203.465 Z\" fill=\"#000000\" fill-rule=\"nonzero\" fill-opacity=\"1\" /><path clip-path=\"url(#clip520)\" d=\"M2180.54 212.099 L2171.16 224.715 L2181.02 238.025 L2176 238.025 L2168.46 227.84 L2160.91 238.025 L2155.89 238.025 L2165.96 224.46 L2156.74 212.099 L2161.77 212.099 L2168.64 221.335 L2175.52 212.099 L2180.54 212.099 Z\" fill=\"#000000\" fill-rule=\"nonzero\" fill-opacity=\"1\" /><path clip-path=\"url(#clip520)\" d=\"M2198.83 224.992 Q2193.66 224.992 2191.67 226.173 Q2189.68 227.353 2189.68 230.201 Q2189.68 232.469 2191.16 233.812 Q2192.67 235.131 2195.24 235.131 Q2198.78 235.131 2200.91 232.631 Q2203.06 230.108 2203.06 225.941 L2203.06 224.992 L2198.83 224.992 M2207.32 223.233 L2207.32 238.025 L2203.06 238.025 L2203.06 234.089 Q2201.6 236.451 2199.43 237.585 Q2197.25 238.696 2194.1 238.696 Q2190.12 238.696 2187.76 236.474 Q2185.42 234.228 2185.42 230.478 Q2185.42 226.103 2188.34 223.881 Q2191.28 221.659 2197.09 221.659 L2203.06 221.659 L2203.06 221.242 Q2203.06 218.303 2201.12 216.705 Q2199.2 215.085 2195.7 215.085 Q2193.48 215.085 2191.37 215.617 Q2189.27 216.15 2187.32 217.215 L2187.32 213.279 Q2189.66 212.377 2191.86 211.937 Q2194.06 211.474 2196.14 211.474 Q2201.77 211.474 2204.54 214.391 Q2207.32 217.307 2207.32 223.233 Z\" fill=\"#000000\" fill-rule=\"nonzero\" fill-opacity=\"1\" /><path clip-path=\"url(#clip520)\" d=\"M2234.75 213.094 L2234.75 217.076 Q2232.95 216.08 2231.12 215.594 Q2229.31 215.085 2227.46 215.085 Q2223.32 215.085 2221.02 217.724 Q2218.73 220.34 2218.73 225.085 Q2218.73 229.83 2221.02 232.469 Q2223.32 235.085 2227.46 235.085 Q2229.31 235.085 2231.12 234.599 Q2232.95 234.089 2234.75 233.094 L2234.75 237.029 Q2232.97 237.863 2231.05 238.279 Q2229.15 238.696 2227 238.696 Q2221.14 238.696 2217.69 235.015 Q2214.24 231.335 2214.24 225.085 Q2214.24 218.742 2217.71 215.108 Q2221.21 211.474 2227.27 211.474 Q2229.24 211.474 2231.12 211.891 Q2232.99 212.284 2234.75 213.094 Z\" fill=\"#000000\" fill-rule=\"nonzero\" fill-opacity=\"1\" /><path clip-path=\"url(#clip520)\" d=\"M2246.37 204.738 L2246.37 212.099 L2255.14 212.099 L2255.14 215.409 L2246.37 215.409 L2246.37 229.483 Q2246.37 232.654 2247.23 233.557 Q2248.11 234.46 2250.77 234.46 L2255.14 234.46 L2255.14 238.025 L2250.77 238.025 Q2245.84 238.025 2243.96 236.196 Q2242.09 234.344 2242.09 229.483 L2242.09 215.409 L2238.96 215.409 L2238.96 212.099 L2242.09 212.099 L2242.09 204.738 L2246.37 204.738 Z\" fill=\"#000000\" fill-rule=\"nonzero\" fill-opacity=\"1\" /><polyline clip-path=\"url(#clip520)\" style=\"stroke:#e26f46; stroke-linecap:round; stroke-linejoin:round; stroke-width:12; stroke-opacity:1; fill:none\" points=\"1958.4,272.585 2104.82,272.585 \"/>\n",
       "<path clip-path=\"url(#clip520)\" d=\"M2129.22 255.305 L2135.52 255.305 L2150.84 284.217 L2150.84 255.305 L2155.38 255.305 L2155.38 289.865 L2149.08 289.865 L2133.76 260.953 L2133.76 289.865 L2129.22 289.865 L2129.22 255.305 Z\" fill=\"#000000\" fill-rule=\"nonzero\" fill-opacity=\"1\" /><path clip-path=\"url(#clip520)\" d=\"M2174.54 266.925 Q2171.12 266.925 2169.13 269.61 Q2167.14 272.272 2167.14 276.925 Q2167.14 281.578 2169.1 284.263 Q2171.09 286.925 2174.54 286.925 Q2177.95 286.925 2179.94 284.24 Q2181.93 281.555 2181.93 276.925 Q2181.93 272.318 2179.94 269.633 Q2177.95 266.925 2174.54 266.925 M2174.54 263.314 Q2180.1 263.314 2183.27 266.925 Q2186.44 270.536 2186.44 276.925 Q2186.44 283.291 2183.27 286.925 Q2180.1 290.536 2174.54 290.536 Q2168.96 290.536 2165.79 286.925 Q2162.65 283.291 2162.65 276.925 Q2162.65 270.536 2165.79 266.925 Q2168.96 263.314 2174.54 263.314 Z\" fill=\"#000000\" fill-rule=\"nonzero\" fill-opacity=\"1\" /><path clip-path=\"url(#clip520)\" d=\"M2193.5 263.939 L2197.76 263.939 L2197.76 289.865 L2193.5 289.865 L2193.5 263.939 M2193.5 253.846 L2197.76 253.846 L2197.76 259.24 L2193.5 259.24 L2193.5 253.846 Z\" fill=\"#000000\" fill-rule=\"nonzero\" fill-opacity=\"1\" /><path clip-path=\"url(#clip520)\" d=\"M2223.2 264.703 L2223.2 268.731 Q2221.39 267.805 2219.45 267.342 Q2217.51 266.879 2215.42 266.879 Q2212.25 266.879 2210.65 267.851 Q2209.08 268.823 2209.08 270.768 Q2209.08 272.249 2210.21 273.105 Q2211.35 273.939 2214.77 274.703 L2216.23 275.027 Q2220.77 275.999 2222.67 277.781 Q2224.59 279.541 2224.59 282.712 Q2224.59 286.323 2221.72 288.429 Q2218.87 290.536 2213.87 290.536 Q2211.79 290.536 2209.52 290.119 Q2207.27 289.726 2204.77 288.916 L2204.77 284.517 Q2207.14 285.744 2209.43 286.369 Q2211.72 286.971 2213.96 286.971 Q2216.97 286.971 2218.59 285.953 Q2220.21 284.911 2220.21 283.036 Q2220.21 281.3 2219.03 280.374 Q2217.88 279.448 2213.92 278.592 L2212.44 278.244 Q2208.48 277.411 2206.72 275.698 Q2204.96 273.962 2204.96 270.953 Q2204.96 267.295 2207.55 265.305 Q2210.15 263.314 2214.91 263.314 Q2217.27 263.314 2219.36 263.661 Q2221.44 264.008 2223.2 264.703 Z\" fill=\"#000000\" fill-rule=\"nonzero\" fill-opacity=\"1\" /><path clip-path=\"url(#clip520)\" d=\"M2242.16 292.272 Q2240.35 296.902 2238.64 298.314 Q2236.93 299.726 2234.06 299.726 L2230.65 299.726 L2230.65 296.161 L2233.15 296.161 Q2234.91 296.161 2235.89 295.328 Q2236.86 294.494 2238.04 291.392 L2238.8 289.448 L2228.32 263.939 L2232.83 263.939 L2240.93 284.217 L2249.03 263.939 L2253.55 263.939 L2242.16 292.272 Z\" fill=\"#000000\" fill-rule=\"nonzero\" fill-opacity=\"1\" /></svg>\n"
      ]
     },
     "execution_count": 4,
     "metadata": {},
     "output_type": "execute_result"
    }
   ],
   "source": [
    "\n",
    "using Plots\n",
    "\n",
    "#Initialisation\n",
    "x = ones(n,1);\n",
    "i = 0;\n",
    "fbest =1e10; # $f_{best}^0$: cas du sous-gradient exact\n",
    "fbestp=1e10; # $f_{best}^0$: cas du sous-gradient bruité\n",
    "histo =[];# Suite des itérés f_{best}^k-f_{star} pour le cas du sous-gradient exact\n",
    "histop=[];# Suite des itérés f_{best}^k-f_{star}, pour le cas du sous-gradient bruité\n",
    "\n",
    "#Niveau de bruit\n",
    "noise_lvl=.3;\n",
    "\n",
    "# Resolution \n",
    "# Insérer votre code\n",
    "itermax = 100\n",
    "xp = x\n",
    "xp_b = x\n",
    "while i < itermax\n",
    "    i = i + 1\n",
    "    ak = 1/(100*i)\n",
    "    xp = xp - ak*subgrad(A,b,xp)\n",
    "    fxp = findmax(abs.(A*xp-b))[1]   \n",
    "    if (fxp < fbest) \n",
    "        fbest = fxp\n",
    "    end\n",
    "    xp_b = xp_b - ak*(subgrad(A,b,xp_b) + noise_lvl*randn(n,1));\n",
    "    fxpb = findmax(abs.(A*xp_b-b))[1]   \n",
    "    if (fxpb < fbestp) \n",
    "        fbestp = fxpb\n",
    "    end\n",
    "    append!(histo, fbest-Rstar)\n",
    "    append!(histop, fbestp-Rstar)\n",
    "end\n",
    "# Fin insérer code\n",
    "\n",
    "#Affichage des courbes de convergence\n",
    "iter=1:100;\n",
    "hf=[histo,histop];\n",
    "plot(iter,hf,title=\"Convergence curves\",label=[\"Exact\" \"Noisy\"],lw=3)"
   ]
  },
  {
   "cell_type": "markdown",
   "metadata": {
    "slideshow": {
     "slide_type": "slide"
    }
   },
   "source": [
    "## II. Minimisation stochastique d'une fonction stochatique\n",
    "\n"
   ]
  },
  {
   "cell_type": "markdown",
   "metadata": {
    "slideshow": {
     "slide_type": "fragment"
    }
   },
   "source": [
    "On s'intéresse au problème\n",
    "$$\\min_x f(x) =\\text{E} (\\max_{i=1\\dots m}|a_i^Tx-b_i |).$$\n",
    "\n",
    "On suppose que $a_i$ est un vecteur colonne représentant la $i$eme ligne d'une matrice $A$ de taille $m \\times n$ ($m=100, n=20$) , et les $b_i$ sont les composantes d'un second membre $b$ de taille $m$, ($1 \\le i \\le m$), $x$ un vecteur de taille $n$. Ces quantités sont générées une fois pour toutes à partir de distributions Gaussiennes de moyenne connue $\\bar{A}$ et $\\bar{b}$ (non nécesairement nulle) et d'écart type identité.\n",
    "\n",
    "**Question 5 :** Proposer deux fonctions d'évaluation de la fonction $f$ et d'un sous-gradient de $f$ basées sur des échantillons de taille $M$.\n"
   ]
  },
  {
   "cell_type": "code",
   "execution_count": 14,
   "metadata": {},
   "outputs": [
    {
     "data": {
      "text/plain": [
       "subgrads (generic function with 1 method)"
      ]
     },
     "execution_count": 14,
     "metadata": {},
     "output_type": "execute_result"
    }
   ],
   "source": [
    "# Evaluation de f\n",
    "function fvals(Abar,bbar,noise,xs,M) \n",
    "    # Abar, bbar : moyenne des données\n",
    "    # noise : niveau de bruit \n",
    "    # xs : vecteur courant \n",
    "    # M: taille de l'échantillon\n",
    "\n",
    "# Insérer votre code\n",
    "    s = 0\n",
    "    for i=1:M\n",
    "        A = noise*randn(m,n) + Abar\n",
    "        b = noise*randn(m,1) + bbar\n",
    "        s += findmax(abs.(A*xs-b))[1]\n",
    "    end\n",
    "    return s/M\n",
    "# Fin insérer code\n",
    "\n",
    "end\n",
    "\n",
    "# Evaluation d'un sous-gradient\n",
    "function subgrads(Abar,bbar,noise,xs,M)\n",
    "    # Abar, bbar : moyenne des données\n",
    "    # noise : niveau de bruit \n",
    "    # xs : vecteur courant \n",
    "    # M: taille de l'échantillon\n",
    "    \n",
    "# Insérer votre code\n",
    "\n",
    "    s = zeros(n,1)\n",
    "    for i = 1:M\n",
    "        A = noise*randn(m,n) + Abar\n",
    "        b = noise*randn(m,1) + bbar\n",
    "        s = s + subgrad(A,b,xs)\n",
    "    end\n",
    "    return s/M\n",
    "# Fin insérer code\n",
    "\n",
    "end\n"
   ]
  },
  {
   "cell_type": "markdown",
   "metadata": {
    "slideshow": {
     "slide_type": "fragment"
    }
   },
   "source": [
    "**Question 6 :** Comparer les courbes de convergence du problème déterministe $$ \\min_x f(x) = \\max_{i=1\\dots m}|\\text{E} (a_i)^Tx-\\text{E} (b_i) |,$$ et du problème stochastique obtenu avec $M=10,100,1000$ échantillons. Donnez la valeur minimale de $f$."
   ]
  },
  {
   "cell_type": "code",
   "execution_count": null,
   "metadata": {
    "slideshow": {
     "slide_type": "slide"
    }
   },
   "outputs": [],
   "source": [
    "# Données\n",
    "Abar=10*ones(m,n)+1*randn(m,n);\n",
    "bbar=10*randn(m,1);\n",
    "\n",
    "#x_0\n",
    "xd = zeros(n,1); # problème déterministe\n",
    "xs = xd; # problème stochastique\n",
    "\n",
    "# Bruit et echantillon\n",
    "M  = 1000;\n",
    "noise  = 4;\n",
    "\n",
    "i = 0;\n",
    "\n",
    "fbestd =1e10; # $f_{best}^0$: cas d'une résolution déterministe\n",
    "fbests =1e10; # $f_{best}^0$: cas d'une résolution stochastique\n",
    "histod =[]; # Suite des itérés f_{best}^k pour le cas d'une résolution déterministe\n",
    "histos =[]; # Suite des itérés f_{best}^k pour le cas d'une résolution stochastique\n",
    "\n",
    "# Insérer votre code\n",
    "\n",
    "itermax = 100\n",
    "while i < itermax\n",
    "    i = i + 1\n",
    "    ak = 1/(i)\n",
    "    #resolution deterministe\n",
    "    xd = xd - ak*subgrad(Abar,bbar,xd);\n",
    "    fxd = findmax(abs.(Abar*xd-bbar))[1]   \n",
    "    if (fxd < fbestd) \n",
    "        fbestd = fxd\n",
    "    end\n",
    "    append!(histod, fbestd)\n",
    "    #résolution stochastique\n",
    "    xs = xs - ak*(subgrads(Abar,bbar,noise,xs,M))\n",
    "    fxs = fvals(Abar,bbar,noise,xs,M) \n",
    "    if (fxs < fbests)\n",
    "        fbests = fxs\n",
    "    end\n",
    "    append!(histos, fbests)\n",
    "end\n",
    "\n",
    "# Fin insérer code\n",
    "#Affichage\n",
    "\n",
    "iter=1:100;\n",
    "hf=[histod,histos];\n",
    "plot(iter,hf,title=\"Convergence curves\",label=[\"Deterministic\" \"Stochastic\"],lw=3)"
   ]
  },
  {
   "cell_type": "markdown",
   "metadata": {
    "slideshow": {
     "slide_type": "fragment"
    }
   },
   "source": [
    "**Question 7 :** Répéter les expériences et comparer les valeurs meilleurs valeurs de f obtenues ($f_{best}$) aprs un nombre fixé d'itérations. Donnez la valeur minimale de $f_{best}$"
   ]
  },
  {
   "cell_type": "code",
   "execution_count": null,
   "metadata": {
    "slideshow": {
     "slide_type": "slide"
    }
   },
   "outputs": [],
   "source": [
    "# Données\n",
    "Abar=10*ones(m,n)+1*randn(m,n);\n",
    "bbar=10*randn(m,1);\n",
    "\n",
    "# x_0\n",
    "xd = zeros(n,1); # résolution déterministe\n",
    "xs = xd;  # résolution stochastique\n",
    "\n",
    "# Bruit et echantillon\n",
    "M  = 1000;\n",
    "noise  = 4;\n",
    "\n",
    "#Nombre d'itérations\n",
    "niter=100;\n",
    "\n",
    "j = 0;\n",
    "\n",
    "\n",
    "fbesttd=[]; # f_{best} pour chaque expériences dans le cas d'une résolution déterministe\n",
    "fbestts=[]; # f_{best} pour chaque expériences dans le cas d'une résolution stochastique\n",
    "\n",
    "for nexp=1:20\n",
    "    # Répétition des expériences\n",
    "    fbestd =1e10; # $f_{best}^0$: cas d'une résolution déterministe\n",
    "    fbests =1e10; # $f_{best}^0$: cas d'une résolution stochastique    \n",
    "    # Insérer votre code\n",
    "    itermax = 100\n",
    "    xdk = xd; \n",
    "    xsk = xs;\n",
    "    i=0\n",
    "    while i < itermax\n",
    "        i = i + 1\n",
    "        ak = 1/(i)\n",
    "        #resolution deterministe\n",
    "        xd = xd - ak*subgrad(Abar,bbar,xd);\n",
    "        fxd = findmax(abs.(Abar*xd-bbar))[1]   \n",
    "        if (fxd < fbestd) \n",
    "            fbestd = fxd\n",
    "        end\n",
    "        #résolution stochastique\n",
    "        xs = xs - ak*(subgrads(Abar,bbar,noise,xs,M))\n",
    "        fxs = fvals(Abar,bbar,noise,xs,M) \n",
    "        if (fxs < fbests)\n",
    "            fbests = fxs\n",
    "        end\n",
    "    end\n",
    "        append!(fbesttd,fbestd)\n",
    "        append!(fbestts,fbests)\n",
    "# Fin insérer code\n",
    "end\n",
    "\n",
    "#Affichage\n",
    "\n",
    "iter=1:20;\n",
    "hf=[fbesttd,fbestts];\n",
    "plot(iter,hf,title=\"Convergence curves\",label=[\"Deterministic\" \"Stochastic\"],lw=3)"
   ]
  },
  {
   "cell_type": "code",
   "execution_count": null,
   "metadata": {},
   "outputs": [],
   "source": []
  }
 ],
 "metadata": {
  "anaconda-cloud": {},
  "celltoolbar": "Slideshow",
  "kernelspec": {
   "display_name": "Julia 1.8.5",
   "language": "julia",
   "name": "julia-1.8"
  },
  "language_info": {
   "file_extension": ".jl",
   "mimetype": "application/julia",
   "name": "julia",
   "version": "1.8.5"
  },
  "widgets": {
   "application/vnd.jupyter.widget-state+json": {
    "state": {},
    "version_major": 2,
    "version_minor": 0
   }
  }
 },
 "nbformat": 4,
 "nbformat_minor": 4
}
